{
 "cells": [
  {
   "cell_type": "code",
   "execution_count": 46,
   "id": "6ec0ca6f",
   "metadata": {},
   "outputs": [],
   "source": [
    "import numpy as np\n",
    "import pandas as pd\n",
    "from sklearn.metrics.pairwise import cosine_similarity\n",
    "\n",
    "# pd.set_option('display.max_columns', None)     # Show all columns\n",
    "import pandas as pd\n",
    "\n",
    "pd.set_option('display.max_columns', None)     # Show all columns\n",
    "pd.set_option('display.expand_frame_repr', False)  # Prevent wrapping\n",
    "pd.set_option('display.width', 1000)           # Force wide display\n",
    "\n"
   ]
  },
  {
   "cell_type": "code",
   "execution_count": null,
   "id": "4a794168",
   "metadata": {},
   "outputs": [],
   "source": []
  },
  {
   "cell_type": "code",
   "execution_count": 47,
   "id": "0fd2a755",
   "metadata": {},
   "outputs": [
    {
     "name": "stderr",
     "output_type": "stream",
     "text": [
      "C:\\Users\\premp\\AppData\\Local\\Temp\\ipykernel_11784\\357919912.py:1: DtypeWarning: Columns (3) have mixed types. Specify dtype option on import or set low_memory=False.\n",
      "  books = pd.read_csv('E:/Book Reccomendation/archive/Books.csv')\n"
     ]
    },
    {
     "data": {
      "text/html": [
       "<div>\n",
       "<style scoped>\n",
       "    .dataframe tbody tr th:only-of-type {\n",
       "        vertical-align: middle;\n",
       "    }\n",
       "\n",
       "    .dataframe tbody tr th {\n",
       "        vertical-align: top;\n",
       "    }\n",
       "\n",
       "    .dataframe thead th {\n",
       "        text-align: right;\n",
       "    }\n",
       "</style>\n",
       "<table border=\"1\" class=\"dataframe\">\n",
       "  <thead>\n",
       "    <tr style=\"text-align: right;\">\n",
       "      <th></th>\n",
       "      <th>ISBN</th>\n",
       "      <th>Book-Title</th>\n",
       "      <th>Book-Author</th>\n",
       "      <th>Year-Of-Publication</th>\n",
       "      <th>Publisher</th>\n",
       "      <th>Image-URL-S</th>\n",
       "      <th>Image-URL-M</th>\n",
       "      <th>Image-URL-L</th>\n",
       "    </tr>\n",
       "  </thead>\n",
       "  <tbody>\n",
       "    <tr>\n",
       "      <th>0</th>\n",
       "      <td>0195153448</td>\n",
       "      <td>Classical Mythology</td>\n",
       "      <td>Mark P. O. Morford</td>\n",
       "      <td>2002</td>\n",
       "      <td>Oxford University Press</td>\n",
       "      <td>http://images.amazon.com/images/P/0195153448.0...</td>\n",
       "      <td>http://images.amazon.com/images/P/0195153448.0...</td>\n",
       "      <td>http://images.amazon.com/images/P/0195153448.0...</td>\n",
       "    </tr>\n",
       "    <tr>\n",
       "      <th>1</th>\n",
       "      <td>0002005018</td>\n",
       "      <td>Clara Callan</td>\n",
       "      <td>Richard Bruce Wright</td>\n",
       "      <td>2001</td>\n",
       "      <td>HarperFlamingo Canada</td>\n",
       "      <td>http://images.amazon.com/images/P/0002005018.0...</td>\n",
       "      <td>http://images.amazon.com/images/P/0002005018.0...</td>\n",
       "      <td>http://images.amazon.com/images/P/0002005018.0...</td>\n",
       "    </tr>\n",
       "    <tr>\n",
       "      <th>2</th>\n",
       "      <td>0060973129</td>\n",
       "      <td>Decision in Normandy</td>\n",
       "      <td>Carlo D'Este</td>\n",
       "      <td>1991</td>\n",
       "      <td>HarperPerennial</td>\n",
       "      <td>http://images.amazon.com/images/P/0060973129.0...</td>\n",
       "      <td>http://images.amazon.com/images/P/0060973129.0...</td>\n",
       "      <td>http://images.amazon.com/images/P/0060973129.0...</td>\n",
       "    </tr>\n",
       "    <tr>\n",
       "      <th>3</th>\n",
       "      <td>0374157065</td>\n",
       "      <td>Flu: The Story of the Great Influenza Pandemic...</td>\n",
       "      <td>Gina Bari Kolata</td>\n",
       "      <td>1999</td>\n",
       "      <td>Farrar Straus Giroux</td>\n",
       "      <td>http://images.amazon.com/images/P/0374157065.0...</td>\n",
       "      <td>http://images.amazon.com/images/P/0374157065.0...</td>\n",
       "      <td>http://images.amazon.com/images/P/0374157065.0...</td>\n",
       "    </tr>\n",
       "    <tr>\n",
       "      <th>4</th>\n",
       "      <td>0393045218</td>\n",
       "      <td>The Mummies of Urumchi</td>\n",
       "      <td>E. J. W. Barber</td>\n",
       "      <td>1999</td>\n",
       "      <td>W. W. Norton &amp;amp; Company</td>\n",
       "      <td>http://images.amazon.com/images/P/0393045218.0...</td>\n",
       "      <td>http://images.amazon.com/images/P/0393045218.0...</td>\n",
       "      <td>http://images.amazon.com/images/P/0393045218.0...</td>\n",
       "    </tr>\n",
       "  </tbody>\n",
       "</table>\n",
       "</div>"
      ],
      "text/plain": [
       "         ISBN                                         Book-Title           Book-Author Year-Of-Publication                   Publisher                                        Image-URL-S                                        Image-URL-M                                        Image-URL-L\n",
       "0  0195153448                                Classical Mythology    Mark P. O. Morford                2002     Oxford University Press  http://images.amazon.com/images/P/0195153448.0...  http://images.amazon.com/images/P/0195153448.0...  http://images.amazon.com/images/P/0195153448.0...\n",
       "1  0002005018                                       Clara Callan  Richard Bruce Wright                2001       HarperFlamingo Canada  http://images.amazon.com/images/P/0002005018.0...  http://images.amazon.com/images/P/0002005018.0...  http://images.amazon.com/images/P/0002005018.0...\n",
       "2  0060973129                               Decision in Normandy          Carlo D'Este                1991             HarperPerennial  http://images.amazon.com/images/P/0060973129.0...  http://images.amazon.com/images/P/0060973129.0...  http://images.amazon.com/images/P/0060973129.0...\n",
       "3  0374157065  Flu: The Story of the Great Influenza Pandemic...      Gina Bari Kolata                1999        Farrar Straus Giroux  http://images.amazon.com/images/P/0374157065.0...  http://images.amazon.com/images/P/0374157065.0...  http://images.amazon.com/images/P/0374157065.0...\n",
       "4  0393045218                             The Mummies of Urumchi       E. J. W. Barber                1999  W. W. Norton &amp; Company  http://images.amazon.com/images/P/0393045218.0...  http://images.amazon.com/images/P/0393045218.0...  http://images.amazon.com/images/P/0393045218.0..."
      ]
     },
     "execution_count": 47,
     "metadata": {},
     "output_type": "execute_result"
    }
   ],
   "source": [
    "books = pd.read_csv('E:/Book Reccomendation/archive/Books.csv')\n",
    "users = pd.read_csv('E:/Book Reccomendation/archive/Users.csv')\n",
    "ratings = pd.read_csv('E:/Book Reccomendation/archive/Ratings.csv')\n",
    "\n",
    "books.head()"
   ]
  },
  {
   "cell_type": "code",
   "execution_count": 48,
   "id": "ef5898d1",
   "metadata": {},
   "outputs": [
    {
     "data": {
      "text/plain": [
       "0         http://images.amazon.com/images/P/0195153448.0...\n",
       "1         http://images.amazon.com/images/P/0002005018.0...\n",
       "2         http://images.amazon.com/images/P/0060973129.0...\n",
       "3         http://images.amazon.com/images/P/0374157065.0...\n",
       "4         http://images.amazon.com/images/P/0393045218.0...\n",
       "                                ...                        \n",
       "271355    http://images.amazon.com/images/P/0440400988.0...\n",
       "271356    http://images.amazon.com/images/P/0525447644.0...\n",
       "271357    http://images.amazon.com/images/P/006008667X.0...\n",
       "271358    http://images.amazon.com/images/P/0192126040.0...\n",
       "271359    http://images.amazon.com/images/P/0767409752.0...\n",
       "Name: Image-URL-S, Length: 271360, dtype: object"
      ]
     },
     "execution_count": 48,
     "metadata": {},
     "output_type": "execute_result"
    }
   ],
   "source": [
    "books[\"Image-URL-S\"]"
   ]
  },
  {
   "cell_type": "code",
   "execution_count": 49,
   "id": "cc0c5cda",
   "metadata": {},
   "outputs": [
    {
     "name": "stdout",
     "output_type": "stream",
     "text": [
      "   User-ID                            Location   Age\n",
      "0        1                  nyc, new york, usa   NaN\n",
      "1        2           stockton, california, usa  18.0\n",
      "2        3     moscow, yukon territory, russia   NaN\n",
      "3        4           porto, v.n.gaia, portugal  17.0\n",
      "4        5  farnborough, hants, united kingdom   NaN \n",
      "\n",
      "\n",
      "   User-ID        ISBN  Book-Rating\n",
      "0   276725  034545104X            0\n",
      "1   276726  0155061224            5\n",
      "2   276727  0446520802            0\n",
      "3   276729  052165615X            3\n",
      "4   276729  0521795028            6\n"
     ]
    }
   ],
   "source": [
    "print(users.head(),'\\n\\n')\n",
    "print(ratings.head())\n"
   ]
  },
  {
   "cell_type": "code",
   "execution_count": 50,
   "id": "be8f7ce2",
   "metadata": {},
   "outputs": [
    {
     "name": "stdout",
     "output_type": "stream",
     "text": [
      "(271360, 8)\n",
      "(278858, 3)\n",
      "(1149780, 3)\n"
     ]
    }
   ],
   "source": [
    "print(books.shape)\n",
    "print(users.shape)\n",
    "print(ratings.shape)  "
   ]
  },
  {
   "cell_type": "markdown",
   "id": "a6cd3adb",
   "metadata": {},
   "source": [
    "missing values\n"
   ]
  },
  {
   "cell_type": "code",
   "execution_count": 51,
   "id": "1ac11a53",
   "metadata": {},
   "outputs": [
    {
     "data": {
      "text/plain": [
       "Image-URL-L            3\n",
       "Book-Author            2\n",
       "Publisher              2\n",
       "ISBN                   0\n",
       "Year-Of-Publication    0\n",
       "Book-Title             0\n",
       "Image-URL-S            0\n",
       "Image-URL-M            0\n",
       "dtype: int64"
      ]
     },
     "execution_count": 51,
     "metadata": {},
     "output_type": "execute_result"
    }
   ],
   "source": [
    "books.isnull().sum().sort_values(ascending=False)"
   ]
  },
  {
   "cell_type": "code",
   "execution_count": 52,
   "id": "9fc65375",
   "metadata": {},
   "outputs": [
    {
     "data": {
      "text/plain": [
       "Publisher\n",
       "Harlequin                                               7535\n",
       "Silhouette                                              4220\n",
       "Pocket                                                  3905\n",
       "Ballantine Books                                        3783\n",
       "Bantam Books                                            3646\n",
       "                                                        ... \n",
       "school and library distribution by Silver Burdett Co       1\n",
       "scholastic Inc.                                            1\n",
       "scholastic Apple Paperbacks                                1\n",
       "rossway Books                                              1\n",
       "powerHouse Books                                           1\n",
       "Name: count, Length: 16807, dtype: int64"
      ]
     },
     "execution_count": 52,
     "metadata": {},
     "output_type": "execute_result"
    }
   ],
   "source": [
    "books.value_counts('Publisher')"
   ]
  },
  {
   "cell_type": "code",
   "execution_count": 53,
   "id": "6588012f",
   "metadata": {},
   "outputs": [
    {
     "data": {
      "text/plain": [
       "User-ID          0\n",
       "Location         0\n",
       "Age         110762\n",
       "dtype: int64"
      ]
     },
     "execution_count": 53,
     "metadata": {},
     "output_type": "execute_result"
    }
   ],
   "source": [
    "users.isnull().sum()"
   ]
  },
  {
   "cell_type": "code",
   "execution_count": 54,
   "id": "eb6f8593",
   "metadata": {},
   "outputs": [
    {
     "data": {
      "text/plain": [
       "User-ID        0\n",
       "ISBN           0\n",
       "Book-Rating    0\n",
       "dtype: int64"
      ]
     },
     "execution_count": 54,
     "metadata": {},
     "output_type": "execute_result"
    }
   ],
   "source": [
    "ratings.isnull().sum()  "
   ]
  },
  {
   "cell_type": "markdown",
   "id": "fd7cdd4e",
   "metadata": {},
   "source": [
    "Recommendations using popularity\n"
   ]
  },
  {
   "cell_type": "code",
   "execution_count": 55,
   "id": "669ff967",
   "metadata": {},
   "outputs": [
    {
     "name": "stdout",
     "output_type": "stream",
     "text": [
      "Index(['ISBN', 'Book-Title', 'Book-Author', 'Year-Of-Publication', 'Publisher', 'Image-URL-S', 'Image-URL-M', 'Image-URL-L'], dtype='object')\n",
      "Index(['User-ID', 'ISBN', 'Book-Rating', 'Book-Title', 'Book-Author', 'Year-Of-Publication', 'Publisher', 'Image-URL-S', 'Image-URL-M', 'Image-URL-L'], dtype='object')\n"
     ]
    },
    {
     "data": {
      "text/plain": [
       "(1031136, 10)"
      ]
     },
     "execution_count": 55,
     "metadata": {},
     "output_type": "execute_result"
    }
   ],
   "source": [
    "rate_bname = ratings.merge(books,on='ISBN')\n",
    "print(books.columns)\n",
    "print(rate_bname.columns)\n",
    "rate_bname.shape"
   ]
  },
  {
   "cell_type": "code",
   "execution_count": 56,
   "id": "48dcee66",
   "metadata": {},
   "outputs": [
    {
     "name": "stdout",
     "output_type": "stream",
     "text": [
      "                                               Book-Title  Num-Ratings\n",
      "0        A Light in the Storm: The Civil War Diary of ...            4\n",
      "1                                   Always Have Popsicles            1\n",
      "2                    Apple Magic (The Collector's series)            1\n",
      "3        Ask Lily (Young Women of Faith: Lily Series, ...            1\n",
      "4        Beyond IBM: Leadership Marketing and Finance ...            1\n",
      "...                                                   ...          ...\n",
      "241066                                      Ã?Â?lpiraten.            2\n",
      "241067                     Ã?Â?rger mit Produkt X. Roman.            4\n",
      "241068                                Ã?Â?sterlich leben.            1\n",
      "241069                              Ã?Â?stlich der Berge.            3\n",
      "241070                                  Ã?Â?thique en toc            2\n",
      "\n",
      "[241071 rows x 2 columns] \n",
      "\n",
      "\n"
     ]
    }
   ],
   "source": [
    "num_ratings = rate_bname.groupby('Book-Title').count()['Book-Rating'].reset_index() #groupby does not contain duplicates\n",
    "num_ratings.rename(columns={'Book-Rating': 'Num-Ratings'},inplace=True)\n",
    "print((num_ratings),'\\n\\n')\n"
   ]
  },
  {
   "cell_type": "code",
   "execution_count": 57,
   "id": "57ba1e26",
   "metadata": {},
   "outputs": [
    {
     "data": {
      "text/html": [
       "<div>\n",
       "<style scoped>\n",
       "    .dataframe tbody tr th:only-of-type {\n",
       "        vertical-align: middle;\n",
       "    }\n",
       "\n",
       "    .dataframe tbody tr th {\n",
       "        vertical-align: top;\n",
       "    }\n",
       "\n",
       "    .dataframe thead th {\n",
       "        text-align: right;\n",
       "    }\n",
       "</style>\n",
       "<table border=\"1\" class=\"dataframe\">\n",
       "  <thead>\n",
       "    <tr style=\"text-align: right;\">\n",
       "      <th></th>\n",
       "      <th>Book-Title</th>\n",
       "      <th>avg_rating</th>\n",
       "    </tr>\n",
       "  </thead>\n",
       "  <tbody>\n",
       "    <tr>\n",
       "      <th>0</th>\n",
       "      <td>A Light in the Storm: The Civil War Diary of ...</td>\n",
       "      <td>2.250000</td>\n",
       "    </tr>\n",
       "    <tr>\n",
       "      <th>1</th>\n",
       "      <td>Always Have Popsicles</td>\n",
       "      <td>0.000000</td>\n",
       "    </tr>\n",
       "    <tr>\n",
       "      <th>2</th>\n",
       "      <td>Apple Magic (The Collector's series)</td>\n",
       "      <td>0.000000</td>\n",
       "    </tr>\n",
       "    <tr>\n",
       "      <th>3</th>\n",
       "      <td>Ask Lily (Young Women of Faith: Lily Series, ...</td>\n",
       "      <td>8.000000</td>\n",
       "    </tr>\n",
       "    <tr>\n",
       "      <th>4</th>\n",
       "      <td>Beyond IBM: Leadership Marketing and Finance ...</td>\n",
       "      <td>0.000000</td>\n",
       "    </tr>\n",
       "    <tr>\n",
       "      <th>...</th>\n",
       "      <td>...</td>\n",
       "      <td>...</td>\n",
       "    </tr>\n",
       "    <tr>\n",
       "      <th>241066</th>\n",
       "      <td>Ã?Â?lpiraten.</td>\n",
       "      <td>0.000000</td>\n",
       "    </tr>\n",
       "    <tr>\n",
       "      <th>241067</th>\n",
       "      <td>Ã?Â?rger mit Produkt X. Roman.</td>\n",
       "      <td>5.250000</td>\n",
       "    </tr>\n",
       "    <tr>\n",
       "      <th>241068</th>\n",
       "      <td>Ã?Â?sterlich leben.</td>\n",
       "      <td>7.000000</td>\n",
       "    </tr>\n",
       "    <tr>\n",
       "      <th>241069</th>\n",
       "      <td>Ã?Â?stlich der Berge.</td>\n",
       "      <td>2.666667</td>\n",
       "    </tr>\n",
       "    <tr>\n",
       "      <th>241070</th>\n",
       "      <td>Ã?Â?thique en toc</td>\n",
       "      <td>4.000000</td>\n",
       "    </tr>\n",
       "  </tbody>\n",
       "</table>\n",
       "<p>241071 rows × 2 columns</p>\n",
       "</div>"
      ],
      "text/plain": [
       "                                               Book-Title  avg_rating\n",
       "0        A Light in the Storm: The Civil War Diary of ...    2.250000\n",
       "1                                   Always Have Popsicles    0.000000\n",
       "2                    Apple Magic (The Collector's series)    0.000000\n",
       "3        Ask Lily (Young Women of Faith: Lily Series, ...    8.000000\n",
       "4        Beyond IBM: Leadership Marketing and Finance ...    0.000000\n",
       "...                                                   ...         ...\n",
       "241066                                      Ã?Â?lpiraten.    0.000000\n",
       "241067                     Ã?Â?rger mit Produkt X. Roman.    5.250000\n",
       "241068                                Ã?Â?sterlich leben.    7.000000\n",
       "241069                              Ã?Â?stlich der Berge.    2.666667\n",
       "241070                                  Ã?Â?thique en toc    4.000000\n",
       "\n",
       "[241071 rows x 2 columns]"
      ]
     },
     "execution_count": 57,
     "metadata": {},
     "output_type": "execute_result"
    }
   ],
   "source": [
    "avg_rating = rate_bname.groupby('Book-Title')['Book-Rating'].mean().reset_index()\n",
    "avg_rating.rename(columns={'Book-Rating':'avg_rating'},inplace=True)\n",
    "avg_rating\n"
   ]
  },
  {
   "cell_type": "code",
   "execution_count": 58,
   "id": "6db30516",
   "metadata": {},
   "outputs": [
    {
     "data": {
      "text/html": [
       "<div>\n",
       "<style scoped>\n",
       "    .dataframe tbody tr th:only-of-type {\n",
       "        vertical-align: middle;\n",
       "    }\n",
       "\n",
       "    .dataframe tbody tr th {\n",
       "        vertical-align: top;\n",
       "    }\n",
       "\n",
       "    .dataframe thead th {\n",
       "        text-align: right;\n",
       "    }\n",
       "</style>\n",
       "<table border=\"1\" class=\"dataframe\">\n",
       "  <thead>\n",
       "    <tr style=\"text-align: right;\">\n",
       "      <th></th>\n",
       "      <th>Book-Title</th>\n",
       "      <th>Num-Ratings</th>\n",
       "      <th>avg_rating</th>\n",
       "    </tr>\n",
       "  </thead>\n",
       "  <tbody>\n",
       "    <tr>\n",
       "      <th>0</th>\n",
       "      <td>A Light in the Storm: The Civil War Diary of ...</td>\n",
       "      <td>4</td>\n",
       "      <td>2.250000</td>\n",
       "    </tr>\n",
       "    <tr>\n",
       "      <th>1</th>\n",
       "      <td>Always Have Popsicles</td>\n",
       "      <td>1</td>\n",
       "      <td>0.000000</td>\n",
       "    </tr>\n",
       "    <tr>\n",
       "      <th>2</th>\n",
       "      <td>Apple Magic (The Collector's series)</td>\n",
       "      <td>1</td>\n",
       "      <td>0.000000</td>\n",
       "    </tr>\n",
       "    <tr>\n",
       "      <th>3</th>\n",
       "      <td>Ask Lily (Young Women of Faith: Lily Series, ...</td>\n",
       "      <td>1</td>\n",
       "      <td>8.000000</td>\n",
       "    </tr>\n",
       "    <tr>\n",
       "      <th>4</th>\n",
       "      <td>Beyond IBM: Leadership Marketing and Finance ...</td>\n",
       "      <td>1</td>\n",
       "      <td>0.000000</td>\n",
       "    </tr>\n",
       "    <tr>\n",
       "      <th>...</th>\n",
       "      <td>...</td>\n",
       "      <td>...</td>\n",
       "      <td>...</td>\n",
       "    </tr>\n",
       "    <tr>\n",
       "      <th>241066</th>\n",
       "      <td>Ã?Â?lpiraten.</td>\n",
       "      <td>2</td>\n",
       "      <td>0.000000</td>\n",
       "    </tr>\n",
       "    <tr>\n",
       "      <th>241067</th>\n",
       "      <td>Ã?Â?rger mit Produkt X. Roman.</td>\n",
       "      <td>4</td>\n",
       "      <td>5.250000</td>\n",
       "    </tr>\n",
       "    <tr>\n",
       "      <th>241068</th>\n",
       "      <td>Ã?Â?sterlich leben.</td>\n",
       "      <td>1</td>\n",
       "      <td>7.000000</td>\n",
       "    </tr>\n",
       "    <tr>\n",
       "      <th>241069</th>\n",
       "      <td>Ã?Â?stlich der Berge.</td>\n",
       "      <td>3</td>\n",
       "      <td>2.666667</td>\n",
       "    </tr>\n",
       "    <tr>\n",
       "      <th>241070</th>\n",
       "      <td>Ã?Â?thique en toc</td>\n",
       "      <td>2</td>\n",
       "      <td>4.000000</td>\n",
       "    </tr>\n",
       "  </tbody>\n",
       "</table>\n",
       "<p>241071 rows × 3 columns</p>\n",
       "</div>"
      ],
      "text/plain": [
       "                                               Book-Title  Num-Ratings  avg_rating\n",
       "0        A Light in the Storm: The Civil War Diary of ...            4    2.250000\n",
       "1                                   Always Have Popsicles            1    0.000000\n",
       "2                    Apple Magic (The Collector's series)            1    0.000000\n",
       "3        Ask Lily (Young Women of Faith: Lily Series, ...            1    8.000000\n",
       "4        Beyond IBM: Leadership Marketing and Finance ...            1    0.000000\n",
       "...                                                   ...          ...         ...\n",
       "241066                                      Ã?Â?lpiraten.            2    0.000000\n",
       "241067                     Ã?Â?rger mit Produkt X. Roman.            4    5.250000\n",
       "241068                                Ã?Â?sterlich leben.            1    7.000000\n",
       "241069                              Ã?Â?stlich der Berge.            3    2.666667\n",
       "241070                                  Ã?Â?thique en toc            2    4.000000\n",
       "\n",
       "[241071 rows x 3 columns]"
      ]
     },
     "execution_count": 58,
     "metadata": {},
     "output_type": "execute_result"
    }
   ],
   "source": [
    "popular_books = num_ratings.merge(avg_rating,on='Book-Title')\n",
    "popular_books"
   ]
  },
  {
   "cell_type": "code",
   "execution_count": 59,
   "id": "364f1c29",
   "metadata": {},
   "outputs": [
    {
     "name": "stdout",
     "output_type": "stream",
     "text": [
      "                                               Book-Title  Num-Ratings  avg_rating\n",
      "80434   Harry Potter and the Prisoner of Azkaban (Book 3)          428    5.852804\n",
      "80422        Harry Potter and the Goblet of Fire (Book 4)          387    5.824289\n",
      "80441      Harry Potter and the Sorcerer's Stone (Book 1)          278    5.737410\n",
      "80426   Harry Potter and the Order of the Phoenix (Boo...          347    5.501441\n",
      "80414    Harry Potter and the Chamber of Secrets (Book 2)          556    5.183453\n",
      "191612  The Hobbit : The Enchanting Prelude to The Lor...          281    5.007117\n",
      "187377  The Fellowship of the Ring (The Lord of the Ri...          368    4.948370\n",
      "80445   Harry Potter and the Sorcerer's Stone (Harry P...          575    4.895652\n",
      "211384     The Two Towers (The Lord of the Rings, Part 2)          260    4.880769\n",
      "219741                              To Kill a Mockingbird          510    4.700000\n",
      "183573                                  The Da Vinci Code          898    4.642539\n",
      "187880                 The Five People You Meet in Heaven          430    4.551163\n",
      "180556                             The Catcher in the Rye          449    4.545657\n",
      "196326                          The Lovely Bones: A Novel         1295    4.468726\n",
      "764                                                  1984          284    4.454225\n",
      "144165                           Prodigal Summer: A Novel          253    4.450593\n",
      "128670                                         Neverwhere          265    4.449057\n",
      "206502                            The Secret Life of Bees          774    4.447028\n",
      "168719  Stupid White Men ...and Other Sorry Excuses fo...          283    4.356890\n",
      "223135  Tuesdays with Morrie: An Old Man, a Young Man,...          493    4.354970\n",
      "204387                The Red Tent (Bestselling Backlist)          723    4.334716\n",
      "191589               The Hitchhiker's Guide to the Galaxy          268    4.328358\n",
      "129379   Nickel and Dimed: On (Not) Getting By in America          335    4.289552\n",
      "93381                                       Into the Wild          252    4.273810\n",
      "63867                                      Fahrenheit 451          409    4.264059\n",
      "74750                           Girl with a Pearl Earring          526    4.218631\n",
      "136145                                          Outlander          283    4.173145\n",
      "233370  Where the Heart Is (Oprah's Book Club (Paperba...          585    4.105983\n",
      "156102                     Seabiscuit: An American Legend          275    4.098182\n",
      "107962                                         Life of Pi          664    4.088855\n",
      "176845                                     The Bean Trees          389    4.087404\n",
      "2281    A Child Called \\It\\\": One Child's Courage to S...          265    4.086792\n",
      "8434                                       ANGELA'S ASHES          279    4.075269\n",
      "76343                                         Good in Bed          490    4.055102\n",
      "64931   Fast Food Nation: The Dark Side of the All-Ame...          321    4.037383\n",
      "12700                                       American Gods          302    4.006623\n",
      "161645                                 Skipping Christmas          322    4.006211\n",
      "105777  Left Behind: A Novel of the Earth's Last Days ...          318    4.003145\n",
      "189551    The Golden Compass (His Dark Materials, Book 1)          336    4.000000\n",
      "181679                                   The Color Purple          314    3.964968\n",
      "160336                               Silence of the Lambs          256    3.960938\n",
      "8752                                          About a Boy          262    3.900763\n",
      "158138                  Seven Up (A Stephanie Plum Novel)          278    3.888489\n",
      "175097  The Alchemist: A Fable About Following Your Dream          266    3.875940\n",
      "80069   Hard Eight : A Stephanie Plum Novel (A Stephan...          269    3.825279\n",
      "170101                       Suzanne's Diary for Nicholas          457    3.820569\n",
      "111073                                  Lord of the Flies          259    3.818533\n",
      "5664                              A Prayer for Owen Meany          413    3.796610\n",
      "212070   The Vampire Lestat (Vampire Chronicles, Book II)          301    3.777409\n",
      "233851       White Oleander : A Novel (Oprah's Book Club)          356    3.772472 \n",
      "\n",
      "\n",
      "(50, 3) \n",
      "\n",
      "\n"
     ]
    }
   ],
   "source": [
    "# get top 50 popular books\n",
    "popular_books = popular_books[popular_books['Num-Ratings'] >= 250].sort_values('avg_rating',ascending=False).head(50)\n",
    "print(popular_books,'\\n\\n')\n",
    "print(popular_books.shape,'\\n\\n')"
   ]
  },
  {
   "cell_type": "code",
   "execution_count": 60,
   "id": "1449942c",
   "metadata": {},
   "outputs": [
    {
     "ename": "KeyError",
     "evalue": "\"['Book-Author_x', 'Image-URL-M_x'] not in index\"",
     "output_type": "error",
     "traceback": [
      "\u001b[1;31m---------------------------------------------------------------------------\u001b[0m",
      "\u001b[1;31mKeyError\u001b[0m                                  Traceback (most recent call last)",
      "Cell \u001b[1;32mIn[60], line 4\u001b[0m\n\u001b[0;32m      1\u001b[0m popular_books \u001b[38;5;241m=\u001b[39m books\u001b[38;5;241m.\u001b[39mmerge(popular_books, on\u001b[38;5;241m=\u001b[39m\u001b[38;5;124m'\u001b[39m\u001b[38;5;124mBook-Title\u001b[39m\u001b[38;5;124m'\u001b[39m)\u001b[38;5;241m.\u001b[39mdrop_duplicates(\u001b[38;5;124m'\u001b[39m\u001b[38;5;124mBook-Title\u001b[39m\u001b[38;5;124m'\u001b[39m)\n\u001b[0;32m      3\u001b[0m \u001b[38;5;66;03m# Use the correct column names after merge (e.g., 'Book-Author_x', 'Image-URL-M_x')\u001b[39;00m\n\u001b[1;32m----> 4\u001b[0m popular_books \u001b[38;5;241m=\u001b[39m \u001b[43mpopular_books\u001b[49m\u001b[43m[\u001b[49m\u001b[43m[\u001b[49m\u001b[38;5;124;43m'\u001b[39;49m\u001b[38;5;124;43mBook-Title\u001b[39;49m\u001b[38;5;124;43m'\u001b[39;49m\u001b[43m,\u001b[49m\u001b[43m \u001b[49m\u001b[38;5;124;43m'\u001b[39;49m\u001b[38;5;124;43mBook-Author_x\u001b[39;49m\u001b[38;5;124;43m'\u001b[39;49m\u001b[43m,\u001b[49m\u001b[43m \u001b[49m\u001b[38;5;124;43m'\u001b[39;49m\u001b[38;5;124;43mImage-URL-M_x\u001b[39;49m\u001b[38;5;124;43m'\u001b[39;49m\u001b[43m,\u001b[49m\u001b[43m \u001b[49m\u001b[38;5;124;43m'\u001b[39;49m\u001b[38;5;124;43mNum-Ratings\u001b[39;49m\u001b[38;5;124;43m'\u001b[39;49m\u001b[43m,\u001b[49m\u001b[43m \u001b[49m\u001b[38;5;124;43m'\u001b[39;49m\u001b[38;5;124;43mavg_rating\u001b[39;49m\u001b[38;5;124;43m'\u001b[39;49m\u001b[43m]\u001b[49m\u001b[43m]\u001b[49m\n\u001b[0;32m      5\u001b[0m \u001b[38;5;66;03m# Optionally, rename columns for clarity\u001b[39;00m\n\u001b[0;32m      6\u001b[0m popular_books\u001b[38;5;241m.\u001b[39mrename(columns\u001b[38;5;241m=\u001b[39m{\u001b[38;5;124m'\u001b[39m\u001b[38;5;124mBook-Author_x\u001b[39m\u001b[38;5;124m'\u001b[39m: \u001b[38;5;124m'\u001b[39m\u001b[38;5;124mBook-Author\u001b[39m\u001b[38;5;124m'\u001b[39m, \u001b[38;5;124m'\u001b[39m\u001b[38;5;124mImage-URL-M_x\u001b[39m\u001b[38;5;124m'\u001b[39m: \u001b[38;5;124m'\u001b[39m\u001b[38;5;124mImage-URL-M\u001b[39m\u001b[38;5;124m'\u001b[39m}, inplace\u001b[38;5;241m=\u001b[39m\u001b[38;5;28;01mTrue\u001b[39;00m)\n",
      "File \u001b[1;32me:\\New folder\\envs\\python_ml\\lib\\site-packages\\pandas\\core\\frame.py:4108\u001b[0m, in \u001b[0;36mDataFrame.__getitem__\u001b[1;34m(self, key)\u001b[0m\n\u001b[0;32m   4106\u001b[0m     \u001b[38;5;28;01mif\u001b[39;00m is_iterator(key):\n\u001b[0;32m   4107\u001b[0m         key \u001b[38;5;241m=\u001b[39m \u001b[38;5;28mlist\u001b[39m(key)\n\u001b[1;32m-> 4108\u001b[0m     indexer \u001b[38;5;241m=\u001b[39m \u001b[38;5;28;43mself\u001b[39;49m\u001b[38;5;241;43m.\u001b[39;49m\u001b[43mcolumns\u001b[49m\u001b[38;5;241;43m.\u001b[39;49m\u001b[43m_get_indexer_strict\u001b[49m\u001b[43m(\u001b[49m\u001b[43mkey\u001b[49m\u001b[43m,\u001b[49m\u001b[43m \u001b[49m\u001b[38;5;124;43m\"\u001b[39;49m\u001b[38;5;124;43mcolumns\u001b[39;49m\u001b[38;5;124;43m\"\u001b[39;49m\u001b[43m)\u001b[49m[\u001b[38;5;241m1\u001b[39m]\n\u001b[0;32m   4110\u001b[0m \u001b[38;5;66;03m# take() does not accept boolean indexers\u001b[39;00m\n\u001b[0;32m   4111\u001b[0m \u001b[38;5;28;01mif\u001b[39;00m \u001b[38;5;28mgetattr\u001b[39m(indexer, \u001b[38;5;124m\"\u001b[39m\u001b[38;5;124mdtype\u001b[39m\u001b[38;5;124m\"\u001b[39m, \u001b[38;5;28;01mNone\u001b[39;00m) \u001b[38;5;241m==\u001b[39m \u001b[38;5;28mbool\u001b[39m:\n",
      "File \u001b[1;32me:\\New folder\\envs\\python_ml\\lib\\site-packages\\pandas\\core\\indexes\\base.py:6200\u001b[0m, in \u001b[0;36mIndex._get_indexer_strict\u001b[1;34m(self, key, axis_name)\u001b[0m\n\u001b[0;32m   6197\u001b[0m \u001b[38;5;28;01melse\u001b[39;00m:\n\u001b[0;32m   6198\u001b[0m     keyarr, indexer, new_indexer \u001b[38;5;241m=\u001b[39m \u001b[38;5;28mself\u001b[39m\u001b[38;5;241m.\u001b[39m_reindex_non_unique(keyarr)\n\u001b[1;32m-> 6200\u001b[0m \u001b[38;5;28;43mself\u001b[39;49m\u001b[38;5;241;43m.\u001b[39;49m\u001b[43m_raise_if_missing\u001b[49m\u001b[43m(\u001b[49m\u001b[43mkeyarr\u001b[49m\u001b[43m,\u001b[49m\u001b[43m \u001b[49m\u001b[43mindexer\u001b[49m\u001b[43m,\u001b[49m\u001b[43m \u001b[49m\u001b[43maxis_name\u001b[49m\u001b[43m)\u001b[49m\n\u001b[0;32m   6202\u001b[0m keyarr \u001b[38;5;241m=\u001b[39m \u001b[38;5;28mself\u001b[39m\u001b[38;5;241m.\u001b[39mtake(indexer)\n\u001b[0;32m   6203\u001b[0m \u001b[38;5;28;01mif\u001b[39;00m \u001b[38;5;28misinstance\u001b[39m(key, Index):\n\u001b[0;32m   6204\u001b[0m     \u001b[38;5;66;03m# GH 42790 - Preserve name from an Index\u001b[39;00m\n",
      "File \u001b[1;32me:\\New folder\\envs\\python_ml\\lib\\site-packages\\pandas\\core\\indexes\\base.py:6252\u001b[0m, in \u001b[0;36mIndex._raise_if_missing\u001b[1;34m(self, key, indexer, axis_name)\u001b[0m\n\u001b[0;32m   6249\u001b[0m     \u001b[38;5;28;01mraise\u001b[39;00m \u001b[38;5;167;01mKeyError\u001b[39;00m(\u001b[38;5;124mf\u001b[39m\u001b[38;5;124m\"\u001b[39m\u001b[38;5;124mNone of [\u001b[39m\u001b[38;5;132;01m{\u001b[39;00mkey\u001b[38;5;132;01m}\u001b[39;00m\u001b[38;5;124m] are in the [\u001b[39m\u001b[38;5;132;01m{\u001b[39;00maxis_name\u001b[38;5;132;01m}\u001b[39;00m\u001b[38;5;124m]\u001b[39m\u001b[38;5;124m\"\u001b[39m)\n\u001b[0;32m   6251\u001b[0m not_found \u001b[38;5;241m=\u001b[39m \u001b[38;5;28mlist\u001b[39m(ensure_index(key)[missing_mask\u001b[38;5;241m.\u001b[39mnonzero()[\u001b[38;5;241m0\u001b[39m]]\u001b[38;5;241m.\u001b[39munique())\n\u001b[1;32m-> 6252\u001b[0m \u001b[38;5;28;01mraise\u001b[39;00m \u001b[38;5;167;01mKeyError\u001b[39;00m(\u001b[38;5;124mf\u001b[39m\u001b[38;5;124m\"\u001b[39m\u001b[38;5;132;01m{\u001b[39;00mnot_found\u001b[38;5;132;01m}\u001b[39;00m\u001b[38;5;124m not in index\u001b[39m\u001b[38;5;124m\"\u001b[39m)\n",
      "\u001b[1;31mKeyError\u001b[0m: \"['Book-Author_x', 'Image-URL-M_x'] not in index\""
     ]
    }
   ],
   "source": [
    "popular_books = books.merge(popular_books, on='Book-Title').drop_duplicates('Book-Title')\n",
    "\n",
    "# Use the correct column names after merge (e.g., 'Book-Author_x', 'Image-URL-M_x')\n",
    "popular_books = popular_books[['Book-Title', 'Book-Author_x', 'Image-URL-M_x', 'Num-Ratings', 'avg_rating']]\n",
    "# Optionally, rename columns for clarity\n",
    "popular_books.rename(columns={'Book-Author_x': 'Book-Author', 'Image-URL-M_x': 'Image-URL-M'}, inplace=True)\n",
    "print(popular_books.head())"
   ]
  },
  {
   "cell_type": "markdown",
   "id": "ec9ca3d6",
   "metadata": {},
   "source": [
    "# collabarative Filtering based Reccomendation System\n"
   ]
  },
  {
   "cell_type": "code",
   "execution_count": null,
   "id": "72fa23c2",
   "metadata": {},
   "outputs": [
    {
     "data": {
      "text/plain": [
       "Index([   254,   2276,   2766,   2977,   3363,   4017,   4385,   6251,   6323,   6543,\n",
       "       ...\n",
       "       271705, 273979, 274004, 274061, 274301, 274308, 275970, 277427, 277639, 278418], dtype='int64', name='User-ID', length=816)"
      ]
     },
     "execution_count": 38,
     "metadata": {},
     "output_type": "execute_result"
    }
   ],
   "source": [
    "# users given maore than 200 ratings\n",
    "x = rate_bname.groupby('User-ID').count()['Book-Rating'] >= 200\n",
    "relevent_users = x[x].index\n",
    "relevent_users\n"
   ]
  },
  {
   "cell_type": "code",
   "execution_count": null,
   "id": "539ecbd0",
   "metadata": {},
   "outputs": [
    {
     "name": "stdout",
     "output_type": "stream",
     "text": [
      "         User-ID        ISBN  Book-Rating                                         Book-Title                    Book-Author Year-Of-Publication                             Publisher                                        Image-URL-S                                        Image-URL-M                                        Image-URL-L\n",
      "1150      277427  002542730X           10  Politically Correct Bedtime Stories: Modern Ta...              James Finn Garner                1994             John Wiley &amp; Sons Inc  http://images.amazon.com/images/P/002542730X.0...  http://images.amazon.com/images/P/002542730X.0...  http://images.amazon.com/images/P/002542730X.0...\n",
      "1151      277427  0026217457            0                 Vegetarian Times Complete Cookbook                     Lucy  Moll                1995                 John Wiley &amp; Sons  http://images.amazon.com/images/P/0026217457.0...  http://images.amazon.com/images/P/0026217457.0...  http://images.amazon.com/images/P/0026217457.0...\n",
      "1152      277427  003008685X            8                                           Pioneers          James Fenimore Cooper                1974                      Thomson Learning  http://images.amazon.com/images/P/003008685X.0...  http://images.amazon.com/images/P/003008685X.0...  http://images.amazon.com/images/P/003008685X.0...\n",
      "1153      277427  0030615321            0   Ask for May, Settle for June (A Doonesbury book)                  G. B. Trudeau                1982                   Henry Holt &amp; Co  http://images.amazon.com/images/P/0030615321.0...  http://images.amazon.com/images/P/0030615321.0...  http://images.amazon.com/images/P/0030615321.0...\n",
      "1154      277427  0060002050            0                  On a Wicked Dawn (Cynster Novels)              Stephanie Laurens                2002                            Avon Books  http://images.amazon.com/images/P/0060002050.0...  http://images.amazon.com/images/P/0060002050.0...  http://images.amazon.com/images/P/0060002050.0...\n",
      "...          ...         ...          ...                                                ...                            ...                 ...                                   ...                                                ...                                                ...                                                ...\n",
      "1029357   275970  1931868123            0  There's a Porcupine in My Outhouse: Misadventu...                   Mike Tougias                2002                    Capital Books (VA)  http://images.amazon.com/images/P/1931868123.0...  http://images.amazon.com/images/P/1931868123.0...  http://images.amazon.com/images/P/1931868123.0...\n",
      "1029358   275970  3411086211           10                                         Die Biene.  Sybil GrÃ?Â¤fin SchÃ?Â¶nfeldt                1993  Bibliographisches Institut, Mannheim  http://images.amazon.com/images/P/3411086211.0...  http://images.amazon.com/images/P/3411086211.0...  http://images.amazon.com/images/P/3411086211.0...\n",
      "1029359   275970  3829021860            0                                     The Penis Book                   Joseph Cohen                1999                              Konemann  http://images.amazon.com/images/P/3829021860.0...  http://images.amazon.com/images/P/3829021860.0...  http://images.amazon.com/images/P/3829021860.0...\n",
      "1029360   275970  4770019572            0                                            Musashi                 Eiji Yoshikawa                1995          Kodansha International (JPN)  http://images.amazon.com/images/P/4770019572.0...  http://images.amazon.com/images/P/4770019572.0...  http://images.amazon.com/images/P/4770019572.0...\n",
      "1029361   275970  9626340762            8  Northanger Abbey (Classic Literature with Clas...                    Jane Austen                1996                 Naxos Audiobooks Ltd.  http://images.amazon.com/images/P/9626340762.0...  http://images.amazon.com/images/P/9626340762.0...  http://images.amazon.com/images/P/9626340762.0...\n",
      "\n",
      "[475007 rows x 10 columns]\n"
     ]
    }
   ],
   "source": [
    "filtered_rating = rate_bname[rate_bname['User-ID'].isin(relevent_users)]\n",
    "\n",
    "print(filtered_rating)\n"
   ]
  },
  {
   "cell_type": "code",
   "execution_count": null,
   "id": "1bad32df",
   "metadata": {},
   "outputs": [
    {
     "data": {
      "text/plain": [
       "Index(['1984', '1st to Die: A Novel', '2nd Chance', '4 Blondes', 'A Bend in the Road', 'A Case of Need', 'A Child Called \\It\\\": One Child's Courage to Survive\"', 'A Civil Action', 'A Day Late and a Dollar Short', 'A Fine Balance',\n",
       "       ...\n",
       "       'Winter Solstice', 'Wish You Well', 'Without Remorse', 'Wizard and Glass (The Dark Tower, Book 4)', 'Wuthering Heights', 'Year of Wonders', 'You Belong To Me', 'Zen and the Art of Motorcycle Maintenance: An Inquiry into Values', 'Zoya', '\\O\\\" Is for Outlaw\"'], dtype='object', name='Book-Title', length=683)"
      ]
     },
     "execution_count": 40,
     "metadata": {},
     "output_type": "execute_result"
    }
   ],
   "source": [
    "y = filtered_rating.groupby('Book-Title').count()['Book-Rating'] > 50\n",
    "famous_books = y[y].index\n",
    "famous_books"
   ]
  },
  {
   "cell_type": "code",
   "execution_count": null,
   "id": "41bd8f6d",
   "metadata": {},
   "outputs": [
    {
     "data": {
      "text/html": [
       "<div>\n",
       "<style scoped>\n",
       "    .dataframe tbody tr th:only-of-type {\n",
       "        vertical-align: middle;\n",
       "    }\n",
       "\n",
       "    .dataframe tbody tr th {\n",
       "        vertical-align: top;\n",
       "    }\n",
       "\n",
       "    .dataframe thead th {\n",
       "        text-align: right;\n",
       "    }\n",
       "</style>\n",
       "<table border=\"1\" class=\"dataframe\">\n",
       "  <thead>\n",
       "    <tr style=\"text-align: right;\">\n",
       "      <th></th>\n",
       "      <th>User-ID</th>\n",
       "      <th>ISBN</th>\n",
       "      <th>Book-Rating</th>\n",
       "      <th>Book-Title</th>\n",
       "      <th>Book-Author</th>\n",
       "      <th>Year-Of-Publication</th>\n",
       "      <th>Publisher</th>\n",
       "      <th>Image-URL-S</th>\n",
       "      <th>Image-URL-M</th>\n",
       "      <th>Image-URL-L</th>\n",
       "    </tr>\n",
       "  </thead>\n",
       "  <tbody>\n",
       "    <tr>\n",
       "      <th>1150</th>\n",
       "      <td>277427</td>\n",
       "      <td>002542730X</td>\n",
       "      <td>10</td>\n",
       "      <td>Politically Correct Bedtime Stories: Modern Ta...</td>\n",
       "      <td>James Finn Garner</td>\n",
       "      <td>1994</td>\n",
       "      <td>John Wiley &amp;amp; Sons Inc</td>\n",
       "      <td>http://images.amazon.com/images/P/002542730X.0...</td>\n",
       "      <td>http://images.amazon.com/images/P/002542730X.0...</td>\n",
       "      <td>http://images.amazon.com/images/P/002542730X.0...</td>\n",
       "    </tr>\n",
       "    <tr>\n",
       "      <th>1163</th>\n",
       "      <td>277427</td>\n",
       "      <td>0060930535</td>\n",
       "      <td>0</td>\n",
       "      <td>The Poisonwood Bible: A Novel</td>\n",
       "      <td>Barbara Kingsolver</td>\n",
       "      <td>1999</td>\n",
       "      <td>Perennial</td>\n",
       "      <td>http://images.amazon.com/images/P/0060930535.0...</td>\n",
       "      <td>http://images.amazon.com/images/P/0060930535.0...</td>\n",
       "      <td>http://images.amazon.com/images/P/0060930535.0...</td>\n",
       "    </tr>\n",
       "    <tr>\n",
       "      <th>1165</th>\n",
       "      <td>277427</td>\n",
       "      <td>0060934417</td>\n",
       "      <td>0</td>\n",
       "      <td>Bel Canto: A Novel</td>\n",
       "      <td>Ann Patchett</td>\n",
       "      <td>2002</td>\n",
       "      <td>Perennial</td>\n",
       "      <td>http://images.amazon.com/images/P/0060934417.0...</td>\n",
       "      <td>http://images.amazon.com/images/P/0060934417.0...</td>\n",
       "      <td>http://images.amazon.com/images/P/0060934417.0...</td>\n",
       "    </tr>\n",
       "    <tr>\n",
       "      <th>1168</th>\n",
       "      <td>277427</td>\n",
       "      <td>0061009059</td>\n",
       "      <td>9</td>\n",
       "      <td>One for the Money (Stephanie Plum Novels (Pape...</td>\n",
       "      <td>Janet Evanovich</td>\n",
       "      <td>1995</td>\n",
       "      <td>HarperTorch</td>\n",
       "      <td>http://images.amazon.com/images/P/0061009059.0...</td>\n",
       "      <td>http://images.amazon.com/images/P/0061009059.0...</td>\n",
       "      <td>http://images.amazon.com/images/P/0061009059.0...</td>\n",
       "    </tr>\n",
       "    <tr>\n",
       "      <th>1174</th>\n",
       "      <td>277427</td>\n",
       "      <td>006440188X</td>\n",
       "      <td>0</td>\n",
       "      <td>The Secret Garden</td>\n",
       "      <td>Frances Hodgson Burnett</td>\n",
       "      <td>1998</td>\n",
       "      <td>HarperTrophy</td>\n",
       "      <td>http://images.amazon.com/images/P/006440188X.0...</td>\n",
       "      <td>http://images.amazon.com/images/P/006440188X.0...</td>\n",
       "      <td>http://images.amazon.com/images/P/006440188X.0...</td>\n",
       "    </tr>\n",
       "    <tr>\n",
       "      <th>...</th>\n",
       "      <td>...</td>\n",
       "      <td>...</td>\n",
       "      <td>...</td>\n",
       "      <td>...</td>\n",
       "      <td>...</td>\n",
       "      <td>...</td>\n",
       "      <td>...</td>\n",
       "      <td>...</td>\n",
       "      <td>...</td>\n",
       "      <td>...</td>\n",
       "    </tr>\n",
       "    <tr>\n",
       "      <th>1029196</th>\n",
       "      <td>275970</td>\n",
       "      <td>1400031354</td>\n",
       "      <td>0</td>\n",
       "      <td>Tears of the Giraffe (No.1 Ladies Detective Ag...</td>\n",
       "      <td>Alexander McCall Smith</td>\n",
       "      <td>2002</td>\n",
       "      <td>Anchor</td>\n",
       "      <td>http://images.amazon.com/images/P/1400031354.0...</td>\n",
       "      <td>http://images.amazon.com/images/P/1400031354.0...</td>\n",
       "      <td>http://images.amazon.com/images/P/1400031354.0...</td>\n",
       "    </tr>\n",
       "    <tr>\n",
       "      <th>1029197</th>\n",
       "      <td>275970</td>\n",
       "      <td>1400031362</td>\n",
       "      <td>0</td>\n",
       "      <td>Morality for Beautiful Girls (No.1 Ladies Dete...</td>\n",
       "      <td>Alexander McCall Smith</td>\n",
       "      <td>2002</td>\n",
       "      <td>Anchor</td>\n",
       "      <td>http://images.amazon.com/images/P/1400031362.0...</td>\n",
       "      <td>http://images.amazon.com/images/P/1400031362.0...</td>\n",
       "      <td>http://images.amazon.com/images/P/1400031362.0...</td>\n",
       "    </tr>\n",
       "    <tr>\n",
       "      <th>1029270</th>\n",
       "      <td>275970</td>\n",
       "      <td>1573229725</td>\n",
       "      <td>0</td>\n",
       "      <td>Fingersmith</td>\n",
       "      <td>Sarah Waters</td>\n",
       "      <td>2002</td>\n",
       "      <td>Riverhead Books</td>\n",
       "      <td>http://images.amazon.com/images/P/1573229725.0...</td>\n",
       "      <td>http://images.amazon.com/images/P/1573229725.0...</td>\n",
       "      <td>http://images.amazon.com/images/P/1573229725.0...</td>\n",
       "    </tr>\n",
       "    <tr>\n",
       "      <th>1029309</th>\n",
       "      <td>275970</td>\n",
       "      <td>1586210661</td>\n",
       "      <td>9</td>\n",
       "      <td>Me Talk Pretty One Day</td>\n",
       "      <td>David Sedaris</td>\n",
       "      <td>2001</td>\n",
       "      <td>Time Warner Audio Major</td>\n",
       "      <td>http://images.amazon.com/images/P/1586210661.0...</td>\n",
       "      <td>http://images.amazon.com/images/P/1586210661.0...</td>\n",
       "      <td>http://images.amazon.com/images/P/1586210661.0...</td>\n",
       "    </tr>\n",
       "    <tr>\n",
       "      <th>1029310</th>\n",
       "      <td>275970</td>\n",
       "      <td>1586212230</td>\n",
       "      <td>0</td>\n",
       "      <td>Naked</td>\n",
       "      <td>David Sedaris</td>\n",
       "      <td>2001</td>\n",
       "      <td>Time Warner Audio Major</td>\n",
       "      <td>http://images.amazon.com/images/P/1586212230.0...</td>\n",
       "      <td>http://images.amazon.com/images/P/1586212230.0...</td>\n",
       "      <td>http://images.amazon.com/images/P/1586212230.0...</td>\n",
       "    </tr>\n",
       "  </tbody>\n",
       "</table>\n",
       "<p>57623 rows × 10 columns</p>\n",
       "</div>"
      ],
      "text/plain": [
       "         User-ID        ISBN  Book-Rating                                         Book-Title              Book-Author Year-Of-Publication                  Publisher                                        Image-URL-S                                        Image-URL-M                                        Image-URL-L\n",
       "1150      277427  002542730X           10  Politically Correct Bedtime Stories: Modern Ta...        James Finn Garner                1994  John Wiley &amp; Sons Inc  http://images.amazon.com/images/P/002542730X.0...  http://images.amazon.com/images/P/002542730X.0...  http://images.amazon.com/images/P/002542730X.0...\n",
       "1163      277427  0060930535            0                      The Poisonwood Bible: A Novel       Barbara Kingsolver                1999                  Perennial  http://images.amazon.com/images/P/0060930535.0...  http://images.amazon.com/images/P/0060930535.0...  http://images.amazon.com/images/P/0060930535.0...\n",
       "1165      277427  0060934417            0                                 Bel Canto: A Novel             Ann Patchett                2002                  Perennial  http://images.amazon.com/images/P/0060934417.0...  http://images.amazon.com/images/P/0060934417.0...  http://images.amazon.com/images/P/0060934417.0...\n",
       "1168      277427  0061009059            9  One for the Money (Stephanie Plum Novels (Pape...          Janet Evanovich                1995                HarperTorch  http://images.amazon.com/images/P/0061009059.0...  http://images.amazon.com/images/P/0061009059.0...  http://images.amazon.com/images/P/0061009059.0...\n",
       "1174      277427  006440188X            0                                  The Secret Garden  Frances Hodgson Burnett                1998               HarperTrophy  http://images.amazon.com/images/P/006440188X.0...  http://images.amazon.com/images/P/006440188X.0...  http://images.amazon.com/images/P/006440188X.0...\n",
       "...          ...         ...          ...                                                ...                      ...                 ...                        ...                                                ...                                                ...                                                ...\n",
       "1029196   275970  1400031354            0  Tears of the Giraffe (No.1 Ladies Detective Ag...   Alexander McCall Smith                2002                     Anchor  http://images.amazon.com/images/P/1400031354.0...  http://images.amazon.com/images/P/1400031354.0...  http://images.amazon.com/images/P/1400031354.0...\n",
       "1029197   275970  1400031362            0  Morality for Beautiful Girls (No.1 Ladies Dete...   Alexander McCall Smith                2002                     Anchor  http://images.amazon.com/images/P/1400031362.0...  http://images.amazon.com/images/P/1400031362.0...  http://images.amazon.com/images/P/1400031362.0...\n",
       "1029270   275970  1573229725            0                                        Fingersmith             Sarah Waters                2002            Riverhead Books  http://images.amazon.com/images/P/1573229725.0...  http://images.amazon.com/images/P/1573229725.0...  http://images.amazon.com/images/P/1573229725.0...\n",
       "1029309   275970  1586210661            9                             Me Talk Pretty One Day            David Sedaris                2001    Time Warner Audio Major  http://images.amazon.com/images/P/1586210661.0...  http://images.amazon.com/images/P/1586210661.0...  http://images.amazon.com/images/P/1586210661.0...\n",
       "1029310   275970  1586212230            0                                              Naked            David Sedaris                2001    Time Warner Audio Major  http://images.amazon.com/images/P/1586212230.0...  http://images.amazon.com/images/P/1586212230.0...  http://images.amazon.com/images/P/1586212230.0...\n",
       "\n",
       "[57623 rows x 10 columns]"
      ]
     },
     "execution_count": 42,
     "metadata": {},
     "output_type": "execute_result"
    }
   ],
   "source": [
    "final_ratings = filtered_rating[filtered_rating['Book-Title'].isin(famous_books)]\n",
    "final_ratings"
   ]
  },
  {
   "cell_type": "markdown",
   "id": "931e9d02",
   "metadata": {},
   "source": [
    "to get books of author jnet`"
   ]
  },
  {
   "cell_type": "code",
   "execution_count": null,
   "id": "be57514c",
   "metadata": {},
   "outputs": [
    {
     "name": "stdout",
     "output_type": "stream",
     "text": [
      "User-ID                                             254     2276    2766    2977    3363    4017    4385    6251    6323    6543    6563    6575    7158    7286    7346    7915    8067    8245    8681    8936    10447   10819   11601     11676   11993   12538   12824   12982   13082   13273   13552   13850   14422   14521   15408   15418   16106   16634   16795   16916   16966   17950   18067   18401   19085   19664   20115   20201   21014   21252   21576   21659   22625   23288   23768   23872   23902   24194   24921   25409   25601   25981   26516   26535   26544   26583   26593   27617   28204   28360   28523   28591   29259   29855   30276   30487   30511   30533   30711   30735   30972   31315   31391   31556   31826   31846   32195   32440   32721   32773   33974   35050   35433   35836   35857   35859   36606   36609   36836   36907   37567   37712   37950   38023   38273   38781   39281   39467   39616   39646   39773   40889   40943   41084   41841   42914   43246   43806   43842   44595   44728   46398   47316   48494   49109   49460   49889   50225   51094   51350   51386   51450   51883   52199   52584   52614   52853   52917   53174   53628   53729   54218   55187   55490   55492   55548   55734   55892   56271   56399   56447   56856   56959   59172   59971   60244   60277   60337   60707   61619   62272   62891   62895   63394   63714   63938   64436   65258   66680   67840   68555   69042   69078   69232   69355   69405   69697   69808   69971   70052   70415   70594   71712   72352   72992   73394   73651   75591   75860   76151   76223   76352   76499   76626   76818   76942   77809   77940   78553   78783   78834   78973   79186   79441   80538   80683   81045   81492   81560   81977   82407   82831   82893   82926   83637   84024   85426   85526   85656   85701   85757   85993   86202   86243   86641   87141   87143   87555   87746   87974   88283   88677   88693   88733   88937   89602   91203   91342   91832   91931   92547   92652   92810   92979   93047   93085   93363   93629   94242   94347   94853   94923   95193   95316   95359   95903   95932   95991   96054   96448   97874   98391   98741   98758   100459  100644  100846  100906  101209  101851  101876  102275  102647  102702  102967  104399  104429  104636  104665  105374  105517  105979  106225  106816  107021  107301  107453  107784  107951  108005  108285  108352  109461  109574  109955  110029  110483  110912  110934  110973  111174  111947  112001  112026  112881  113270  113519  113817  113904  113983  114178  114368  114414  114444  114868  114988  115002  115003  115120  115490  116599  117251  117539  119575  120093  120548  122429  122793  122881  123790  123883  123981  124078  124079  124363  124487  124942  125039  125519  125692  125774  126492  126604  126736  127200  127233  127359  127429  127914  128208  128696  128835  129008  129074  129358  129465  129716  129851  130474  130554  130571  131027  131046  131402  131837  131855  132083  133571  133689  133747  133868  135045  135149  135265  135458  135831  136010  136139  136205  136252  136382  137589  137688  138097  138441  138578  138844  139467  139742  140000  140036  140358  141493  141710  141902  142093  142524  143175  143253  143415  143792  144531  144555  145449  145451  145619  145641  146113  146230  146348  147141  147451  147847  147965  148199  148258  148744  149069  149907  149908  149934  150124  150498  150968  150979  151790  151806  152186  152249  153563  153662  153718  154992  155014  155147  155219  155495  156150  156269  156467  157273  157811  158295  159033  159376  159858  160032  160819  161752  162052  162639  162738  163804  163973  164027  164323  164465  164533  164675  164828  165232  165308  165319  166123  166596  167349  167471  167800  168047  168064  168144  168245  169233  169663  169699  170229  170513  170518  170575  170634  170742  170947  171118  172030  172512  172742  173291  173415  173632  173684  173835  174216  174304  174791  175003  175886  177072  177090  177374  177432  177458  177690  178181  178199  178667  178950  179733  179744  179772  179978  180348  180586  180651  180917  180957  181176  181687  182085  182086  182987  182993  183196  183995  184299  185233  185384  186570  187145  187256  187517  188010  189334  189516  189835  189973  190459  190708  190807  190925  191187  192093  193499  193560  194600  194669  195694  196047  196077  196160  196457  196502  197364  197659  197775  198621  198699  198711  199416  199772  200226  200674  201017  201290  201447  201526  201674  201768  201783  203240  203799  203968  204167  204522  204591  204864  205473  205735  205980  206074  206534  206567  206979  207246  207349  207499  207782  208141  208147  208406  208410  208568  208671  208829  209373  209516  209756  209875  210035  210485  210792  210959  211426  211430  211847  211919  212645  212898  212923  212965  213150  213350  214272  214786  216012  216444  216466  216683  217106  217121  217375  217740  218552  218608  219546  220278  221445  222050  222204  222296  222941  223087  223154  224138  224349  224430  224435  224646  224764  225087  225199  225232  225763  225810  225986  225989  226545  226879  226965  227447  227520  227705  228681  228764  228998  229011  229313  229329  229551  229741  230249  230496  230522  230708  231210  231237  231827  231857  232131  232945  233911  233917  234359  234623  234721  234828  235105  235282  235392  235842  235935  236058  236172  236283  236340  236757  236948  236959  238120  238526  238541  238545  238557  238699  238781  238961  239584  239594  240144  240567  240568  241198  241548  241666  241980  242006  242083  242106  242299  242409  242646  242824  243077  244349  244688  244736  245371  245410  245645  245827  245963  246156  246311  246513  246655  246671  247429  247447  247752  248718  249111  249628  249862  249894  250184  250405  250764  250962  251394  251422  251613  251843  251844  252071  252222  252695  252820  252848  253556  253821  254206  254465  254899  254971  255092  255218  255489  256167  256402  256407  257028  257204  257700  258152  258185  258534  258938  259260  259380  259629  260897  261105  261829  262399  262998  263163  263460  263877  264031  264082  264317  264321  264637  265115  265313  265595  265889  266056  266226  266753  266865  267635  268030  268032  268110  268330  268622  268932  269566  269719  269890  270713  270820  271195  271284  271448  271705  273979  274004  274061  274301  274308  275970  277427  277639  278418\n",
      "Book-Title                                                                                                                                                                                                                                                                                                                                                                                                                                                                                                                                                                                                                                                                                                                                                                                                                                                                                                                                                                                                                                                                                                                                                                                                                                                                                                                                                                                                                                                                                                                                                                                                                                                                                                                                                                                                                                                                                                                                                                                                                                                                                                                                                                                                                                                                                                                                                                                                                                                                                                                                                                                                                                                                                                                                                                                                                                                                                                                                                                                                                                                                                                                                                                                                                                                                                                                                                                                                                                                                                                                                                                                                                                                                                                                                                                                                                                                                                                                                                                                                                                                                                                                                                                                                                                                                                                                                                                                                                                                                                                                                                                                                                                                                                                                                                                                                                                                                                                                                                                                                                                                                                                                                                                                                                                                                                                                                                                                                                                                                                                                                                                                                                                                                                                                                                                                                                                                                                                                                                                                                                                                                                                                                                                                                                                                                                                                                                                                                                                                                                                                                                                                                                                                                                                                                                                                                                                  \n",
      "1984                                                   9.0     NaN     NaN     NaN     NaN     NaN     NaN     NaN     NaN     NaN     NaN     NaN     NaN     NaN     8.0     NaN     NaN     NaN     NaN     NaN     NaN     NaN     NaN  3.333333     NaN     0.0     NaN     NaN     NaN     NaN     NaN     NaN     NaN     NaN     9.0     NaN     NaN     NaN     8.0     NaN     NaN     NaN     NaN     NaN     NaN     NaN     NaN     NaN     NaN     NaN     NaN     NaN     NaN     NaN     0.0     7.0     NaN     NaN     NaN     NaN     NaN     NaN     NaN     NaN     NaN     NaN     NaN     NaN     NaN     NaN     NaN     NaN     NaN     NaN     NaN     NaN     NaN     NaN     NaN     NaN     NaN     NaN     NaN     NaN     NaN     NaN     NaN     NaN     NaN     NaN     NaN     NaN     NaN     NaN     NaN     NaN     NaN     NaN     NaN     NaN     NaN     0.0     0.0     NaN     NaN     NaN     NaN     NaN     0.0     NaN     NaN     NaN     NaN     NaN     NaN     0.0     NaN     NaN     NaN     NaN     NaN     NaN     NaN     NaN     NaN     9.0     NaN     NaN     NaN     NaN     NaN     NaN     NaN     NaN     0.0     NaN     NaN     NaN     NaN     NaN     NaN     NaN     NaN    10.0     NaN     NaN     NaN     NaN     NaN     NaN     NaN     0.0     NaN     NaN     NaN     9.0     NaN     NaN     NaN     NaN     NaN     NaN     NaN     NaN     NaN     NaN     NaN     NaN     NaN     NaN     NaN     NaN     8.0     NaN     NaN     NaN     NaN     NaN     NaN     NaN     NaN     NaN     NaN     NaN     NaN     NaN     NaN     NaN     NaN     NaN     NaN     NaN     NaN     NaN     NaN     NaN     NaN     NaN     NaN     NaN     0.0     NaN     NaN     NaN    10.0    10.0     NaN     NaN     NaN     NaN     NaN     NaN     NaN     NaN     NaN     NaN     NaN     NaN     NaN     NaN     NaN     NaN     NaN     NaN     NaN     NaN     NaN     5.0     0.0     NaN     NaN     NaN     NaN     NaN     NaN     NaN     NaN     NaN     NaN     NaN     NaN     NaN     NaN     NaN     NaN     NaN     0.0     NaN     NaN     NaN     NaN     NaN     NaN     NaN    10.0     0.0     NaN     NaN     NaN     NaN     NaN     NaN     NaN     NaN     NaN     NaN     NaN     NaN     NaN     NaN     NaN     NaN     NaN     NaN     NaN     NaN     NaN     0.0     NaN     0.0     NaN     NaN     NaN     NaN     NaN     NaN     NaN     NaN     NaN     NaN     NaN     NaN     NaN     NaN     NaN     NaN     NaN     NaN     NaN     0.0     NaN     NaN     NaN     NaN     NaN     NaN     NaN     NaN     NaN     NaN     NaN     NaN     0.0     NaN     NaN     NaN     NaN     NaN     NaN     NaN     NaN     NaN     NaN     NaN     NaN     NaN     NaN     NaN    10.0     NaN     NaN     NaN     NaN     NaN     NaN     NaN     NaN     NaN     NaN     0.0     NaN     NaN     NaN     NaN     NaN     NaN     NaN     NaN     NaN     NaN     0.0     NaN     NaN     NaN     NaN     NaN    10.0     NaN     NaN     NaN     NaN     NaN     NaN     NaN     NaN     NaN     NaN     NaN     NaN     NaN     NaN     NaN     NaN     NaN     NaN     NaN     NaN     NaN     NaN     NaN     NaN     NaN     NaN     NaN     NaN     NaN     NaN     NaN     NaN     0.0     NaN     NaN     NaN     NaN     NaN     NaN     NaN     0.0     NaN     NaN     NaN     NaN     NaN     NaN     NaN     NaN     NaN     NaN     NaN     NaN     0.0     NaN     NaN     NaN     NaN     NaN     NaN     NaN     NaN     NaN     NaN     NaN     NaN     NaN     0.0     NaN     NaN     NaN     NaN     NaN     NaN     NaN     NaN     NaN     NaN     NaN     NaN     NaN     NaN     NaN     NaN     NaN     NaN     7.0     NaN     NaN     NaN     NaN     NaN     NaN     NaN     NaN     NaN     NaN     NaN     NaN     NaN     9.0     NaN     NaN     NaN     NaN     NaN     NaN     NaN     NaN     NaN     NaN     NaN     0.0     NaN     NaN     NaN     NaN     NaN     NaN     NaN     NaN     NaN     NaN     NaN     NaN     NaN     NaN     NaN     NaN     NaN     NaN     NaN     NaN     NaN     NaN     NaN     NaN     NaN     NaN     NaN     NaN     NaN    10.0     NaN     NaN     NaN     0.0     NaN     NaN     0.0     NaN     NaN     NaN     NaN     NaN     NaN     NaN     NaN     NaN     NaN     NaN     NaN     NaN     NaN     NaN     NaN     0.0     NaN     NaN     NaN     NaN     NaN     NaN     NaN     NaN     NaN     NaN     NaN     NaN     NaN     NaN     NaN     NaN     NaN     NaN     NaN     NaN     9.0     NaN     NaN     NaN     NaN     NaN     NaN     8.0     NaN     NaN     NaN     NaN     NaN     NaN     NaN     NaN     NaN     NaN     NaN     NaN     NaN     NaN     NaN     NaN     NaN     NaN     0.0     NaN     NaN     NaN     NaN     NaN     NaN     NaN     NaN     NaN     NaN     NaN     0.0     NaN     NaN     NaN     NaN     NaN     NaN     NaN     NaN     NaN     NaN     NaN     NaN     NaN     0.0     NaN     NaN     NaN     NaN     NaN     NaN     0.0     NaN     NaN     NaN     NaN     NaN     NaN     NaN     NaN     NaN     NaN     NaN     NaN     NaN     NaN     NaN     NaN     NaN     NaN     NaN     0.0     NaN     NaN     NaN     NaN     NaN     NaN     NaN     NaN     NaN     9.0     NaN     NaN     NaN     NaN     NaN     NaN     NaN     NaN     NaN     NaN     NaN     NaN     NaN     NaN     NaN     NaN     NaN     NaN     NaN     NaN     NaN     0.0     NaN     NaN     NaN     0.0     NaN     NaN     NaN     NaN     NaN     NaN     NaN     NaN     NaN     NaN     NaN     NaN     NaN     NaN     0.0     NaN     NaN     NaN     NaN     NaN     NaN     NaN     NaN     NaN     NaN     NaN     NaN     NaN     NaN     NaN     0.0     NaN     NaN     NaN     NaN     NaN     NaN     0.0     8.0     NaN     NaN     NaN     NaN     NaN     NaN     7.0     NaN     NaN     NaN     NaN     NaN     NaN     NaN     NaN     NaN     NaN     NaN     NaN     NaN     NaN     0.0     NaN     NaN     NaN     NaN     NaN     NaN     NaN     NaN     NaN     NaN     NaN     NaN     NaN     NaN     NaN     NaN     NaN     NaN     NaN     NaN     NaN     NaN     NaN     NaN     NaN     NaN     NaN     NaN     NaN     NaN     NaN     NaN     NaN     NaN     NaN     NaN     NaN     NaN     NaN     NaN    10.0     NaN     NaN     0.0     NaN     NaN     NaN     NaN     0.0     NaN     NaN     NaN     NaN     NaN     NaN     NaN     NaN     NaN     NaN     NaN     NaN     NaN     NaN     NaN     NaN     NaN     NaN     0.0     NaN     NaN     NaN     NaN     NaN     NaN     NaN     NaN     NaN     NaN     NaN     NaN     NaN     NaN     NaN     NaN    10.0     NaN     NaN     NaN     NaN     NaN     0.0     NaN     NaN     NaN\n",
      "1st to Die: A Novel                                    NaN     NaN     NaN     NaN     NaN     NaN     NaN     NaN     NaN     9.0     NaN     NaN     0.0     NaN     NaN     NaN     NaN     NaN     NaN     0.0     NaN     NaN     NaN  9.000000     NaN     NaN     NaN     NaN     NaN     NaN     NaN     NaN     NaN     0.0     NaN     NaN     NaN     NaN     9.0     NaN     NaN     NaN     NaN    10.0     NaN     NaN     0.0     NaN     0.0     NaN     NaN     NaN     NaN     NaN     0.0     NaN     NaN     NaN     NaN     NaN     NaN     NaN     NaN     NaN     0.0     NaN     NaN     NaN     NaN     NaN     NaN     NaN     NaN     NaN     8.0     NaN     NaN     NaN     NaN     NaN     0.0     0.0     NaN     NaN     NaN     NaN     NaN     NaN     NaN     0.0     0.0     0.0     NaN     NaN     NaN     7.0     NaN     NaN     NaN     NaN     NaN     NaN     NaN     0.0     NaN     NaN     NaN     NaN     NaN     NaN     0.0     NaN     NaN     NaN     NaN     NaN     4.5     NaN     NaN     NaN     NaN     NaN     NaN     NaN     NaN     NaN     NaN     0.0     NaN     NaN     NaN    10.0     NaN     NaN     NaN     NaN     0.0     NaN     0.0     NaN     NaN     NaN    10.0     5.0     0.0     0.0     0.0     NaN     NaN     NaN     NaN     NaN     NaN     0.0     NaN     NaN     NaN     NaN     NaN     NaN     0.0     NaN     NaN     0.0     NaN     NaN     NaN     NaN     NaN     0.0     NaN     NaN     NaN     0.0     0.0     NaN     NaN     NaN     NaN     NaN     NaN     NaN     0.0     NaN     NaN     NaN     NaN     NaN     NaN     NaN     NaN     0.0     NaN     NaN     NaN     NaN     NaN     NaN     NaN     NaN     0.0     8.0     0.0     NaN     NaN     NaN     0.0     NaN     NaN     NaN     NaN     NaN     NaN     NaN     NaN     9.0     NaN     NaN     0.0     NaN     NaN     NaN     NaN     NaN     NaN     0.0     NaN     NaN     NaN     NaN     NaN     NaN     NaN     0.0     NaN     NaN     NaN     NaN     0.0     NaN     0.0     NaN     NaN     NaN     NaN     0.0     8.0     NaN     NaN     NaN     NaN     NaN     NaN     NaN     8.0     NaN     NaN     NaN     NaN     NaN     NaN     NaN     NaN     NaN     NaN     NaN     NaN     NaN     NaN     NaN     NaN     NaN     NaN     NaN     0.0     NaN     NaN    10.0     NaN     NaN     NaN     NaN     0.0     NaN     NaN     NaN     NaN     NaN     NaN     NaN     0.0     NaN     NaN     NaN     NaN     NaN     NaN     4.5     NaN     0.0     NaN     NaN     NaN     NaN     NaN     NaN     NaN     NaN     NaN     NaN     NaN     NaN     0.0     NaN     0.0     NaN     NaN     NaN     NaN     0.0     NaN     NaN     NaN     0.0     NaN     NaN     NaN     NaN     NaN     0.0     NaN     NaN     NaN     NaN     NaN     0.0     NaN     NaN    10.0     NaN     NaN     NaN     NaN     NaN     NaN     NaN     NaN     NaN     NaN     NaN     NaN     0.0     NaN     NaN     NaN     NaN     NaN     NaN     NaN     NaN     0.0     NaN     NaN     NaN     NaN     NaN     NaN     NaN     NaN     NaN     NaN     NaN     0.0     NaN     NaN     NaN     0.0     NaN     0.0     NaN     8.0     NaN     0.0     NaN     NaN     NaN     NaN     NaN     NaN     0.0     NaN     5.0     NaN     0.0     NaN     NaN     NaN     9.5     NaN     NaN     NaN     NaN     NaN     NaN     NaN     0.0     NaN     NaN     NaN     NaN     NaN     NaN     5.0     NaN     NaN     NaN     NaN     NaN     NaN     NaN     NaN     NaN     NaN     NaN     NaN     NaN     NaN     NaN     NaN     NaN     0.0     NaN     NaN     NaN     NaN     NaN     NaN     NaN     0.0     NaN     NaN     NaN     NaN     0.0     0.0     0.0     NaN     NaN     NaN     NaN     NaN     NaN     NaN     0.0     NaN     NaN     NaN     NaN     NaN     NaN     NaN     NaN     NaN     0.0     NaN     0.0     NaN     0.0     NaN     NaN     NaN     NaN     NaN     NaN     NaN     NaN     NaN     0.0     NaN     NaN     NaN     NaN     NaN     NaN     NaN     NaN     NaN     NaN     NaN     NaN     NaN     NaN     NaN     NaN     0.0     NaN     NaN     NaN     NaN     NaN     7.0     NaN     NaN     7.0     NaN     NaN     NaN     NaN     NaN     NaN     NaN     NaN     7.0     NaN     NaN     NaN     NaN     NaN     NaN     NaN     NaN     NaN     8.0     NaN     0.0     NaN     NaN     NaN     0.0     NaN     NaN     NaN     8.0     NaN     NaN     NaN     NaN     NaN     8.0     NaN     NaN     NaN     NaN     NaN     0.0     0.0     NaN     0.0     NaN     NaN     NaN     NaN     NaN     NaN     NaN     NaN     NaN     5.0     NaN     0.0     0.0     NaN     NaN     0.0     NaN     NaN     0.0     NaN     NaN     NaN     NaN     NaN     NaN     7.0     NaN     0.0     NaN     NaN     NaN     0.0     NaN     NaN     NaN     NaN     NaN     0.0     NaN     NaN     0.0     NaN     NaN     0.0     NaN     7.0     NaN     0.0     NaN     NaN     NaN     NaN     NaN     NaN     NaN     NaN     NaN     NaN     NaN     NaN     NaN     8.0     NaN     NaN     0.0     NaN     NaN     NaN     NaN     NaN     NaN     NaN     NaN     6.0     0.0     0.0     NaN     0.0     NaN     NaN     NaN     NaN     NaN     NaN     NaN     NaN     NaN     NaN     NaN     NaN     NaN     NaN     NaN     4.0     7.0     NaN     0.0     NaN     NaN     NaN     NaN     NaN     NaN     NaN    10.0     NaN     NaN     NaN     NaN     NaN     NaN     NaN     0.0     0.0     0.0     NaN     NaN     NaN     NaN     4.0     8.0     NaN     NaN     NaN     NaN     NaN     0.0     NaN     8.0     8.0     0.0     NaN     3.0     NaN     0.0     8.0     NaN     NaN     NaN     0.0     NaN     NaN     NaN     NaN     NaN     NaN     NaN     NaN     NaN     NaN     NaN     NaN     NaN     NaN     NaN     0.0     NaN     NaN     NaN     NaN     NaN     NaN     NaN     0.0     NaN     NaN     NaN     NaN     NaN     NaN     NaN     NaN     NaN     NaN    10.0     NaN     NaN     NaN     NaN     NaN     NaN     NaN     0.0     NaN     NaN     NaN     NaN     NaN     NaN     NaN     NaN     NaN     NaN     NaN     NaN     NaN     NaN     NaN     NaN     NaN     NaN     NaN     NaN     NaN     NaN     NaN     NaN     0.0     0.0     NaN     NaN     NaN     0.0     NaN     NaN     9.0     6.0     NaN     NaN     NaN     NaN     NaN     NaN     8.0     0.0     NaN     NaN     0.0     0.0     NaN     NaN     NaN     NaN     NaN     NaN     NaN     NaN     NaN     7.0     0.0     NaN     NaN     NaN     NaN     NaN     NaN     0.0     NaN     NaN     NaN     NaN     NaN     NaN     NaN     NaN     NaN     NaN     NaN     NaN     NaN     NaN     NaN     NaN     NaN     NaN     NaN     NaN\n",
      "2nd Chance                                             NaN    10.0     NaN     NaN     NaN     NaN     NaN     NaN     NaN     0.0     NaN     NaN     NaN     NaN     NaN     NaN     NaN     NaN     NaN     NaN     NaN     NaN     0.0  7.500000     NaN     NaN     NaN     NaN     NaN     NaN     NaN     NaN     NaN     NaN     NaN     NaN     NaN     NaN     0.0     NaN     NaN     NaN     NaN     0.0     NaN     NaN     NaN     NaN     NaN     NaN     NaN     NaN     NaN     NaN     0.0     NaN     NaN     NaN     NaN     NaN     NaN     NaN     NaN     0.0     NaN     NaN     NaN     5.0     NaN     NaN     NaN     NaN     NaN     NaN     NaN     NaN     NaN     NaN     NaN     NaN     0.0    10.0     NaN     NaN     NaN     0.0     NaN     NaN     NaN     NaN     NaN     0.0     NaN     NaN     NaN     7.5     NaN     NaN     NaN     NaN     NaN     NaN     NaN     NaN     NaN     NaN     0.0     NaN     NaN     NaN     NaN     NaN     NaN     NaN     NaN     NaN     9.0     NaN     NaN     NaN     NaN     NaN     NaN     NaN     0.0     NaN     NaN     NaN     NaN     NaN     NaN     NaN     NaN     NaN     NaN     NaN     NaN     NaN     8.0     NaN     NaN     NaN     NaN     0.0     0.0     NaN     NaN     NaN     NaN     NaN     0.0     NaN     NaN     0.0     NaN     0.0     NaN     NaN     NaN     NaN     0.0     NaN     NaN     NaN     NaN     NaN     NaN     NaN     NaN     NaN     NaN     0.0     NaN     0.0     NaN     NaN     NaN     NaN     NaN     0.0     NaN     NaN     0.0     NaN     NaN     NaN     NaN     NaN     NaN     NaN     NaN     NaN     NaN     NaN     NaN     NaN     NaN     NaN     NaN     NaN     0.0     0.0     NaN     NaN     NaN     NaN     0.0     NaN     NaN     NaN     NaN     NaN     NaN     NaN     NaN     9.0     NaN     NaN     NaN     NaN     NaN     NaN     NaN     NaN     NaN     NaN     NaN     NaN     NaN     NaN     NaN     NaN     NaN     NaN     NaN     NaN     NaN     NaN     NaN     NaN     NaN     NaN     0.0     NaN     NaN     NaN     0.0     NaN     NaN     NaN     NaN     NaN     NaN     NaN     NaN     NaN     NaN     NaN     NaN     NaN     NaN     9.0     NaN     NaN     NaN     0.0     NaN     NaN     NaN     NaN     NaN     9.0     NaN     NaN     NaN     NaN     NaN     NaN     NaN     NaN     NaN     NaN     NaN     NaN     NaN     NaN     NaN     NaN     NaN     NaN     NaN     NaN     NaN     NaN     NaN     NaN     NaN     4.5     7.0     NaN     NaN     NaN     NaN     NaN     NaN     NaN     NaN     NaN     NaN     NaN     NaN     7.0     0.0     NaN     NaN     NaN     NaN     NaN     NaN     NaN     NaN     NaN     NaN     8.0     NaN     NaN     NaN     NaN     NaN     NaN     NaN     NaN     NaN     NaN     NaN     NaN     0.0     NaN     9.0     NaN     NaN     4.0     NaN     NaN     0.0     NaN     NaN     NaN     NaN     0.0     NaN     NaN     NaN     NaN     NaN     NaN     NaN     NaN     8.0     NaN     2.5     NaN     NaN     NaN     NaN     NaN     NaN     NaN     NaN     NaN     NaN     NaN     NaN     NaN     NaN     NaN     NaN     NaN     NaN     NaN     NaN     NaN     7.0     NaN     NaN    10.0     0.0     NaN     NaN     0.0     NaN     NaN     NaN     0.0     NaN     NaN     NaN     NaN     NaN     6.0     NaN     NaN     NaN     NaN     NaN     0.0     NaN     NaN     NaN     NaN     NaN     NaN     NaN     NaN     NaN     NaN     NaN    10.0     NaN     NaN     NaN     NaN     NaN     NaN     NaN     NaN     NaN     NaN     NaN     NaN     NaN     NaN     NaN     NaN     NaN     NaN     NaN     NaN     NaN     NaN     NaN     NaN     6.0     NaN     NaN     NaN     NaN     NaN     NaN     NaN     7.0     NaN     NaN     0.0     NaN     NaN     NaN     NaN     NaN     NaN     NaN     NaN     NaN     0.0     NaN     0.0     NaN     0.0     NaN     NaN     NaN     NaN     NaN     NaN     NaN     NaN     NaN     0.0     NaN     NaN     NaN     0.0     NaN     NaN     NaN     0.0     NaN     NaN     NaN     NaN     NaN     NaN     NaN     NaN     0.0     NaN     9.0     NaN     NaN     NaN     NaN     NaN     NaN     NaN     NaN     NaN     NaN     NaN     NaN     NaN     NaN     NaN     0.0     NaN     NaN     NaN     NaN     NaN     NaN     NaN     NaN     NaN     NaN     NaN     0.0     NaN     NaN     NaN     9.0     NaN     NaN     NaN     NaN     NaN     NaN     NaN     NaN     NaN     NaN     0.0     NaN     NaN     NaN     NaN     0.0     0.0     NaN     0.0     NaN     NaN     NaN     NaN     NaN     NaN     NaN     NaN     NaN     NaN     NaN     0.0     NaN     NaN     NaN     0.0     NaN     7.0     NaN     NaN     NaN     NaN     NaN     NaN     NaN     0.0     9.0     NaN     NaN     NaN     NaN     0.0     NaN     NaN     NaN     NaN     6.0     NaN     NaN     NaN     NaN     NaN     NaN     NaN     NaN     NaN     NaN     NaN     NaN     NaN     NaN     NaN     NaN     NaN     NaN     NaN     NaN     NaN     NaN     NaN     NaN     0.0     NaN     NaN     0.0     NaN     NaN     NaN     NaN     NaN     NaN     NaN     NaN     7.0     NaN     0.0     NaN     0.0     NaN     NaN     NaN     NaN     NaN     NaN     NaN     NaN     NaN     NaN     NaN     NaN    10.0     NaN     NaN     8.0     0.0     NaN     NaN     NaN     NaN     NaN     NaN     NaN     0.0     NaN    10.0     NaN     NaN     NaN     NaN     NaN     NaN     0.0     NaN     NaN     NaN     NaN     NaN     NaN     NaN     0.0     NaN     NaN     NaN     NaN     0.0     NaN     NaN     NaN     NaN     NaN     0.0     NaN     NaN     NaN     NaN     0.0     NaN     NaN     NaN     NaN     NaN     NaN     NaN     NaN     NaN     NaN     NaN     NaN     NaN     NaN     NaN     NaN     NaN     NaN     NaN    10.0     NaN     NaN     NaN     NaN     NaN     NaN     NaN     0.0     NaN     0.0     NaN     NaN     NaN     NaN     NaN     NaN     NaN     NaN     0.0     NaN     NaN     NaN     0.0     NaN     NaN     NaN     NaN     NaN     NaN     NaN     NaN     NaN     NaN     NaN     NaN     0.0     NaN     NaN     NaN     NaN     NaN     NaN     NaN     NaN     NaN     NaN     0.0     NaN     NaN     NaN     NaN     0.0     0.0     NaN     NaN     NaN     0.0     NaN     NaN     NaN     NaN     NaN     NaN     NaN     NaN     NaN     NaN     7.5     0.0     NaN     NaN     NaN     NaN     NaN     NaN     NaN     NaN     NaN     0.0     0.0     NaN     NaN     NaN     NaN     NaN     NaN     NaN     NaN     NaN     NaN     0.0     NaN     NaN     NaN     NaN     NaN     NaN     NaN     NaN     NaN     NaN     NaN     NaN     NaN     NaN     NaN     0.0     NaN     NaN     0.0     NaN\n",
      "4 Blondes                                              NaN     NaN     NaN     NaN     NaN     NaN     NaN     0.0     NaN     NaN     NaN     NaN     NaN     NaN     NaN     NaN     NaN     NaN     NaN     NaN     5.0     NaN     NaN       NaN     NaN     NaN     NaN     NaN     NaN     NaN     NaN     NaN     NaN     NaN     NaN     NaN     7.0     NaN     NaN     NaN     NaN     NaN     NaN     NaN     NaN     0.0     NaN     NaN     NaN     NaN     NaN     NaN     NaN     NaN     NaN     NaN     7.0     NaN     NaN     0.0     NaN     NaN     NaN     NaN     7.0     NaN     NaN     NaN     NaN     NaN     0.0     NaN     0.0     NaN     NaN     NaN     NaN     NaN     NaN     NaN     NaN     0.0     NaN     NaN     NaN     NaN     NaN     NaN     NaN     0.0     NaN     0.0     NaN     NaN     NaN     NaN     NaN     0.0     NaN     NaN     0.0     NaN     NaN     NaN     NaN     NaN     NaN     NaN     NaN     NaN     NaN     NaN     NaN     NaN     NaN     NaN     NaN     NaN     0.0     NaN     0.0     NaN     NaN     NaN     NaN     0.0     NaN     NaN     NaN     NaN     NaN     NaN     0.0     NaN     NaN     NaN     NaN     NaN     NaN     NaN     NaN     NaN     NaN     NaN     NaN     NaN     NaN     0.0     NaN     NaN     NaN     NaN     NaN     NaN     NaN     NaN     NaN     NaN     NaN     NaN     NaN     NaN     NaN     NaN     NaN     NaN     NaN     NaN     NaN     NaN     NaN     NaN     NaN     NaN     NaN     NaN     0.0     NaN     NaN     NaN     NaN     NaN     NaN     NaN     NaN     NaN     NaN     NaN     NaN     NaN     NaN     NaN     NaN     NaN     NaN     NaN     NaN     NaN     NaN     0.0     NaN     NaN     NaN     NaN     NaN     NaN     NaN     NaN     NaN     NaN     NaN     NaN     NaN     NaN     NaN     NaN     NaN     NaN     NaN     NaN     NaN     NaN     NaN     NaN     NaN     NaN     NaN     NaN     NaN     NaN     NaN     NaN     NaN     NaN     NaN     NaN     NaN     NaN     NaN     NaN     NaN     NaN     NaN     NaN     NaN     NaN     NaN     NaN     NaN     NaN     NaN     NaN     NaN     NaN     NaN     NaN     NaN     NaN     NaN     NaN     NaN     NaN     NaN     NaN     NaN     NaN     NaN     NaN     NaN     NaN     NaN     NaN     NaN     NaN     NaN     NaN     NaN     NaN     NaN     NaN     NaN     5.0     NaN     NaN     NaN     NaN     NaN     NaN     NaN     NaN     NaN     NaN     NaN     NaN     0.0     NaN     NaN     NaN     NaN     NaN     NaN     NaN     NaN     NaN     NaN     NaN     NaN     NaN     NaN     NaN     NaN     NaN     NaN     NaN     NaN     NaN     NaN     NaN     NaN     NaN     NaN     NaN     NaN     0.0     NaN     NaN     NaN     NaN     NaN     NaN     NaN     0.0     NaN     NaN     NaN     NaN     NaN     NaN     NaN     6.0     NaN     NaN     NaN     NaN     NaN     NaN     0.0     NaN     NaN     NaN     NaN     NaN     NaN     NaN     NaN     NaN     NaN     NaN     NaN     NaN     NaN     NaN     NaN     NaN     NaN     NaN     NaN     NaN     NaN     NaN     NaN     NaN     0.0     NaN     NaN     NaN     NaN     NaN     NaN     NaN     NaN     NaN     NaN     NaN     NaN     NaN     NaN     NaN     NaN     NaN     NaN     NaN     NaN     NaN     NaN     NaN     NaN     0.0     NaN     NaN     NaN     0.0     NaN     NaN     NaN     NaN     NaN     NaN     NaN     NaN     NaN     NaN     NaN     NaN     NaN     NaN     0.0     NaN     NaN     NaN     0.0     NaN     NaN     NaN     NaN     0.0     NaN     NaN     NaN     NaN     0.0     NaN     NaN     NaN     NaN     NaN     NaN     NaN     NaN     NaN     NaN     NaN     NaN     NaN     NaN     NaN     NaN     3.0     NaN     NaN     NaN     NaN     NaN     NaN     NaN     NaN     NaN     NaN     NaN     NaN     NaN     NaN     NaN     NaN     0.0     NaN     NaN     NaN     NaN     NaN     NaN     NaN     NaN     NaN     NaN     NaN     NaN     NaN     NaN     NaN     NaN     NaN     NaN     NaN     NaN     NaN     NaN     0.0     NaN     NaN     NaN     NaN     0.0     NaN     0.0     NaN     NaN     NaN     NaN     NaN     NaN     NaN     NaN     NaN     0.0     NaN     0.0     NaN     NaN     NaN     NaN     NaN     NaN     NaN     NaN     NaN     NaN     NaN     NaN     NaN     NaN     NaN     NaN     NaN     0.0     NaN     NaN     NaN     NaN     0.0     NaN     NaN     NaN     NaN     NaN     NaN     NaN     NaN     NaN     NaN     NaN     NaN     NaN     NaN     NaN     NaN     0.0     0.0     NaN     NaN     NaN     NaN     NaN     NaN     NaN     NaN     0.0     NaN     NaN     NaN     NaN     NaN     7.0     NaN     NaN     NaN     NaN     NaN     NaN     NaN     NaN     NaN     NaN     0.0     NaN     NaN     NaN     NaN     NaN     NaN     NaN     NaN     NaN     NaN     NaN     0.0     NaN     NaN     NaN     NaN     NaN     NaN     0.0     NaN     NaN     NaN     NaN     NaN     1.0     NaN     NaN     NaN     NaN     NaN     NaN     NaN     NaN     NaN     NaN     NaN     NaN     NaN     NaN     NaN     NaN     NaN     NaN     NaN     NaN     0.0     NaN     NaN     NaN     0.0     0.0     0.0     NaN     NaN     NaN     NaN     NaN     NaN     NaN     0.0     NaN     NaN     NaN     NaN     NaN     NaN     NaN     NaN     NaN     NaN     NaN     NaN     NaN     NaN     0.0     NaN     NaN     NaN     NaN     NaN     5.0     NaN     NaN     NaN     NaN     NaN     NaN     NaN     5.0     NaN     NaN     NaN     NaN     0.0     NaN     NaN     NaN     NaN     NaN     NaN     NaN     NaN     NaN     NaN     NaN     NaN     NaN     NaN     NaN     NaN     NaN     NaN     NaN     NaN     NaN     NaN     NaN     NaN     NaN     0.0     NaN     NaN     NaN     NaN     NaN     NaN     NaN     NaN     NaN     NaN     NaN     NaN     NaN     0.0     NaN     NaN     NaN     NaN     NaN     0.0     NaN     NaN     NaN     NaN     NaN     NaN     NaN     NaN     NaN     NaN     NaN     NaN     NaN     NaN     NaN     NaN     NaN     NaN     NaN     NaN     NaN     NaN     NaN     NaN     NaN     NaN     NaN     NaN     NaN     NaN     NaN     NaN     NaN     NaN     NaN     NaN     0.0     NaN     NaN     NaN     NaN     NaN     NaN     NaN     NaN     NaN     NaN     NaN     NaN     NaN     NaN     NaN     NaN     NaN     NaN     6.0     NaN     NaN     NaN     NaN     NaN     NaN     NaN     NaN     NaN     NaN     5.0     NaN     0.0     NaN     NaN     NaN     0.0     NaN     NaN     NaN     NaN     NaN     NaN     NaN     NaN     NaN     NaN     NaN     0.0     NaN     NaN     NaN     NaN     NaN     0.0     NaN     NaN     NaN     NaN     NaN     NaN     NaN     NaN     NaN     NaN\n",
      "A Bend in the Road                                     0.0     NaN     7.0     NaN     NaN     NaN     NaN     NaN     NaN     NaN     NaN     1.0     NaN     NaN     NaN     NaN     NaN     NaN     NaN     NaN     0.0     NaN     0.0  6.500000     NaN     NaN     NaN     NaN     NaN     NaN     0.0     0.0     0.0     5.0     NaN     NaN     NaN     NaN     8.0     NaN     NaN     NaN     NaN     NaN     NaN     NaN     NaN     NaN     NaN     NaN     NaN     NaN     NaN     NaN     0.0     NaN     NaN     NaN     NaN     7.0     NaN     NaN     NaN     NaN     NaN     NaN     NaN     NaN     NaN     NaN     NaN     NaN     NaN     NaN     NaN     NaN     NaN     NaN     NaN     NaN     NaN     NaN     NaN     NaN     NaN     NaN     NaN     NaN     NaN     NaN     NaN     NaN     NaN     NaN     6.0     0.0     0.0     NaN     NaN     NaN     NaN     NaN     NaN     NaN     NaN     NaN     NaN     NaN     NaN     NaN     NaN     8.0     0.0     NaN     NaN     NaN     0.0     NaN     8.0     NaN     NaN     NaN     NaN     NaN     NaN     NaN     NaN     NaN     NaN     NaN     NaN     NaN     NaN     NaN     0.0     NaN     NaN     NaN     NaN     NaN     NaN     NaN     NaN     NaN     NaN     NaN     NaN     NaN     NaN     NaN     0.0     NaN     NaN     0.0     NaN     0.0     NaN     NaN     NaN     NaN     NaN     NaN     NaN     NaN     NaN     NaN     NaN     NaN     5.0     NaN     0.0     NaN     NaN     NaN     NaN     NaN     0.0     NaN     NaN     NaN     7.0     NaN     NaN     NaN     NaN     0.0     0.0     NaN     NaN     NaN     NaN     0.0     NaN     NaN     NaN     NaN     NaN     NaN     NaN     0.0     NaN     7.0     0.0     NaN     NaN     NaN     NaN     0.0     NaN     NaN     NaN     NaN     NaN     NaN     NaN     NaN     NaN     NaN     NaN     NaN     NaN     NaN     NaN     NaN     NaN     NaN     NaN     NaN     0.0     NaN     NaN     NaN     NaN     NaN     NaN     NaN     NaN     NaN     NaN     NaN     NaN     NaN     7.0     NaN     0.0     NaN     NaN     NaN     NaN     NaN     NaN     NaN     NaN     NaN     NaN     NaN     NaN     NaN     0.0     NaN    10.0     8.0     NaN     NaN     NaN     NaN     0.0     NaN     NaN     NaN     NaN     NaN     NaN     NaN     NaN     NaN     NaN     0.0     NaN     NaN     NaN     NaN     NaN     NaN     NaN     NaN     NaN     NaN     NaN     0.0     NaN     NaN     NaN     NaN     NaN     NaN     NaN     0.0     NaN     NaN     NaN     NaN     NaN     0.0     0.0    10.0     0.0     NaN     NaN     NaN     NaN     NaN     NaN     NaN     NaN     NaN     NaN     NaN     NaN     NaN     NaN     NaN     NaN     NaN     NaN     NaN     NaN     0.0     NaN     NaN     NaN     NaN     NaN     NaN     NaN     NaN     NaN     NaN     NaN     NaN     NaN     NaN     NaN     NaN     NaN     NaN     0.0     NaN     NaN     NaN     NaN     NaN     NaN     NaN     NaN     NaN     NaN     NaN     NaN     NaN     0.0     NaN     NaN     0.0     NaN     NaN     NaN     0.0     0.0     NaN     NaN     NaN     9.0     NaN     0.0     NaN     NaN     0.0     NaN     NaN     NaN     NaN     NaN     NaN     NaN     NaN     NaN     NaN     NaN     NaN     NaN     NaN     NaN     0.0     NaN     NaN     NaN     NaN    10.0     NaN     NaN     NaN     NaN     NaN     0.0     9.0     NaN     NaN     NaN     NaN     NaN     NaN     NaN     NaN     NaN     NaN     NaN     NaN     NaN     NaN     NaN     NaN     NaN     NaN     NaN     NaN     NaN     NaN     NaN     NaN     0.0     NaN     NaN     NaN     NaN     NaN     NaN     NaN     NaN     NaN     NaN     NaN     NaN     NaN     NaN     NaN     NaN     NaN     NaN     NaN     NaN     NaN     NaN     NaN     NaN     NaN     NaN     NaN     NaN     NaN     NaN     7.0     NaN     0.0     NaN     NaN     NaN     NaN     NaN     NaN     NaN     NaN     NaN     NaN     NaN     NaN     NaN     NaN     NaN     NaN     NaN     NaN     NaN     NaN     0.0     NaN     NaN     NaN     NaN     NaN     NaN     0.0     NaN     NaN     0.0     NaN     NaN     NaN     NaN     NaN     NaN     NaN     NaN     NaN     NaN     NaN     NaN     NaN     NaN     0.0     NaN     NaN     NaN     NaN     NaN     NaN     NaN     NaN     NaN     NaN     NaN     NaN     NaN     0.0     0.0     NaN     NaN     NaN     NaN     NaN     0.0     NaN     NaN     NaN     NaN     NaN     0.0     NaN     NaN     NaN     NaN     NaN     NaN     NaN     NaN     NaN     NaN     NaN     NaN     NaN     NaN     0.0     NaN     NaN     NaN     NaN     NaN     5.0     NaN     0.0     NaN     NaN     NaN     NaN     0.0     NaN     NaN     NaN     7.0     NaN     NaN     0.0     0.0     NaN     NaN     NaN     0.0     NaN     NaN     NaN     NaN     NaN     NaN     NaN     NaN     NaN     NaN     NaN     NaN     NaN     NaN     7.0     7.0     NaN     NaN     NaN     NaN     0.0     NaN     NaN     0.0     NaN     NaN     NaN     NaN     NaN     NaN     NaN     NaN     NaN     NaN     NaN     NaN     NaN     NaN     NaN     NaN     NaN     NaN     0.0     NaN     NaN     NaN     0.0     0.0     0.0     NaN     NaN     NaN     NaN     NaN     NaN     NaN     NaN     NaN     NaN     NaN     NaN     NaN     NaN     NaN     NaN     NaN     NaN     0.0     NaN     NaN     NaN     0.0     0.0     NaN     0.0     NaN     NaN     NaN     NaN     NaN     NaN     NaN     NaN     NaN     0.0     NaN     0.0     0.0     NaN     NaN     0.0     NaN     NaN     NaN     NaN     NaN     NaN     NaN     NaN     NaN     NaN     NaN     NaN     NaN     NaN     NaN     NaN     NaN     NaN     NaN     0.0     0.0     NaN     NaN     NaN     NaN     NaN     NaN     NaN     NaN     NaN     NaN     0.0     NaN     NaN     NaN     NaN     NaN     NaN     0.0     NaN     NaN     NaN     NaN     NaN     NaN     NaN     NaN     NaN     NaN     NaN     NaN     NaN     NaN     NaN     NaN     NaN     NaN     NaN     NaN     NaN     NaN     NaN     NaN     NaN     NaN     NaN     NaN     NaN     NaN     NaN     0.0     NaN     NaN     NaN     0.0     NaN     NaN     NaN     NaN     NaN     NaN     NaN     NaN     NaN     NaN     NaN     NaN     NaN     NaN     NaN     0.0     NaN     NaN     NaN     NaN     NaN     NaN     NaN     NaN     NaN     NaN     NaN     NaN     NaN     NaN     NaN     NaN     NaN     NaN     NaN     NaN     NaN     NaN     NaN     7.0     NaN     NaN     NaN     NaN     0.0     NaN     NaN     NaN     NaN     NaN     NaN     NaN     NaN     NaN     0.0     NaN     NaN     NaN     NaN     0.0     NaN     NaN     NaN     0.0     NaN     NaN     NaN     NaN     NaN     NaN     NaN     NaN\n",
      "...                                                    ...     ...     ...     ...     ...     ...     ...     ...     ...     ...     ...     ...     ...     ...     ...     ...     ...     ...     ...     ...     ...     ...     ...       ...     ...     ...     ...     ...     ...     ...     ...     ...     ...     ...     ...     ...     ...     ...     ...     ...     ...     ...     ...     ...     ...     ...     ...     ...     ...     ...     ...     ...     ...     ...     ...     ...     ...     ...     ...     ...     ...     ...     ...     ...     ...     ...     ...     ...     ...     ...     ...     ...     ...     ...     ...     ...     ...     ...     ...     ...     ...     ...     ...     ...     ...     ...     ...     ...     ...     ...     ...     ...     ...     ...     ...     ...     ...     ...     ...     ...     ...     ...     ...     ...     ...     ...     ...     ...     ...     ...     ...     ...     ...     ...     ...     ...     ...     ...     ...     ...     ...     ...     ...     ...     ...     ...     ...     ...     ...     ...     ...     ...     ...     ...     ...     ...     ...     ...     ...     ...     ...     ...     ...     ...     ...     ...     ...     ...     ...     ...     ...     ...     ...     ...     ...     ...     ...     ...     ...     ...     ...     ...     ...     ...     ...     ...     ...     ...     ...     ...     ...     ...     ...     ...     ...     ...     ...     ...     ...     ...     ...     ...     ...     ...     ...     ...     ...     ...     ...     ...     ...     ...     ...     ...     ...     ...     ...     ...     ...     ...     ...     ...     ...     ...     ...     ...     ...     ...     ...     ...     ...     ...     ...     ...     ...     ...     ...     ...     ...     ...     ...     ...     ...     ...     ...     ...     ...     ...     ...     ...     ...     ...     ...     ...     ...     ...     ...     ...     ...     ...     ...     ...     ...     ...     ...     ...     ...     ...     ...     ...     ...     ...     ...     ...     ...     ...     ...     ...     ...     ...     ...     ...     ...     ...     ...     ...     ...     ...     ...     ...     ...     ...     ...     ...     ...     ...     ...     ...     ...     ...     ...     ...     ...     ...     ...     ...     ...     ...     ...     ...     ...     ...     ...     ...     ...     ...     ...     ...     ...     ...     ...     ...     ...     ...     ...     ...     ...     ...     ...     ...     ...     ...     ...     ...     ...     ...     ...     ...     ...     ...     ...     ...     ...     ...     ...     ...     ...     ...     ...     ...     ...     ...     ...     ...     ...     ...     ...     ...     ...     ...     ...     ...     ...     ...     ...     ...     ...     ...     ...     ...     ...     ...     ...     ...     ...     ...     ...     ...     ...     ...     ...     ...     ...     ...     ...     ...     ...     ...     ...     ...     ...     ...     ...     ...     ...     ...     ...     ...     ...     ...     ...     ...     ...     ...     ...     ...     ...     ...     ...     ...     ...     ...     ...     ...     ...     ...     ...     ...     ...     ...     ...     ...     ...     ...     ...     ...     ...     ...     ...     ...     ...     ...     ...     ...     ...     ...     ...     ...     ...     ...     ...     ...     ...     ...     ...     ...     ...     ...     ...     ...     ...     ...     ...     ...     ...     ...     ...     ...     ...     ...     ...     ...     ...     ...     ...     ...     ...     ...     ...     ...     ...     ...     ...     ...     ...     ...     ...     ...     ...     ...     ...     ...     ...     ...     ...     ...     ...     ...     ...     ...     ...     ...     ...     ...     ...     ...     ...     ...     ...     ...     ...     ...     ...     ...     ...     ...     ...     ...     ...     ...     ...     ...     ...     ...     ...     ...     ...     ...     ...     ...     ...     ...     ...     ...     ...     ...     ...     ...     ...     ...     ...     ...     ...     ...     ...     ...     ...     ...     ...     ...     ...     ...     ...     ...     ...     ...     ...     ...     ...     ...     ...     ...     ...     ...     ...     ...     ...     ...     ...     ...     ...     ...     ...     ...     ...     ...     ...     ...     ...     ...     ...     ...     ...     ...     ...     ...     ...     ...     ...     ...     ...     ...     ...     ...     ...     ...     ...     ...     ...     ...     ...     ...     ...     ...     ...     ...     ...     ...     ...     ...     ...     ...     ...     ...     ...     ...     ...     ...     ...     ...     ...     ...     ...     ...     ...     ...     ...     ...     ...     ...     ...     ...     ...     ...     ...     ...     ...     ...     ...     ...     ...     ...     ...     ...     ...     ...     ...     ...     ...     ...     ...     ...     ...     ...     ...     ...     ...     ...     ...     ...     ...     ...     ...     ...     ...     ...     ...     ...     ...     ...     ...     ...     ...     ...     ...     ...     ...     ...     ...     ...     ...     ...     ...     ...     ...     ...     ...     ...     ...     ...     ...     ...     ...     ...     ...     ...     ...     ...     ...     ...     ...     ...     ...     ...     ...     ...     ...     ...     ...     ...     ...     ...     ...     ...     ...     ...     ...     ...     ...     ...     ...     ...     ...     ...     ...     ...     ...     ...     ...     ...     ...     ...     ...     ...     ...     ...     ...     ...     ...     ...     ...     ...     ...     ...     ...     ...     ...     ...     ...     ...     ...     ...     ...     ...     ...     ...     ...     ...     ...     ...     ...     ...     ...     ...     ...     ...     ...     ...     ...     ...     ...     ...     ...     ...     ...     ...     ...     ...     ...     ...     ...     ...     ...     ...     ...     ...     ...     ...     ...     ...     ...     ...     ...     ...     ...     ...     ...     ...     ...     ...     ...     ...     ...     ...     ...     ...     ...     ...     ...     ...     ...     ...     ...     ...     ...     ...     ...     ...     ...     ...     ...     ...     ...     ...     ...     ...     ...     ...     ...     ...     ...     ...     ...     ...     ...     ...     ...     ...     ...     ...     ...     ...     ...     ...     ...\n",
      "Year of Wonders                                        NaN     NaN     NaN     7.0     NaN     NaN     NaN     NaN     NaN     0.0     NaN     0.0     NaN     NaN     NaN     NaN     NaN     9.0     NaN     NaN     NaN     NaN     NaN  0.000000     NaN     NaN     NaN     NaN     NaN     NaN     NaN     NaN     NaN     NaN     NaN     NaN     NaN     0.0     NaN     NaN     NaN     NaN     NaN     NaN     NaN     NaN     NaN     NaN     0.0     NaN     NaN     NaN    10.0     NaN     NaN     NaN     8.0     NaN     NaN     NaN     NaN     NaN     NaN     NaN     NaN     NaN     NaN     NaN     NaN     NaN     NaN     NaN     NaN     NaN     NaN     NaN     NaN     NaN     NaN     NaN     NaN     NaN     NaN     NaN     NaN     NaN     NaN     0.0     NaN     NaN     NaN     NaN     NaN     NaN     NaN     NaN     NaN     NaN     NaN     NaN     NaN     NaN     NaN     NaN     NaN     NaN     NaN     NaN     NaN     NaN     NaN     NaN     NaN     NaN     NaN     NaN     NaN     NaN     NaN     NaN     NaN     NaN     NaN     NaN     NaN     NaN     NaN     NaN     NaN     NaN     NaN     NaN     NaN     NaN     NaN     NaN     NaN     NaN     NaN     NaN     NaN     NaN     NaN     NaN     NaN     NaN     NaN     NaN     NaN     NaN     NaN     NaN     NaN     NaN     NaN     0.0     NaN     0.0     NaN     NaN     NaN     NaN     NaN     NaN     NaN     NaN     0.0     NaN     NaN     NaN     NaN     NaN     NaN     NaN     NaN     NaN     NaN     NaN     NaN     NaN     NaN     NaN     9.0     NaN     NaN     NaN     NaN     NaN     NaN     NaN     NaN     NaN     NaN     NaN     NaN     NaN     NaN     NaN     NaN     NaN     NaN     NaN     0.0     NaN     NaN     NaN     NaN     NaN     NaN     NaN     NaN     NaN     NaN     NaN     NaN     NaN     NaN     NaN     NaN     NaN     NaN     NaN     0.0     NaN     NaN     NaN     NaN     NaN     NaN     NaN     NaN     NaN     NaN     NaN     NaN     NaN     NaN     NaN     NaN     NaN     NaN     NaN     NaN     NaN     NaN     NaN     NaN     NaN     NaN     NaN     NaN     NaN     NaN     NaN    10.0     NaN     NaN     NaN     NaN     NaN     NaN     NaN     NaN     NaN     NaN     NaN     NaN     9.0     NaN     NaN     NaN     NaN     NaN     NaN     NaN     NaN     NaN     NaN     NaN     NaN     NaN     NaN     NaN     NaN     0.0     NaN     NaN     NaN     NaN     NaN     NaN     NaN     NaN     NaN     NaN     NaN     NaN     NaN     NaN     NaN     NaN     NaN    10.0     NaN     NaN     NaN     NaN     NaN     NaN     NaN     NaN     NaN     0.0     NaN     NaN     0.0     NaN     6.0     NaN     NaN     NaN     NaN     NaN     NaN     NaN     NaN     0.0     NaN     NaN     NaN     NaN     NaN     NaN     NaN     NaN     NaN     NaN     NaN     NaN     NaN     NaN     NaN     NaN     NaN     NaN     0.0     9.0     NaN     0.0     NaN     NaN     0.0     NaN     NaN     NaN     NaN     NaN     NaN     NaN     NaN     0.0     NaN     NaN     9.0     NaN     NaN     NaN     NaN     NaN     NaN     NaN     NaN     NaN     NaN     NaN     NaN     NaN     NaN     NaN     NaN     NaN     NaN     NaN     NaN     8.0     NaN     NaN     NaN     NaN    10.0     NaN     NaN     NaN     NaN     NaN     NaN     NaN     NaN     NaN     NaN     NaN     NaN     NaN     NaN     NaN     NaN     NaN     NaN     NaN     NaN     NaN     NaN     NaN     NaN     NaN     NaN     NaN     NaN     NaN     NaN     NaN     NaN     NaN     NaN     NaN     NaN     NaN     NaN     NaN     NaN     NaN     NaN     NaN     NaN     NaN     NaN     NaN     9.0     NaN     NaN     NaN     NaN     NaN     NaN     NaN     NaN     NaN    10.0     NaN     NaN     NaN     NaN     NaN     NaN     NaN     NaN     NaN     NaN     NaN     NaN     NaN     NaN     NaN     NaN     0.0     NaN     NaN     NaN     NaN     NaN     NaN     NaN     9.0     0.0     NaN     NaN     NaN     NaN     NaN     NaN     NaN     NaN     NaN     NaN     NaN     NaN     NaN     NaN     NaN     NaN     NaN     NaN     NaN     NaN     NaN     0.0     0.0     NaN     NaN     NaN     NaN     NaN     NaN     NaN     NaN     NaN     NaN     NaN     NaN     NaN     NaN     NaN     NaN     NaN     NaN     NaN     NaN     0.0     NaN     NaN     NaN     NaN     NaN     NaN     NaN     NaN     NaN     NaN     8.0     NaN     NaN     NaN     NaN     NaN     NaN     NaN     NaN     NaN     0.0     NaN     NaN     NaN     NaN     NaN     NaN     NaN     NaN     0.0     NaN     NaN     NaN     NaN     NaN     NaN     NaN     NaN     NaN     NaN     NaN     NaN     NaN     NaN     NaN     0.0     NaN     NaN     NaN     NaN     NaN     NaN     NaN     NaN     NaN     NaN     0.0     NaN     NaN     NaN     NaN     NaN     NaN     9.0     NaN     NaN     NaN     NaN     NaN     NaN     NaN     NaN     NaN     NaN     NaN     NaN     NaN     NaN     NaN     NaN     NaN     NaN     NaN     0.0     NaN     NaN     NaN     NaN     NaN     NaN     NaN     NaN     NaN     NaN     NaN     NaN     NaN     NaN     NaN     NaN     NaN     NaN     NaN     NaN     NaN     NaN     NaN     NaN     NaN     NaN     NaN     NaN     NaN     NaN     NaN     NaN     NaN     NaN     NaN     NaN     NaN     NaN     NaN     7.0     NaN     NaN     NaN     NaN     NaN     NaN     NaN     NaN     NaN     NaN     NaN     NaN     NaN     NaN     NaN     NaN     NaN     NaN     NaN     NaN     NaN     NaN     NaN     NaN     NaN     NaN     NaN     NaN     NaN     NaN     NaN     NaN     NaN     NaN     NaN     0.0     NaN     NaN     NaN     NaN     NaN     NaN     0.0     NaN     NaN     NaN     NaN     NaN     NaN     NaN     NaN     NaN     NaN     NaN     NaN     NaN     NaN     NaN     NaN     NaN     NaN     NaN     NaN     NaN     NaN     NaN     NaN     NaN     NaN     NaN     NaN     NaN     NaN     NaN     NaN     NaN     NaN     NaN     0.0     0.0     NaN     NaN     NaN     NaN     NaN     NaN     NaN     NaN     NaN     NaN     NaN     NaN     NaN     NaN     NaN     NaN     NaN     NaN     NaN     NaN     NaN     NaN     NaN     NaN     NaN     NaN     NaN     NaN     NaN     NaN     NaN     NaN     NaN     NaN     NaN     NaN     NaN     NaN     NaN     NaN     NaN     NaN     0.0     NaN     NaN     NaN     NaN     NaN     NaN     NaN     NaN     NaN     NaN     NaN     NaN     NaN     NaN     0.0     NaN     NaN     NaN     NaN     NaN     0.0     NaN     NaN     NaN     NaN     NaN     NaN     NaN     NaN     NaN     NaN     NaN     NaN     NaN     NaN     NaN     NaN     NaN     NaN     NaN     NaN     9.0     NaN     NaN     NaN     NaN     0.0     NaN     NaN     NaN\n",
      "You Belong To Me                                       NaN     NaN     NaN     NaN     NaN     NaN     NaN     NaN     0.0     NaN     NaN     NaN     0.0     NaN     NaN     NaN     NaN     NaN     NaN     NaN     NaN     NaN     NaN  6.000000     NaN     NaN     NaN     NaN     NaN     8.0     NaN     NaN     NaN     NaN     NaN     NaN     NaN     NaN     NaN     NaN     NaN     NaN     NaN     NaN     NaN     NaN     NaN     NaN     6.0     NaN     NaN     NaN     NaN     NaN     0.0     NaN     NaN     NaN     NaN     NaN     NaN     NaN     NaN     NaN     NaN     NaN     NaN     NaN     NaN     0.0     NaN     NaN     NaN     NaN     NaN     NaN     NaN     NaN     NaN     NaN     NaN     NaN     NaN     NaN    10.0     NaN     0.0     NaN     NaN     NaN     NaN     NaN     NaN     NaN     0.0     8.0     NaN     NaN     NaN     NaN     NaN     NaN     NaN     NaN     NaN     NaN     0.0     NaN     NaN     0.0     NaN     NaN     NaN     NaN     NaN     NaN     NaN     NaN     0.0     NaN     NaN     NaN     NaN     NaN     NaN     NaN     NaN     NaN     NaN     NaN     NaN     NaN     NaN     NaN     0.0     NaN     NaN     NaN     NaN     NaN     NaN     NaN     NaN     NaN     0.0     NaN     NaN     NaN     NaN     NaN     NaN     NaN     NaN     NaN     NaN     NaN     NaN     NaN     NaN     NaN     NaN     NaN     NaN     NaN     NaN     NaN     NaN     NaN     NaN     NaN     NaN     NaN     NaN     NaN     NaN     NaN     NaN     NaN     NaN     NaN     NaN     NaN     NaN     NaN     NaN     NaN     NaN     NaN     NaN     NaN     NaN     0.0     NaN     NaN     NaN     NaN     NaN     NaN     NaN     0.0     NaN     8.0     NaN     NaN     NaN     NaN     NaN     NaN     NaN     NaN     NaN     NaN     NaN     NaN     NaN     NaN     NaN     NaN     0.0     NaN     NaN     NaN     NaN     NaN     NaN     0.0     NaN     NaN     NaN     NaN     NaN     NaN     7.0     NaN     NaN     NaN     NaN     NaN     NaN     NaN     NaN     NaN     NaN     NaN     NaN     NaN     NaN     NaN     NaN     NaN     NaN     0.0     NaN     NaN     NaN     NaN     NaN     NaN     NaN     NaN     NaN     NaN     NaN     NaN     NaN     NaN     NaN     NaN     NaN     NaN     NaN     0.0     NaN     NaN     0.0     NaN     NaN     9.0     NaN     NaN     NaN     NaN     NaN     NaN     NaN     NaN     NaN     NaN     NaN     NaN     NaN     NaN     NaN     NaN     NaN     NaN     NaN     NaN     NaN     NaN     NaN     NaN     NaN     NaN     NaN     NaN     NaN     NaN     NaN     NaN     NaN     NaN     0.0     NaN     NaN     NaN     NaN     NaN     0.0     NaN     NaN     NaN     NaN     NaN     NaN     NaN     NaN     NaN     NaN     NaN     NaN     NaN     NaN     NaN     NaN     NaN     0.0     NaN     NaN     NaN     NaN     NaN     NaN     NaN     NaN     NaN     NaN     0.0     NaN     NaN     NaN     NaN     NaN     NaN     NaN     NaN     NaN     NaN     NaN     NaN     NaN     NaN     NaN     NaN     NaN     NaN     NaN     NaN     NaN     NaN     NaN     NaN     NaN     NaN     NaN     NaN     NaN     NaN     NaN     NaN     NaN     NaN     NaN     NaN     NaN     NaN     NaN     NaN     NaN     NaN     NaN     NaN     NaN     NaN     NaN     NaN     NaN     NaN     0.0     NaN     NaN     NaN     NaN     NaN     0.0     NaN     NaN     0.0     NaN     NaN     0.0     NaN     0.0     NaN     NaN     NaN     NaN     NaN     NaN     NaN     NaN     NaN     NaN     NaN     NaN     NaN     NaN     NaN     NaN     NaN     NaN     NaN     NaN     NaN     NaN     NaN     NaN     NaN     NaN     NaN     NaN     NaN     0.0     0.0     NaN     NaN     NaN     NaN     NaN     NaN     NaN     NaN     NaN     NaN     NaN     NaN     NaN     NaN     NaN     NaN     NaN     NaN     NaN     0.0     NaN     0.0     NaN     NaN     NaN     NaN     NaN     NaN     NaN     NaN     NaN     NaN     NaN     NaN     NaN     NaN     NaN     NaN     NaN     NaN     NaN     NaN     NaN     NaN     NaN     NaN     NaN     NaN     NaN     NaN     0.0     0.0     NaN     NaN     NaN     NaN     NaN     NaN     NaN     NaN     NaN     NaN     NaN     NaN     NaN     NaN     NaN     NaN     NaN     NaN     NaN     NaN     NaN     NaN     NaN     NaN     NaN     NaN     NaN     0.0     0.0     NaN     NaN     NaN     NaN     NaN     NaN     NaN     NaN     NaN     NaN     NaN     NaN     NaN     NaN     NaN     NaN     NaN     NaN     NaN     NaN     NaN     NaN     NaN     NaN     NaN     NaN     NaN     NaN     NaN     NaN     NaN     0.0     NaN     NaN     NaN     NaN     NaN     NaN     NaN     NaN     NaN     NaN     NaN     NaN     NaN     NaN     NaN     NaN     NaN     NaN     NaN     NaN     NaN     NaN     NaN     NaN     NaN     NaN     NaN     NaN     NaN     NaN     NaN     NaN     NaN     NaN     NaN     NaN     NaN     NaN     NaN     NaN     NaN     NaN     NaN     NaN     NaN     NaN     NaN     NaN     NaN     NaN     NaN     NaN     NaN     NaN     NaN     NaN     NaN     NaN     NaN     NaN     NaN     NaN     NaN     NaN     NaN     NaN     NaN     NaN     NaN     NaN     NaN     NaN     NaN     NaN     NaN     NaN     NaN     NaN     NaN     NaN     NaN    10.0     NaN     NaN     NaN     NaN     NaN     0.0     NaN     NaN     NaN     NaN     NaN     NaN     0.0     NaN     0.0     8.0     NaN     NaN     NaN     NaN     NaN     NaN     NaN     NaN     NaN     NaN     NaN     NaN     NaN     NaN     NaN     NaN     NaN     NaN     NaN     NaN     NaN     NaN     NaN     NaN     NaN     NaN     NaN     0.0     0.0     NaN     NaN     NaN     5.0     NaN     NaN     NaN     NaN     NaN     NaN     NaN     NaN     NaN     NaN     NaN     NaN     NaN     NaN     NaN     NaN     NaN     NaN     NaN     NaN     NaN     NaN     NaN     NaN     NaN     NaN     NaN     NaN     NaN     NaN     NaN     0.0     NaN     NaN     NaN     NaN     NaN     NaN     NaN     NaN     NaN     NaN     NaN     NaN     NaN     0.0     NaN     NaN     NaN     NaN     NaN     NaN     NaN     NaN     NaN     NaN     NaN     NaN     NaN     NaN     NaN     NaN     NaN     NaN     NaN     NaN     NaN     NaN     NaN     NaN     NaN     NaN     NaN     NaN     NaN     NaN     NaN     NaN     NaN     NaN     NaN     NaN     NaN     NaN     NaN     NaN     NaN     NaN     NaN     NaN     NaN     NaN     NaN     NaN     NaN     NaN     NaN     NaN     NaN     NaN     NaN     NaN     NaN     NaN     NaN     NaN     NaN     NaN     NaN     NaN     NaN     NaN     NaN     NaN     NaN     NaN     0.0     NaN     NaN     NaN     NaN     NaN     NaN     NaN     NaN     NaN     NaN\n",
      "Zen and the Art of Motorcycle Maintenance: An I...     NaN     NaN     NaN     NaN     0.0     NaN     NaN     0.0     NaN     NaN     NaN     NaN     NaN     NaN     NaN     NaN     NaN     NaN     NaN     NaN     NaN     NaN     NaN  7.000000     NaN     NaN     NaN     NaN     NaN     NaN     NaN     NaN     NaN     NaN     NaN     NaN     NaN     NaN     NaN     NaN     NaN     NaN     NaN     NaN     NaN     NaN     NaN     NaN     NaN     NaN     NaN     NaN     NaN     NaN     NaN     NaN     NaN     NaN     NaN     NaN     NaN     NaN     NaN     NaN     NaN     NaN     NaN     NaN     NaN     NaN     NaN     NaN     NaN     NaN     NaN     NaN     7.0     NaN     NaN     NaN     NaN     NaN     NaN     NaN     NaN     NaN     NaN     NaN     NaN     0.0     NaN     NaN     NaN     NaN     NaN     0.0     NaN     NaN     NaN     NaN     NaN     NaN     0.0     NaN     NaN     NaN     NaN     NaN     NaN     NaN     NaN     NaN     NaN     NaN     NaN     NaN     NaN     NaN     NaN     NaN     NaN    10.0     NaN     NaN     NaN     NaN     NaN     NaN     NaN     NaN     NaN     NaN     NaN     0.0     NaN     NaN     NaN     NaN     NaN     NaN     NaN     NaN     NaN     9.0     0.0     NaN     NaN     NaN     NaN     NaN     NaN     NaN     NaN     NaN     NaN     0.0     NaN     NaN     NaN     NaN     NaN     NaN     NaN     NaN     NaN     NaN     NaN     NaN     NaN     0.0     NaN     NaN     6.0     NaN     NaN     NaN     NaN     NaN     NaN     NaN     NaN     NaN     NaN     NaN     NaN     NaN     NaN     NaN     NaN     NaN     NaN     0.0     NaN     NaN     NaN     NaN     NaN     NaN     NaN     0.0     NaN     NaN     NaN     NaN     NaN     NaN     NaN     NaN     NaN     NaN     NaN     NaN     NaN     NaN     8.0     NaN     0.0     0.0     NaN     0.0     NaN     NaN     NaN     NaN     NaN     NaN     NaN     NaN     0.0     NaN     NaN     NaN     NaN     0.0     NaN     5.0     NaN     NaN     NaN     NaN     NaN     NaN     NaN     NaN     NaN     NaN     NaN     NaN     NaN     6.0     NaN     NaN     NaN     NaN     NaN     NaN     NaN     NaN     NaN     NaN     NaN     NaN     NaN     NaN     NaN     NaN     NaN     NaN     0.0     NaN     NaN     NaN     NaN     NaN     NaN     NaN     NaN     NaN     NaN     NaN     NaN     NaN     NaN     NaN     NaN     NaN     NaN     NaN     NaN     NaN     NaN     NaN     NaN     NaN     NaN     NaN     NaN     NaN     NaN     NaN     9.0     NaN     NaN     NaN     NaN     NaN     0.0     NaN     NaN     NaN     NaN     NaN     NaN     0.0     0.0     NaN     NaN     NaN     NaN     NaN     NaN     NaN     0.0     NaN     NaN     NaN     NaN     NaN     NaN     NaN     NaN     NaN     NaN     NaN     NaN     NaN     NaN     NaN     NaN     NaN     NaN     NaN     NaN     NaN     NaN     NaN     NaN     NaN     NaN     NaN     NaN     0.0     NaN     NaN     NaN     NaN     NaN     NaN     NaN     NaN     NaN     NaN     NaN     NaN     NaN     NaN     NaN     NaN     NaN     NaN     NaN     NaN     NaN     NaN     NaN     NaN     NaN     NaN     NaN     NaN     NaN     NaN     NaN     NaN     NaN     NaN     NaN     NaN     NaN     NaN     NaN     NaN     NaN     NaN     NaN     NaN     9.0     NaN     NaN     NaN     NaN     NaN     NaN     NaN     NaN     NaN     NaN     NaN     NaN     0.0     NaN     NaN     NaN     NaN     NaN     NaN     NaN     NaN     NaN     NaN     NaN     NaN     NaN     NaN     NaN     NaN     NaN     NaN     NaN     NaN    10.0     NaN     NaN     NaN     NaN     NaN     NaN     NaN     NaN     NaN     0.0     NaN     NaN     NaN     NaN     NaN     NaN     NaN     NaN     NaN     NaN     NaN     NaN     NaN     NaN     NaN     NaN     NaN     NaN     NaN     NaN     NaN     NaN     NaN     NaN     NaN     NaN     NaN     NaN     NaN     NaN     NaN     NaN     NaN     NaN     NaN     NaN     NaN     NaN     NaN     NaN     NaN     NaN     NaN     NaN     NaN     NaN     NaN     NaN     NaN     NaN     NaN     NaN     NaN     NaN     NaN     NaN     NaN     NaN     NaN     NaN     NaN     NaN     NaN     NaN     NaN     NaN     NaN     NaN     NaN     NaN     NaN     NaN     NaN     NaN     0.0     NaN     NaN     NaN     NaN     NaN     NaN     NaN     NaN     NaN     NaN     NaN     NaN     NaN     NaN     NaN     NaN     0.0     NaN     NaN     NaN     NaN     NaN     NaN     NaN     NaN     NaN     NaN     NaN     NaN     NaN     NaN     0.0     NaN     NaN     NaN     NaN     NaN     NaN     0.0     NaN     NaN     NaN     NaN     NaN     NaN     NaN     NaN     NaN     NaN     NaN     NaN     NaN     NaN     NaN     NaN     NaN     NaN     NaN     0.0     NaN     NaN     NaN     NaN     NaN     NaN     NaN     NaN     NaN     NaN     NaN     NaN     NaN     8.0     NaN     NaN     NaN     0.0     NaN     NaN     0.0     NaN     NaN     NaN     NaN     NaN     7.0     0.0     NaN     0.0     NaN     NaN     NaN     NaN     NaN     NaN     NaN     NaN     NaN     NaN     NaN     NaN     NaN     NaN     NaN     NaN     2.0     NaN     NaN     NaN     NaN     NaN     NaN     0.0     NaN     NaN     NaN     NaN     0.0     NaN     NaN     NaN     NaN     NaN     NaN     NaN     NaN     NaN     NaN     NaN     NaN     NaN     NaN     0.0     NaN     NaN     NaN     NaN     0.0     NaN     0.0     NaN     NaN     NaN     NaN     NaN     NaN     NaN     NaN     NaN     NaN     NaN     NaN     NaN     NaN     NaN     NaN     NaN     NaN     NaN     NaN     NaN     NaN     NaN     NaN     NaN     NaN     NaN     NaN     7.0     NaN     NaN     NaN     NaN     NaN     NaN     NaN     NaN     NaN     NaN     NaN     9.0     NaN     NaN     NaN     NaN     NaN     NaN     NaN     NaN     NaN     NaN     NaN     NaN     NaN     NaN     NaN     NaN     NaN     NaN     NaN     NaN     NaN     NaN     NaN     NaN     NaN     NaN     NaN     NaN     NaN     NaN     NaN     NaN     NaN     NaN     NaN     NaN     NaN     NaN     NaN     NaN     NaN     NaN     NaN     NaN     NaN     NaN     NaN     NaN     NaN     NaN     NaN     NaN     NaN     NaN     NaN     NaN     NaN     NaN     0.0     NaN     NaN     NaN     NaN     NaN     NaN     0.0     NaN     NaN     NaN     NaN     NaN     NaN     NaN     NaN     NaN     NaN     NaN     NaN     NaN     NaN     NaN     NaN     NaN     NaN     NaN     NaN     0.0     NaN     NaN     NaN     NaN     NaN     NaN     NaN     0.0     0.0     NaN     NaN     NaN     NaN     NaN     NaN     NaN     NaN     NaN     NaN     NaN     NaN     NaN     NaN     NaN     NaN     NaN     NaN     0.0     NaN     NaN     NaN\n",
      "Zoya                                                   NaN     NaN     NaN     NaN     NaN     NaN     NaN     NaN     NaN     NaN     NaN     NaN     NaN     NaN     NaN     NaN     NaN     NaN     NaN     NaN     NaN     NaN     NaN  7.000000     NaN     NaN     NaN     NaN     NaN     NaN    10.0     NaN     NaN     NaN     NaN     NaN     NaN     NaN     6.0     NaN     NaN     NaN     0.0     NaN     NaN     NaN     NaN     NaN     NaN     NaN     NaN     NaN     NaN     NaN     NaN     NaN     NaN     NaN     0.0     NaN     NaN     NaN     NaN     NaN     NaN     NaN     NaN     NaN     NaN     NaN     NaN     NaN     NaN     NaN     NaN     NaN     NaN     NaN     NaN     NaN     NaN     NaN     NaN     NaN     NaN     NaN     0.0     NaN     NaN     NaN     NaN     0.0     NaN     NaN     NaN     NaN     NaN     NaN     NaN     NaN     NaN     NaN     NaN     NaN     NaN     NaN     NaN     NaN     NaN     NaN     NaN     NaN     NaN     NaN     NaN     NaN     NaN     NaN     NaN     NaN     NaN     NaN     NaN     NaN     NaN     NaN     NaN     NaN     NaN     NaN     NaN     NaN     5.0     NaN     NaN     NaN     NaN     NaN     NaN     NaN     NaN     NaN     NaN     NaN     NaN     0.0     0.0     NaN     NaN     NaN     NaN     NaN     NaN     0.0     NaN     NaN     NaN     NaN     NaN     NaN     9.0     NaN     NaN     NaN     NaN     NaN     NaN     NaN     NaN     NaN     0.0     0.0     NaN     0.0     NaN     NaN     NaN     NaN     NaN     NaN     NaN     NaN     NaN     NaN     NaN     NaN     NaN     NaN     NaN     NaN     NaN     0.0     NaN     NaN     NaN     0.0     NaN     NaN     NaN     NaN     NaN     NaN     NaN     NaN     NaN     NaN     NaN     NaN     NaN     NaN     NaN     NaN     NaN     0.0     NaN     NaN     NaN     NaN     NaN     NaN     NaN     NaN     NaN     NaN     NaN     NaN     NaN     NaN     NaN     NaN     NaN     NaN     NaN     NaN     NaN     NaN     NaN     NaN     NaN     NaN     NaN     NaN     NaN     NaN     NaN     NaN     NaN     NaN     NaN     NaN     NaN     NaN     NaN     NaN     NaN     NaN     NaN     NaN     NaN     NaN     NaN     NaN     NaN     NaN     NaN     NaN     NaN     NaN     NaN     NaN     NaN     NaN     NaN     NaN     0.0     NaN     NaN     8.0     0.0     NaN     NaN     NaN     NaN     NaN     0.0     NaN     NaN     NaN     NaN     NaN     0.0     NaN     NaN     NaN     NaN     NaN     NaN     NaN     NaN     NaN     NaN     NaN     NaN     NaN     NaN     NaN     NaN     NaN     NaN     NaN     NaN     NaN     0.0     NaN     NaN     NaN     NaN     NaN     NaN     NaN     0.0     NaN     NaN     NaN     NaN     NaN     NaN     NaN     NaN     NaN     NaN     0.0     NaN     NaN     NaN     NaN     0.0     NaN     NaN     0.0     NaN     NaN     NaN     NaN     0.0     NaN     NaN     NaN     NaN     NaN     NaN     NaN     NaN     NaN     NaN     NaN     NaN     NaN     NaN     NaN     NaN     NaN     NaN     NaN     NaN     NaN     NaN     NaN     2.0     NaN     NaN     NaN     0.0     NaN     NaN     NaN     NaN     NaN     NaN     NaN     NaN     NaN     NaN     NaN     NaN     NaN     NaN     NaN     NaN     NaN     NaN     NaN     NaN     NaN     NaN     NaN     NaN     NaN     NaN     NaN     NaN     NaN     NaN     NaN     0.0     NaN     NaN     NaN     NaN     NaN     NaN     NaN     NaN     NaN     NaN     NaN     NaN     NaN     NaN     NaN     NaN     NaN     NaN     NaN     NaN     NaN     NaN     NaN     NaN     NaN     NaN     NaN     NaN     NaN     NaN     NaN     NaN     8.0     NaN     NaN     NaN     NaN     NaN     0.0     NaN     NaN     NaN     NaN     NaN     0.0     NaN     NaN     NaN     NaN     NaN     NaN     NaN     NaN     NaN     NaN     NaN     NaN     NaN     NaN     0.0     NaN     NaN     NaN     NaN     NaN     NaN     NaN     0.0     NaN     NaN     NaN     NaN     NaN     NaN     NaN     NaN     NaN     NaN     NaN     NaN     NaN     NaN     NaN     NaN     NaN     NaN     NaN     NaN     NaN     NaN     NaN     NaN     NaN     NaN     NaN     NaN     NaN     0.0     NaN     NaN     NaN     0.0     NaN     NaN     NaN     NaN     NaN     NaN     NaN     NaN     NaN     NaN     NaN     NaN     NaN     NaN     NaN     NaN     0.0     0.0     NaN     NaN     NaN     NaN     NaN     NaN     NaN     NaN     NaN     NaN     NaN     NaN     NaN     0.0     NaN     NaN     NaN     NaN     NaN     NaN     NaN     NaN     NaN     NaN     NaN     NaN     NaN     NaN     NaN     NaN     NaN     0.0     NaN     NaN     NaN     NaN     NaN     NaN     NaN     NaN     NaN     NaN     NaN     NaN     NaN     0.0     NaN     NaN     NaN     NaN     NaN     NaN     NaN     NaN     NaN     NaN     NaN     NaN     NaN     NaN     NaN     NaN     NaN     NaN     NaN     NaN     NaN     NaN     NaN     NaN     NaN     NaN     NaN     NaN     NaN     NaN     NaN     NaN     NaN     NaN     NaN     NaN     NaN     NaN     NaN     NaN     NaN     NaN     NaN     NaN     NaN     NaN     NaN     NaN     NaN     9.0     0.0     NaN     NaN     NaN     NaN     0.0     NaN     NaN     NaN     NaN     NaN     NaN     NaN     NaN     NaN     NaN     NaN     NaN     NaN     NaN     NaN     NaN     NaN     NaN     NaN     NaN     NaN     NaN     NaN     NaN     NaN     NaN     NaN     NaN     NaN     NaN     NaN     NaN     NaN     NaN     0.0     NaN     NaN     NaN     NaN     NaN     NaN     NaN     NaN     NaN     NaN     NaN     NaN     0.0     NaN     NaN     NaN     NaN     NaN     NaN     NaN     0.0     NaN     NaN     NaN     NaN     NaN     NaN     NaN     NaN     NaN     NaN     NaN     NaN     NaN     NaN     NaN     NaN     NaN     NaN     NaN     NaN     NaN     NaN     NaN     NaN     NaN     NaN     NaN     0.0     NaN     NaN     NaN     NaN     NaN     NaN     NaN     NaN     NaN     NaN     NaN     NaN     NaN     NaN     NaN     NaN     NaN     NaN     NaN     NaN     NaN     NaN     NaN     NaN     0.0     NaN     NaN     0.0     0.0     NaN     NaN     NaN     NaN     NaN     NaN     NaN     NaN     NaN     NaN     NaN     NaN     NaN     NaN     NaN     NaN     NaN     NaN     NaN     NaN     NaN     NaN     NaN     NaN     NaN     NaN     NaN     NaN     NaN     NaN     NaN     NaN     NaN     NaN     NaN     NaN     NaN     NaN     NaN     NaN     NaN     NaN     0.0     NaN     NaN     NaN     NaN     NaN     NaN     NaN     NaN     NaN     NaN     NaN     NaN     NaN     NaN     0.0     NaN     NaN     NaN     NaN     NaN     0.0     NaN     NaN     0.0     NaN     NaN     NaN     NaN     NaN     NaN     NaN     NaN\n",
      "\\O\\\" Is for Outlaw\"                                    NaN     NaN     NaN     NaN     NaN     NaN     NaN     NaN     NaN     NaN     NaN     NaN     NaN     NaN     8.0     NaN     NaN     NaN     NaN     0.0     0.0     NaN     0.0  3.500000     NaN     NaN     NaN     NaN     NaN     NaN     NaN     NaN     NaN     NaN     NaN     NaN     NaN     NaN     NaN     NaN     NaN     NaN     NaN     NaN     NaN     NaN     NaN     NaN     NaN     NaN     NaN     NaN     NaN     NaN     0.0     NaN     NaN     NaN     NaN     NaN     NaN     NaN     0.0     NaN     NaN     NaN     0.0     NaN     0.0     NaN     NaN     NaN     NaN     NaN     NaN     NaN     NaN     NaN     NaN    10.0     NaN     NaN     NaN     0.0     NaN     NaN     0.0     NaN     NaN     NaN     NaN     NaN     NaN     NaN     NaN     NaN     2.5     NaN     NaN     NaN     NaN     NaN     NaN     NaN     5.0     NaN     NaN     NaN     NaN     NaN     NaN     NaN     NaN     NaN     NaN     NaN     NaN     NaN     NaN     NaN     NaN     NaN     NaN     NaN     NaN     NaN     NaN     NaN     NaN     NaN     NaN     NaN     NaN     0.0     NaN     NaN     0.0     6.0     NaN     NaN     NaN     NaN     NaN     NaN     0.0     NaN     NaN     NaN     NaN     NaN     NaN     NaN     NaN     NaN     NaN     NaN     NaN     NaN     NaN     NaN     NaN     NaN     NaN     NaN     NaN     NaN     NaN     NaN     NaN     NaN     NaN     NaN     NaN     NaN     NaN     NaN     NaN     NaN     NaN     NaN     NaN     NaN     NaN     NaN     NaN     NaN     NaN     NaN     NaN     NaN     NaN     0.0     NaN     NaN     NaN     NaN     NaN     NaN     NaN     0.0     NaN     NaN     NaN     NaN     NaN     NaN     NaN     NaN     NaN     NaN     NaN     NaN     NaN     NaN     NaN     7.0     NaN     NaN     0.0     NaN     NaN     NaN     0.0     NaN     NaN     NaN     0.0     NaN     NaN     NaN     NaN     NaN     NaN     NaN     NaN     NaN     0.0     NaN     NaN     NaN     NaN     NaN     NaN     NaN     NaN     NaN     NaN     NaN     NaN     NaN     NaN     NaN     NaN     NaN     NaN     NaN     NaN     NaN     NaN     NaN     NaN     NaN     NaN     NaN     NaN     NaN     8.0     NaN     NaN     NaN     NaN     NaN     NaN     NaN     NaN     NaN     NaN     9.0     NaN     NaN     NaN     NaN     NaN     NaN     NaN     0.0     NaN     NaN     NaN     0.0     NaN     NaN     NaN     NaN     NaN    10.0     NaN     NaN     NaN     NaN     NaN     NaN     NaN     NaN     NaN     NaN     NaN     NaN     NaN     NaN     NaN     NaN     NaN     NaN     NaN     NaN     NaN     NaN     0.0     NaN     NaN     NaN     NaN     NaN     NaN     NaN     NaN     NaN     NaN     NaN     NaN     0.0     NaN     NaN     NaN    10.0     NaN     NaN     NaN     NaN     NaN     NaN     0.0     NaN     NaN     NaN     NaN     NaN     NaN     0.0     NaN     9.0     NaN     NaN     NaN     NaN     NaN     NaN     NaN     NaN     NaN     NaN     NaN     NaN     NaN     NaN     NaN     NaN     NaN     NaN     NaN     NaN     0.0     NaN     NaN     NaN     NaN     NaN     0.0     NaN     0.0     NaN     NaN     NaN     NaN     NaN     0.0     NaN     NaN     NaN     NaN     NaN     NaN     NaN     NaN     NaN     NaN     NaN     NaN     NaN     NaN     NaN     NaN     7.0     NaN     NaN     NaN     9.0     NaN     NaN     NaN     NaN     NaN     NaN     NaN     NaN     NaN     NaN     NaN     NaN     NaN     NaN     NaN     NaN     NaN     NaN     NaN     NaN     NaN     NaN     NaN     NaN     NaN     NaN     0.0     NaN     NaN     NaN     7.0     NaN     NaN     NaN     3.0     NaN     NaN     NaN     NaN     NaN     NaN    10.0     NaN     NaN     NaN     0.0     NaN     8.0     NaN     NaN     NaN     NaN     NaN     NaN     NaN     0.0     NaN     NaN     NaN     NaN     NaN     NaN     0.0     NaN     NaN     NaN     NaN     NaN     NaN     NaN     NaN     NaN     NaN     NaN     0.0     NaN     NaN     NaN     NaN     NaN     NaN     NaN    10.0     NaN     NaN     NaN     NaN     NaN     NaN     0.0     0.0     NaN     NaN     NaN     0.0     NaN     NaN     NaN     NaN     NaN     NaN     NaN     NaN     NaN     NaN     NaN     NaN     NaN     NaN     NaN     NaN     NaN     NaN     NaN     NaN     NaN     0.0     NaN     NaN     NaN     NaN     NaN     NaN     NaN     8.0     NaN     0.0     NaN     NaN     NaN     NaN     0.0     NaN     NaN     NaN     NaN     NaN     NaN     NaN     0.0     NaN     NaN     NaN     NaN     NaN     NaN     NaN     NaN     NaN     NaN     NaN     NaN     NaN     NaN     NaN     NaN     NaN     NaN     NaN     NaN     NaN     NaN     NaN     NaN     NaN     NaN     NaN     NaN     NaN     NaN     NaN     0.0     NaN     NaN     0.0     NaN     NaN     NaN     0.0     NaN     NaN     NaN     NaN     NaN     NaN     0.0     NaN     NaN     NaN     NaN     NaN     NaN     NaN     NaN     NaN     NaN     NaN     NaN     NaN     NaN     NaN     0.0     NaN     NaN     NaN     NaN     NaN     NaN     0.0     NaN     NaN     NaN     NaN     NaN     NaN     NaN     0.0     NaN     NaN     NaN     NaN     NaN     NaN     NaN     NaN     NaN     NaN     NaN     NaN     NaN    10.0     NaN     NaN     0.0     0.0     NaN     NaN     NaN     NaN     NaN     NaN     0.0     NaN     8.0     NaN     0.0     NaN     NaN     NaN     NaN     0.0     NaN     NaN     0.0     NaN     NaN     0.0     NaN     NaN     0.0     NaN     NaN     NaN     0.0     0.0     NaN     NaN     0.0     NaN     NaN     NaN     NaN     NaN     NaN    10.0     0.0     NaN     NaN     NaN     0.0     NaN     NaN     NaN     NaN     NaN     NaN     NaN     NaN     NaN     NaN     NaN     NaN     NaN     NaN     NaN     NaN     NaN     NaN     NaN     NaN     NaN     0.0     0.0     NaN     NaN     NaN     NaN     NaN     NaN     NaN     NaN     NaN     NaN     NaN     NaN     NaN     NaN     NaN     0.0     NaN     NaN     NaN     NaN     NaN     NaN     NaN     NaN     NaN     NaN     NaN     NaN     NaN     NaN     NaN     NaN     NaN     NaN     NaN     NaN     NaN     NaN     NaN     NaN     0.0     NaN     NaN     NaN     NaN     NaN     NaN     0.0     NaN     NaN     NaN     NaN     NaN     9.0     NaN     NaN     NaN     NaN     NaN     NaN     NaN     NaN     NaN     NaN     NaN     NaN     NaN     NaN     NaN     NaN     NaN     0.0     NaN     NaN     NaN     NaN     NaN     NaN     NaN     NaN     NaN     0.0     NaN     0.0     NaN     NaN     0.0     0.0     NaN     NaN     NaN     NaN     NaN     NaN     NaN     NaN     NaN     NaN     8.0     NaN     NaN     NaN     NaN     NaN\n",
      "\n",
      "[683 rows x 815 columns]\n"
     ]
    }
   ],
   "source": [
    "pt = final_ratings.pivot_table(index='Book-Title', columns='User-ID', values='Book-Rating')\n",
    "print(pt)"
   ]
  },
  {
   "cell_type": "code",
   "execution_count": 61,
   "id": "51b59f42",
   "metadata": {},
   "outputs": [
    {
     "name": "stdout",
     "output_type": "stream",
     "text": [
      "User-ID                                             254     2276    2766    2977    3363    4017    4385    6251    6323    6543    6563    6575    7158    7286    7346    7915    8067    8245    8681    8936    10447   10819   11601     11676   11993   12538   12824   12982   13082   13273   13552   13850   14422   14521   15408   15418   16106   16634   16795   16916   16966   17950   18067   18401   19085   19664   20115   20201   21014   21252   21576   21659   22625   23288   23768   23872   23902   24194   24921   25409   25601   25981   26516   26535   26544   26583   26593   27617   28204   28360   28523   28591   29259   29855   30276   30487   30511   30533   30711   30735   30972   31315   31391   31556   31826   31846   32195   32440   32721   32773   33974   35050   35433   35836   35857   35859   36606   36609   36836   36907   37567   37712   37950   38023   38273   38781   39281   39467   39616   39646   39773   40889   40943   41084   41841   42914   43246   43806   43842   44595   44728   46398   47316   48494   49109   49460   49889   50225   51094   51350   51386   51450   51883   52199   52584   52614   52853   52917   53174   53628   53729   54218   55187   55490   55492   55548   55734   55892   56271   56399   56447   56856   56959   59172   59971   60244   60277   60337   60707   61619   62272   62891   62895   63394   63714   63938   64436   65258   66680   67840   68555   69042   69078   69232   69355   69405   69697   69808   69971   70052   70415   70594   71712   72352   72992   73394   73651   75591   75860   76151   76223   76352   76499   76626   76818   76942   77809   77940   78553   78783   78834   78973   79186   79441   80538   80683   81045   81492   81560   81977   82407   82831   82893   82926   83637   84024   85426   85526   85656   85701   85757   85993   86202   86243   86641   87141   87143   87555   87746   87974   88283   88677   88693   88733   88937   89602   91203   91342   91832   91931   92547   92652   92810   92979   93047   93085   93363   93629   94242   94347   94853   94923   95193   95316   95359   95903   95932   95991   96054   96448   97874   98391   98741   98758   100459  100644  100846  100906  101209  101851  101876  102275  102647  102702  102967  104399  104429  104636  104665  105374  105517  105979  106225  106816  107021  107301  107453  107784  107951  108005  108285  108352  109461  109574  109955  110029  110483  110912  110934  110973  111174  111947  112001  112026  112881  113270  113519  113817  113904  113983  114178  114368  114414  114444  114868  114988  115002  115003  115120  115490  116599  117251  117539  119575  120093  120548  122429  122793  122881  123790  123883  123981  124078  124079  124363  124487  124942  125039  125519  125692  125774  126492  126604  126736  127200  127233  127359  127429  127914  128208  128696  128835  129008  129074  129358  129465  129716  129851  130474  130554  130571  131027  131046  131402  131837  131855  132083  133571  133689  133747  133868  135045  135149  135265  135458  135831  136010  136139  136205  136252  136382  137589  137688  138097  138441  138578  138844  139467  139742  140000  140036  140358  141493  141710  141902  142093  142524  143175  143253  143415  143792  144531  144555  145449  145451  145619  145641  146113  146230  146348  147141  147451  147847  147965  148199  148258  148744  149069  149907  149908  149934  150124  150498  150968  150979  151790  151806  152186  152249  153563  153662  153718  154992  155014  155147  155219  155495  156150  156269  156467  157273  157811  158295  159033  159376  159858  160032  160819  161752  162052  162639  162738  163804  163973  164027  164323  164465  164533  164675  164828  165232  165308  165319  166123  166596  167349  167471  167800  168047  168064  168144  168245  169233  169663  169699  170229  170513  170518  170575  170634  170742  170947  171118  172030  172512  172742  173291  173415  173632  173684  173835  174216  174304  174791  175003  175886  177072  177090  177374  177432  177458  177690  178181  178199  178667  178950  179733  179744  179772  179978  180348  180586  180651  180917  180957  181176  181687  182085  182086  182987  182993  183196  183995  184299  185233  185384  186570  187145  187256  187517  188010  189334  189516  189835  189973  190459  190708  190807  190925  191187  192093  193499  193560  194600  194669  195694  196047  196077  196160  196457  196502  197364  197659  197775  198621  198699  198711  199416  199772  200226  200674  201017  201290  201447  201526  201674  201768  201783  203240  203799  203968  204167  204522  204591  204864  205473  205735  205980  206074  206534  206567  206979  207246  207349  207499  207782  208141  208147  208406  208410  208568  208671  208829  209373  209516  209756  209875  210035  210485  210792  210959  211426  211430  211847  211919  212645  212898  212923  212965  213150  213350  214272  214786  216012  216444  216466  216683  217106  217121  217375  217740  218552  218608  219546  220278  221445  222050  222204  222296  222941  223087  223154  224138  224349  224430  224435  224646  224764  225087  225199  225232  225763  225810  225986  225989  226545  226879  226965  227447  227520  227705  228681  228764  228998  229011  229313  229329  229551  229741  230249  230496  230522  230708  231210  231237  231827  231857  232131  232945  233911  233917  234359  234623  234721  234828  235105  235282  235392  235842  235935  236058  236172  236283  236340  236757  236948  236959  238120  238526  238541  238545  238557  238699  238781  238961  239584  239594  240144  240567  240568  241198  241548  241666  241980  242006  242083  242106  242299  242409  242646  242824  243077  244349  244688  244736  245371  245410  245645  245827  245963  246156  246311  246513  246655  246671  247429  247447  247752  248718  249111  249628  249862  249894  250184  250405  250764  250962  251394  251422  251613  251843  251844  252071  252222  252695  252820  252848  253556  253821  254206  254465  254899  254971  255092  255218  255489  256167  256402  256407  257028  257204  257700  258152  258185  258534  258938  259260  259380  259629  260897  261105  261829  262399  262998  263163  263460  263877  264031  264082  264317  264321  264637  265115  265313  265595  265889  266056  266226  266753  266865  267635  268030  268032  268110  268330  268622  268932  269566  269719  269890  270713  270820  271195  271284  271448  271705  273979  274004  274061  274301  274308  275970  277427  277639  278418\n",
      "Book-Title                                                                                                                                                                                                                                                                                                                                                                                                                                                                                                                                                                                                                                                                                                                                                                                                                                                                                                                                                                                                                                                                                                                                                                                                                                                                                                                                                                                                                                                                                                                                                                                                                                                                                                                                                                                                                                                                                                                                                                                                                                                                                                                                                                                                                                                                                                                                                                                                                                                                                                                                                                                                                                                                                                                                                                                                                                                                                                                                                                                                                                                                                                                                                                                                                                                                                                                                                                                                                                                                                                                                                                                                                                                                                                                                                                                                                                                                                                                                                                                                                                                                                                                                                                                                                                                                                                                                                                                                                                                                                                                                                                                                                                                                                                                                                                                                                                                                                                                                                                                                                                                                                                                                                                                                                                                                                                                                                                                                                                                                                                                                                                                                                                                                                                                                                                                                                                                                                                                                                                                                                                                                                                                                                                                                                                                                                                                                                                                                                                                                                                                                                                                                                                                                                                                                                                                                                                  \n",
      "1984                                                   9.0     0.0     0.0     0.0     0.0     0.0     0.0     0.0     0.0     0.0     0.0     0.0     0.0     0.0     8.0     0.0     0.0     0.0     0.0     0.0     0.0     0.0     0.0  3.333333     0.0     0.0     0.0     0.0     0.0     0.0     0.0     0.0     0.0     0.0     9.0     0.0     0.0     0.0     8.0     0.0     0.0     0.0     0.0     0.0     0.0     0.0     0.0     0.0     0.0     0.0     0.0     0.0     0.0     0.0     0.0     7.0     0.0     0.0     0.0     0.0     0.0     0.0     0.0     0.0     0.0     0.0     0.0     0.0     0.0     0.0     0.0     0.0     0.0     0.0     0.0     0.0     0.0     0.0     0.0     0.0     0.0     0.0     0.0     0.0     0.0     0.0     0.0     0.0     0.0     0.0     0.0     0.0     0.0     0.0     0.0     0.0     0.0     0.0     0.0     0.0     0.0     0.0     0.0     0.0     0.0     0.0     0.0     0.0     0.0     0.0     0.0     0.0     0.0     0.0     0.0     0.0     0.0     0.0     0.0     0.0     0.0     0.0     0.0     0.0     0.0     9.0     0.0     0.0     0.0     0.0     0.0     0.0     0.0     0.0     0.0     0.0     0.0     0.0     0.0     0.0     0.0     0.0     0.0    10.0     0.0     0.0     0.0     0.0     0.0     0.0     0.0     0.0     0.0     0.0     0.0     9.0     0.0     0.0     0.0     0.0     0.0     0.0     0.0     0.0     0.0     0.0     0.0     0.0     0.0     0.0     0.0     0.0     8.0     0.0     0.0     0.0     0.0     0.0     0.0     0.0     0.0     0.0     0.0     0.0     0.0     0.0     0.0     0.0     0.0     0.0     0.0     0.0     0.0     0.0     0.0     0.0     0.0     0.0     0.0     0.0     0.0     0.0     0.0     0.0    10.0    10.0     0.0     0.0     0.0     0.0     0.0     0.0     0.0     0.0     0.0     0.0     0.0     0.0     0.0     0.0     0.0     0.0     0.0     0.0     0.0     0.0     0.0     5.0     0.0     0.0     0.0     0.0     0.0     0.0     0.0     0.0     0.0     0.0     0.0     0.0     0.0     0.0     0.0     0.0     0.0     0.0     0.0     0.0     0.0     0.0     0.0     0.0     0.0     0.0    10.0     0.0     0.0     0.0     0.0     0.0     0.0     0.0     0.0     0.0     0.0     0.0     0.0     0.0     0.0     0.0     0.0     0.0     0.0     0.0     0.0     0.0     0.0     0.0     0.0     0.0     0.0     0.0     0.0     0.0     0.0     0.0     0.0     0.0     0.0     0.0     0.0     0.0     0.0     0.0     0.0     0.0     0.0     0.0     0.0     0.0     0.0     0.0     0.0     0.0     0.0     0.0     0.0     0.0     0.0     0.0     0.0     0.0     0.0     0.0     0.0     0.0     0.0     0.0     0.0     0.0     0.0     0.0     0.0     0.0     0.0     0.0     0.0     0.0    10.0     0.0     0.0     0.0     0.0     0.0     0.0     0.0     0.0     0.0     0.0     0.0     0.0     0.0     0.0     0.0     0.0     0.0     0.0     0.0     0.0     0.0     0.0     0.0     0.0     0.0     0.0     0.0    10.0     0.0     0.0     0.0     0.0     0.0     0.0     0.0     0.0     0.0     0.0     0.0     0.0     0.0     0.0     0.0     0.0     0.0     0.0     0.0     0.0     0.0     0.0     0.0     0.0     0.0     0.0     0.0     0.0     0.0     0.0     0.0     0.0     0.0     0.0     0.0     0.0     0.0     0.0     0.0     0.0     0.0     0.0     0.0     0.0     0.0     0.0     0.0     0.0     0.0     0.0     0.0     0.0     0.0     0.0     0.0     0.0     0.0     0.0     0.0     0.0     0.0     0.0     0.0     0.0     0.0     0.0     0.0     0.0     0.0     0.0     0.0     0.0     0.0     0.0     0.0     0.0     0.0     0.0     0.0     0.0     0.0     0.0     0.0     0.0     0.0     0.0     7.0     0.0     0.0     0.0     0.0     0.0     0.0     0.0     0.0     0.0     0.0     0.0     0.0     0.0     9.0     0.0     0.0     0.0     0.0     0.0     0.0     0.0     0.0     0.0     0.0     0.0     0.0     0.0     0.0     0.0     0.0     0.0     0.0     0.0     0.0     0.0     0.0     0.0     0.0     0.0     0.0     0.0     0.0     0.0     0.0     0.0     0.0     0.0     0.0     0.0     0.0     0.0     0.0     0.0     0.0     0.0    10.0     0.0     0.0     0.0     0.0     0.0     0.0     0.0     0.0     0.0     0.0     0.0     0.0     0.0     0.0     0.0     0.0     0.0     0.0     0.0     0.0     0.0     0.0     0.0     0.0     0.0     0.0     0.0     0.0     0.0     0.0     0.0     0.0     0.0     0.0     0.0     0.0     0.0     0.0     0.0     0.0     0.0     0.0     0.0     0.0     9.0     0.0     0.0     0.0     0.0     0.0     0.0     8.0     0.0     0.0     0.0     0.0     0.0     0.0     0.0     0.0     0.0     0.0     0.0     0.0     0.0     0.0     0.0     0.0     0.0     0.0     0.0     0.0     0.0     0.0     0.0     0.0     0.0     0.0     0.0     0.0     0.0     0.0     0.0     0.0     0.0     0.0     0.0     0.0     0.0     0.0     0.0     0.0     0.0     0.0     0.0     0.0     0.0     0.0     0.0     0.0     0.0     0.0     0.0     0.0     0.0     0.0     0.0     0.0     0.0     0.0     0.0     0.0     0.0     0.0     0.0     0.0     0.0     0.0     0.0     0.0     0.0     0.0     0.0     0.0     0.0     0.0     0.0     0.0     0.0     0.0     0.0     0.0     0.0     9.0     0.0     0.0     0.0     0.0     0.0     0.0     0.0     0.0     0.0     0.0     0.0     0.0     0.0     0.0     0.0     0.0     0.0     0.0     0.0     0.0     0.0     0.0     0.0     0.0     0.0     0.0     0.0     0.0     0.0     0.0     0.0     0.0     0.0     0.0     0.0     0.0     0.0     0.0     0.0     0.0     0.0     0.0     0.0     0.0     0.0     0.0     0.0     0.0     0.0     0.0     0.0     0.0     0.0     0.0     0.0     0.0     0.0     0.0     0.0     0.0     0.0     0.0     0.0     0.0     8.0     0.0     0.0     0.0     0.0     0.0     0.0     7.0     0.0     0.0     0.0     0.0     0.0     0.0     0.0     0.0     0.0     0.0     0.0     0.0     0.0     0.0     0.0     0.0     0.0     0.0     0.0     0.0     0.0     0.0     0.0     0.0     0.0     0.0     0.0     0.0     0.0     0.0     0.0     0.0     0.0     0.0     0.0     0.0     0.0     0.0     0.0     0.0     0.0     0.0     0.0     0.0     0.0     0.0     0.0     0.0     0.0     0.0     0.0     0.0     0.0     0.0     0.0    10.0     0.0     0.0     0.0     0.0     0.0     0.0     0.0     0.0     0.0     0.0     0.0     0.0     0.0     0.0     0.0     0.0     0.0     0.0     0.0     0.0     0.0     0.0     0.0     0.0     0.0     0.0     0.0     0.0     0.0     0.0     0.0     0.0     0.0     0.0     0.0     0.0     0.0     0.0     0.0     0.0     0.0     0.0     0.0    10.0     0.0     0.0     0.0     0.0     0.0     0.0     0.0     0.0     0.0\n",
      "1st to Die: A Novel                                    0.0     0.0     0.0     0.0     0.0     0.0     0.0     0.0     0.0     9.0     0.0     0.0     0.0     0.0     0.0     0.0     0.0     0.0     0.0     0.0     0.0     0.0     0.0  9.000000     0.0     0.0     0.0     0.0     0.0     0.0     0.0     0.0     0.0     0.0     0.0     0.0     0.0     0.0     9.0     0.0     0.0     0.0     0.0    10.0     0.0     0.0     0.0     0.0     0.0     0.0     0.0     0.0     0.0     0.0     0.0     0.0     0.0     0.0     0.0     0.0     0.0     0.0     0.0     0.0     0.0     0.0     0.0     0.0     0.0     0.0     0.0     0.0     0.0     0.0     8.0     0.0     0.0     0.0     0.0     0.0     0.0     0.0     0.0     0.0     0.0     0.0     0.0     0.0     0.0     0.0     0.0     0.0     0.0     0.0     0.0     7.0     0.0     0.0     0.0     0.0     0.0     0.0     0.0     0.0     0.0     0.0     0.0     0.0     0.0     0.0     0.0     0.0     0.0     0.0     0.0     0.0     4.5     0.0     0.0     0.0     0.0     0.0     0.0     0.0     0.0     0.0     0.0     0.0     0.0     0.0     0.0    10.0     0.0     0.0     0.0     0.0     0.0     0.0     0.0     0.0     0.0     0.0    10.0     5.0     0.0     0.0     0.0     0.0     0.0     0.0     0.0     0.0     0.0     0.0     0.0     0.0     0.0     0.0     0.0     0.0     0.0     0.0     0.0     0.0     0.0     0.0     0.0     0.0     0.0     0.0     0.0     0.0     0.0     0.0     0.0     0.0     0.0     0.0     0.0     0.0     0.0     0.0     0.0     0.0     0.0     0.0     0.0     0.0     0.0     0.0     0.0     0.0     0.0     0.0     0.0     0.0     0.0     0.0     0.0     0.0     0.0     8.0     0.0     0.0     0.0     0.0     0.0     0.0     0.0     0.0     0.0     0.0     0.0     0.0     0.0     9.0     0.0     0.0     0.0     0.0     0.0     0.0     0.0     0.0     0.0     0.0     0.0     0.0     0.0     0.0     0.0     0.0     0.0     0.0     0.0     0.0     0.0     0.0     0.0     0.0     0.0     0.0     0.0     0.0     0.0     0.0     8.0     0.0     0.0     0.0     0.0     0.0     0.0     0.0     8.0     0.0     0.0     0.0     0.0     0.0     0.0     0.0     0.0     0.0     0.0     0.0     0.0     0.0     0.0     0.0     0.0     0.0     0.0     0.0     0.0     0.0     0.0    10.0     0.0     0.0     0.0     0.0     0.0     0.0     0.0     0.0     0.0     0.0     0.0     0.0     0.0     0.0     0.0     0.0     0.0     0.0     0.0     4.5     0.0     0.0     0.0     0.0     0.0     0.0     0.0     0.0     0.0     0.0     0.0     0.0     0.0     0.0     0.0     0.0     0.0     0.0     0.0     0.0     0.0     0.0     0.0     0.0     0.0     0.0     0.0     0.0     0.0     0.0     0.0     0.0     0.0     0.0     0.0     0.0     0.0     0.0     0.0     0.0    10.0     0.0     0.0     0.0     0.0     0.0     0.0     0.0     0.0     0.0     0.0     0.0     0.0     0.0     0.0     0.0     0.0     0.0     0.0     0.0     0.0     0.0     0.0     0.0     0.0     0.0     0.0     0.0     0.0     0.0     0.0     0.0     0.0     0.0     0.0     0.0     0.0     0.0     0.0     0.0     0.0     0.0     8.0     0.0     0.0     0.0     0.0     0.0     0.0     0.0     0.0     0.0     0.0     5.0     0.0     0.0     0.0     0.0     0.0     9.5     0.0     0.0     0.0     0.0     0.0     0.0     0.0     0.0     0.0     0.0     0.0     0.0     0.0     0.0     5.0     0.0     0.0     0.0     0.0     0.0     0.0     0.0     0.0     0.0     0.0     0.0     0.0     0.0     0.0     0.0     0.0     0.0     0.0     0.0     0.0     0.0     0.0     0.0     0.0     0.0     0.0     0.0     0.0     0.0     0.0     0.0     0.0     0.0     0.0     0.0     0.0     0.0     0.0     0.0     0.0     0.0     0.0     0.0     0.0     0.0     0.0     0.0     0.0     0.0     0.0     0.0     0.0     0.0     0.0     0.0     0.0     0.0     0.0     0.0     0.0     0.0     0.0     0.0     0.0     0.0     0.0     0.0     0.0     0.0     0.0     0.0     0.0     0.0     0.0     0.0     0.0     0.0     0.0     0.0     0.0     0.0     0.0     0.0     0.0     0.0     0.0     0.0     7.0     0.0     0.0     7.0     0.0     0.0     0.0     0.0     0.0     0.0     0.0     0.0     7.0     0.0     0.0     0.0     0.0     0.0     0.0     0.0     0.0     0.0     8.0     0.0     0.0     0.0     0.0     0.0     0.0     0.0     0.0     0.0     8.0     0.0     0.0     0.0     0.0     0.0     8.0     0.0     0.0     0.0     0.0     0.0     0.0     0.0     0.0     0.0     0.0     0.0     0.0     0.0     0.0     0.0     0.0     0.0     0.0     5.0     0.0     0.0     0.0     0.0     0.0     0.0     0.0     0.0     0.0     0.0     0.0     0.0     0.0     0.0     0.0     7.0     0.0     0.0     0.0     0.0     0.0     0.0     0.0     0.0     0.0     0.0     0.0     0.0     0.0     0.0     0.0     0.0     0.0     0.0     0.0     7.0     0.0     0.0     0.0     0.0     0.0     0.0     0.0     0.0     0.0     0.0     0.0     0.0     0.0     0.0     0.0     8.0     0.0     0.0     0.0     0.0     0.0     0.0     0.0     0.0     0.0     0.0     0.0     6.0     0.0     0.0     0.0     0.0     0.0     0.0     0.0     0.0     0.0     0.0     0.0     0.0     0.0     0.0     0.0     0.0     0.0     0.0     0.0     4.0     7.0     0.0     0.0     0.0     0.0     0.0     0.0     0.0     0.0     0.0    10.0     0.0     0.0     0.0     0.0     0.0     0.0     0.0     0.0     0.0     0.0     0.0     0.0     0.0     0.0     4.0     8.0     0.0     0.0     0.0     0.0     0.0     0.0     0.0     8.0     8.0     0.0     0.0     3.0     0.0     0.0     8.0     0.0     0.0     0.0     0.0     0.0     0.0     0.0     0.0     0.0     0.0     0.0     0.0     0.0     0.0     0.0     0.0     0.0     0.0     0.0     0.0     0.0     0.0     0.0     0.0     0.0     0.0     0.0     0.0     0.0     0.0     0.0     0.0     0.0     0.0     0.0     0.0     0.0     0.0    10.0     0.0     0.0     0.0     0.0     0.0     0.0     0.0     0.0     0.0     0.0     0.0     0.0     0.0     0.0     0.0     0.0     0.0     0.0     0.0     0.0     0.0     0.0     0.0     0.0     0.0     0.0     0.0     0.0     0.0     0.0     0.0     0.0     0.0     0.0     0.0     0.0     0.0     0.0     0.0     0.0     9.0     6.0     0.0     0.0     0.0     0.0     0.0     0.0     8.0     0.0     0.0     0.0     0.0     0.0     0.0     0.0     0.0     0.0     0.0     0.0     0.0     0.0     0.0     7.0     0.0     0.0     0.0     0.0     0.0     0.0     0.0     0.0     0.0     0.0     0.0     0.0     0.0     0.0     0.0     0.0     0.0     0.0     0.0     0.0     0.0     0.0     0.0     0.0     0.0     0.0     0.0     0.0\n",
      "2nd Chance                                             0.0    10.0     0.0     0.0     0.0     0.0     0.0     0.0     0.0     0.0     0.0     0.0     0.0     0.0     0.0     0.0     0.0     0.0     0.0     0.0     0.0     0.0     0.0  7.500000     0.0     0.0     0.0     0.0     0.0     0.0     0.0     0.0     0.0     0.0     0.0     0.0     0.0     0.0     0.0     0.0     0.0     0.0     0.0     0.0     0.0     0.0     0.0     0.0     0.0     0.0     0.0     0.0     0.0     0.0     0.0     0.0     0.0     0.0     0.0     0.0     0.0     0.0     0.0     0.0     0.0     0.0     0.0     5.0     0.0     0.0     0.0     0.0     0.0     0.0     0.0     0.0     0.0     0.0     0.0     0.0     0.0    10.0     0.0     0.0     0.0     0.0     0.0     0.0     0.0     0.0     0.0     0.0     0.0     0.0     0.0     7.5     0.0     0.0     0.0     0.0     0.0     0.0     0.0     0.0     0.0     0.0     0.0     0.0     0.0     0.0     0.0     0.0     0.0     0.0     0.0     0.0     9.0     0.0     0.0     0.0     0.0     0.0     0.0     0.0     0.0     0.0     0.0     0.0     0.0     0.0     0.0     0.0     0.0     0.0     0.0     0.0     0.0     0.0     8.0     0.0     0.0     0.0     0.0     0.0     0.0     0.0     0.0     0.0     0.0     0.0     0.0     0.0     0.0     0.0     0.0     0.0     0.0     0.0     0.0     0.0     0.0     0.0     0.0     0.0     0.0     0.0     0.0     0.0     0.0     0.0     0.0     0.0     0.0     0.0     0.0     0.0     0.0     0.0     0.0     0.0     0.0     0.0     0.0     0.0     0.0     0.0     0.0     0.0     0.0     0.0     0.0     0.0     0.0     0.0     0.0     0.0     0.0     0.0     0.0     0.0     0.0     0.0     0.0     0.0     0.0     0.0     0.0     0.0     0.0     0.0     0.0     0.0     0.0     0.0     0.0     9.0     0.0     0.0     0.0     0.0     0.0     0.0     0.0     0.0     0.0     0.0     0.0     0.0     0.0     0.0     0.0     0.0     0.0     0.0     0.0     0.0     0.0     0.0     0.0     0.0     0.0     0.0     0.0     0.0     0.0     0.0     0.0     0.0     0.0     0.0     0.0     0.0     0.0     0.0     0.0     0.0     0.0     0.0     0.0     0.0     0.0     9.0     0.0     0.0     0.0     0.0     0.0     0.0     0.0     0.0     0.0     9.0     0.0     0.0     0.0     0.0     0.0     0.0     0.0     0.0     0.0     0.0     0.0     0.0     0.0     0.0     0.0     0.0     0.0     0.0     0.0     0.0     0.0     0.0     0.0     0.0     0.0     4.5     7.0     0.0     0.0     0.0     0.0     0.0     0.0     0.0     0.0     0.0     0.0     0.0     0.0     7.0     0.0     0.0     0.0     0.0     0.0     0.0     0.0     0.0     0.0     0.0     0.0     8.0     0.0     0.0     0.0     0.0     0.0     0.0     0.0     0.0     0.0     0.0     0.0     0.0     0.0     0.0     9.0     0.0     0.0     4.0     0.0     0.0     0.0     0.0     0.0     0.0     0.0     0.0     0.0     0.0     0.0     0.0     0.0     0.0     0.0     0.0     8.0     0.0     2.5     0.0     0.0     0.0     0.0     0.0     0.0     0.0     0.0     0.0     0.0     0.0     0.0     0.0     0.0     0.0     0.0     0.0     0.0     0.0     0.0     0.0     7.0     0.0     0.0    10.0     0.0     0.0     0.0     0.0     0.0     0.0     0.0     0.0     0.0     0.0     0.0     0.0     0.0     6.0     0.0     0.0     0.0     0.0     0.0     0.0     0.0     0.0     0.0     0.0     0.0     0.0     0.0     0.0     0.0     0.0     0.0    10.0     0.0     0.0     0.0     0.0     0.0     0.0     0.0     0.0     0.0     0.0     0.0     0.0     0.0     0.0     0.0     0.0     0.0     0.0     0.0     0.0     0.0     0.0     0.0     0.0     6.0     0.0     0.0     0.0     0.0     0.0     0.0     0.0     7.0     0.0     0.0     0.0     0.0     0.0     0.0     0.0     0.0     0.0     0.0     0.0     0.0     0.0     0.0     0.0     0.0     0.0     0.0     0.0     0.0     0.0     0.0     0.0     0.0     0.0     0.0     0.0     0.0     0.0     0.0     0.0     0.0     0.0     0.0     0.0     0.0     0.0     0.0     0.0     0.0     0.0     0.0     0.0     0.0     0.0     9.0     0.0     0.0     0.0     0.0     0.0     0.0     0.0     0.0     0.0     0.0     0.0     0.0     0.0     0.0     0.0     0.0     0.0     0.0     0.0     0.0     0.0     0.0     0.0     0.0     0.0     0.0     0.0     0.0     0.0     0.0     0.0     9.0     0.0     0.0     0.0     0.0     0.0     0.0     0.0     0.0     0.0     0.0     0.0     0.0     0.0     0.0     0.0     0.0     0.0     0.0     0.0     0.0     0.0     0.0     0.0     0.0     0.0     0.0     0.0     0.0     0.0     0.0     0.0     0.0     0.0     0.0     0.0     0.0     7.0     0.0     0.0     0.0     0.0     0.0     0.0     0.0     0.0     9.0     0.0     0.0     0.0     0.0     0.0     0.0     0.0     0.0     0.0     6.0     0.0     0.0     0.0     0.0     0.0     0.0     0.0     0.0     0.0     0.0     0.0     0.0     0.0     0.0     0.0     0.0     0.0     0.0     0.0     0.0     0.0     0.0     0.0     0.0     0.0     0.0     0.0     0.0     0.0     0.0     0.0     0.0     0.0     0.0     0.0     0.0     7.0     0.0     0.0     0.0     0.0     0.0     0.0     0.0     0.0     0.0     0.0     0.0     0.0     0.0     0.0     0.0     0.0    10.0     0.0     0.0     8.0     0.0     0.0     0.0     0.0     0.0     0.0     0.0     0.0     0.0     0.0    10.0     0.0     0.0     0.0     0.0     0.0     0.0     0.0     0.0     0.0     0.0     0.0     0.0     0.0     0.0     0.0     0.0     0.0     0.0     0.0     0.0     0.0     0.0     0.0     0.0     0.0     0.0     0.0     0.0     0.0     0.0     0.0     0.0     0.0     0.0     0.0     0.0     0.0     0.0     0.0     0.0     0.0     0.0     0.0     0.0     0.0     0.0     0.0     0.0     0.0     0.0    10.0     0.0     0.0     0.0     0.0     0.0     0.0     0.0     0.0     0.0     0.0     0.0     0.0     0.0     0.0     0.0     0.0     0.0     0.0     0.0     0.0     0.0     0.0     0.0     0.0     0.0     0.0     0.0     0.0     0.0     0.0     0.0     0.0     0.0     0.0     0.0     0.0     0.0     0.0     0.0     0.0     0.0     0.0     0.0     0.0     0.0     0.0     0.0     0.0     0.0     0.0     0.0     0.0     0.0     0.0     0.0     0.0     0.0     0.0     0.0     0.0     0.0     0.0     0.0     0.0     0.0     0.0     0.0     7.5     0.0     0.0     0.0     0.0     0.0     0.0     0.0     0.0     0.0     0.0     0.0     0.0     0.0     0.0     0.0     0.0     0.0     0.0     0.0     0.0     0.0     0.0     0.0     0.0     0.0     0.0     0.0     0.0     0.0     0.0     0.0     0.0     0.0     0.0     0.0     0.0     0.0     0.0     0.0     0.0     0.0     0.0     0.0\n",
      "4 Blondes                                              0.0     0.0     0.0     0.0     0.0     0.0     0.0     0.0     0.0     0.0     0.0     0.0     0.0     0.0     0.0     0.0     0.0     0.0     0.0     0.0     5.0     0.0     0.0  0.000000     0.0     0.0     0.0     0.0     0.0     0.0     0.0     0.0     0.0     0.0     0.0     0.0     7.0     0.0     0.0     0.0     0.0     0.0     0.0     0.0     0.0     0.0     0.0     0.0     0.0     0.0     0.0     0.0     0.0     0.0     0.0     0.0     7.0     0.0     0.0     0.0     0.0     0.0     0.0     0.0     7.0     0.0     0.0     0.0     0.0     0.0     0.0     0.0     0.0     0.0     0.0     0.0     0.0     0.0     0.0     0.0     0.0     0.0     0.0     0.0     0.0     0.0     0.0     0.0     0.0     0.0     0.0     0.0     0.0     0.0     0.0     0.0     0.0     0.0     0.0     0.0     0.0     0.0     0.0     0.0     0.0     0.0     0.0     0.0     0.0     0.0     0.0     0.0     0.0     0.0     0.0     0.0     0.0     0.0     0.0     0.0     0.0     0.0     0.0     0.0     0.0     0.0     0.0     0.0     0.0     0.0     0.0     0.0     0.0     0.0     0.0     0.0     0.0     0.0     0.0     0.0     0.0     0.0     0.0     0.0     0.0     0.0     0.0     0.0     0.0     0.0     0.0     0.0     0.0     0.0     0.0     0.0     0.0     0.0     0.0     0.0     0.0     0.0     0.0     0.0     0.0     0.0     0.0     0.0     0.0     0.0     0.0     0.0     0.0     0.0     0.0     0.0     0.0     0.0     0.0     0.0     0.0     0.0     0.0     0.0     0.0     0.0     0.0     0.0     0.0     0.0     0.0     0.0     0.0     0.0     0.0     0.0     0.0     0.0     0.0     0.0     0.0     0.0     0.0     0.0     0.0     0.0     0.0     0.0     0.0     0.0     0.0     0.0     0.0     0.0     0.0     0.0     0.0     0.0     0.0     0.0     0.0     0.0     0.0     0.0     0.0     0.0     0.0     0.0     0.0     0.0     0.0     0.0     0.0     0.0     0.0     0.0     0.0     0.0     0.0     0.0     0.0     0.0     0.0     0.0     0.0     0.0     0.0     0.0     0.0     0.0     0.0     0.0     0.0     0.0     0.0     0.0     0.0     0.0     0.0     0.0     0.0     0.0     0.0     0.0     0.0     0.0     0.0     0.0     0.0     0.0     0.0     0.0     0.0     0.0     0.0     0.0     0.0     0.0     0.0     0.0     0.0     5.0     0.0     0.0     0.0     0.0     0.0     0.0     0.0     0.0     0.0     0.0     0.0     0.0     0.0     0.0     0.0     0.0     0.0     0.0     0.0     0.0     0.0     0.0     0.0     0.0     0.0     0.0     0.0     0.0     0.0     0.0     0.0     0.0     0.0     0.0     0.0     0.0     0.0     0.0     0.0     0.0     0.0     0.0     0.0     0.0     0.0     0.0     0.0     0.0     0.0     0.0     0.0     0.0     0.0     0.0     0.0     0.0     0.0     6.0     0.0     0.0     0.0     0.0     0.0     0.0     0.0     0.0     0.0     0.0     0.0     0.0     0.0     0.0     0.0     0.0     0.0     0.0     0.0     0.0     0.0     0.0     0.0     0.0     0.0     0.0     0.0     0.0     0.0     0.0     0.0     0.0     0.0     0.0     0.0     0.0     0.0     0.0     0.0     0.0     0.0     0.0     0.0     0.0     0.0     0.0     0.0     0.0     0.0     0.0     0.0     0.0     0.0     0.0     0.0     0.0     0.0     0.0     0.0     0.0     0.0     0.0     0.0     0.0     0.0     0.0     0.0     0.0     0.0     0.0     0.0     0.0     0.0     0.0     0.0     0.0     0.0     0.0     0.0     0.0     0.0     0.0     0.0     0.0     0.0     0.0     0.0     0.0     0.0     0.0     0.0     0.0     0.0     0.0     0.0     0.0     0.0     0.0     0.0     0.0     0.0     0.0     0.0     0.0     0.0     0.0     0.0     3.0     0.0     0.0     0.0     0.0     0.0     0.0     0.0     0.0     0.0     0.0     0.0     0.0     0.0     0.0     0.0     0.0     0.0     0.0     0.0     0.0     0.0     0.0     0.0     0.0     0.0     0.0     0.0     0.0     0.0     0.0     0.0     0.0     0.0     0.0     0.0     0.0     0.0     0.0     0.0     0.0     0.0     0.0     0.0     0.0     0.0     0.0     0.0     0.0     0.0     0.0     0.0     0.0     0.0     0.0     0.0     0.0     0.0     0.0     0.0     0.0     0.0     0.0     0.0     0.0     0.0     0.0     0.0     0.0     0.0     0.0     0.0     0.0     0.0     0.0     0.0     0.0     0.0     0.0     0.0     0.0     0.0     0.0     0.0     0.0     0.0     0.0     0.0     0.0     0.0     0.0     0.0     0.0     0.0     0.0     0.0     0.0     0.0     0.0     0.0     0.0     0.0     0.0     0.0     0.0     0.0     0.0     0.0     0.0     0.0     0.0     0.0     0.0     0.0     0.0     7.0     0.0     0.0     0.0     0.0     0.0     0.0     0.0     0.0     0.0     0.0     0.0     0.0     0.0     0.0     0.0     0.0     0.0     0.0     0.0     0.0     0.0     0.0     0.0     0.0     0.0     0.0     0.0     0.0     0.0     0.0     0.0     0.0     0.0     0.0     0.0     1.0     0.0     0.0     0.0     0.0     0.0     0.0     0.0     0.0     0.0     0.0     0.0     0.0     0.0     0.0     0.0     0.0     0.0     0.0     0.0     0.0     0.0     0.0     0.0     0.0     0.0     0.0     0.0     0.0     0.0     0.0     0.0     0.0     0.0     0.0     0.0     0.0     0.0     0.0     0.0     0.0     0.0     0.0     0.0     0.0     0.0     0.0     0.0     0.0     0.0     0.0     0.0     0.0     0.0     0.0     0.0     5.0     0.0     0.0     0.0     0.0     0.0     0.0     0.0     5.0     0.0     0.0     0.0     0.0     0.0     0.0     0.0     0.0     0.0     0.0     0.0     0.0     0.0     0.0     0.0     0.0     0.0     0.0     0.0     0.0     0.0     0.0     0.0     0.0     0.0     0.0     0.0     0.0     0.0     0.0     0.0     0.0     0.0     0.0     0.0     0.0     0.0     0.0     0.0     0.0     0.0     0.0     0.0     0.0     0.0     0.0     0.0     0.0     0.0     0.0     0.0     0.0     0.0     0.0     0.0     0.0     0.0     0.0     0.0     0.0     0.0     0.0     0.0     0.0     0.0     0.0     0.0     0.0     0.0     0.0     0.0     0.0     0.0     0.0     0.0     0.0     0.0     0.0     0.0     0.0     0.0     0.0     0.0     0.0     0.0     0.0     0.0     0.0     0.0     0.0     0.0     0.0     0.0     0.0     0.0     0.0     0.0     0.0     0.0     0.0     0.0     0.0     0.0     0.0     0.0     0.0     6.0     0.0     0.0     0.0     0.0     0.0     0.0     0.0     0.0     0.0     0.0     5.0     0.0     0.0     0.0     0.0     0.0     0.0     0.0     0.0     0.0     0.0     0.0     0.0     0.0     0.0     0.0     0.0     0.0     0.0     0.0     0.0     0.0     0.0     0.0     0.0     0.0     0.0     0.0     0.0     0.0     0.0     0.0     0.0     0.0     0.0\n",
      "A Bend in the Road                                     0.0     0.0     7.0     0.0     0.0     0.0     0.0     0.0     0.0     0.0     0.0     1.0     0.0     0.0     0.0     0.0     0.0     0.0     0.0     0.0     0.0     0.0     0.0  6.500000     0.0     0.0     0.0     0.0     0.0     0.0     0.0     0.0     0.0     5.0     0.0     0.0     0.0     0.0     8.0     0.0     0.0     0.0     0.0     0.0     0.0     0.0     0.0     0.0     0.0     0.0     0.0     0.0     0.0     0.0     0.0     0.0     0.0     0.0     0.0     7.0     0.0     0.0     0.0     0.0     0.0     0.0     0.0     0.0     0.0     0.0     0.0     0.0     0.0     0.0     0.0     0.0     0.0     0.0     0.0     0.0     0.0     0.0     0.0     0.0     0.0     0.0     0.0     0.0     0.0     0.0     0.0     0.0     0.0     0.0     6.0     0.0     0.0     0.0     0.0     0.0     0.0     0.0     0.0     0.0     0.0     0.0     0.0     0.0     0.0     0.0     0.0     8.0     0.0     0.0     0.0     0.0     0.0     0.0     8.0     0.0     0.0     0.0     0.0     0.0     0.0     0.0     0.0     0.0     0.0     0.0     0.0     0.0     0.0     0.0     0.0     0.0     0.0     0.0     0.0     0.0     0.0     0.0     0.0     0.0     0.0     0.0     0.0     0.0     0.0     0.0     0.0     0.0     0.0     0.0     0.0     0.0     0.0     0.0     0.0     0.0     0.0     0.0     0.0     0.0     0.0     0.0     0.0     0.0     5.0     0.0     0.0     0.0     0.0     0.0     0.0     0.0     0.0     0.0     0.0     0.0     7.0     0.0     0.0     0.0     0.0     0.0     0.0     0.0     0.0     0.0     0.0     0.0     0.0     0.0     0.0     0.0     0.0     0.0     0.0     0.0     0.0     7.0     0.0     0.0     0.0     0.0     0.0     0.0     0.0     0.0     0.0     0.0     0.0     0.0     0.0     0.0     0.0     0.0     0.0     0.0     0.0     0.0     0.0     0.0     0.0     0.0     0.0     0.0     0.0     0.0     0.0     0.0     0.0     0.0     0.0     0.0     0.0     0.0     0.0     0.0     0.0     0.0     7.0     0.0     0.0     0.0     0.0     0.0     0.0     0.0     0.0     0.0     0.0     0.0     0.0     0.0     0.0     0.0     0.0     0.0    10.0     8.0     0.0     0.0     0.0     0.0     0.0     0.0     0.0     0.0     0.0     0.0     0.0     0.0     0.0     0.0     0.0     0.0     0.0     0.0     0.0     0.0     0.0     0.0     0.0     0.0     0.0     0.0     0.0     0.0     0.0     0.0     0.0     0.0     0.0     0.0     0.0     0.0     0.0     0.0     0.0     0.0     0.0     0.0     0.0    10.0     0.0     0.0     0.0     0.0     0.0     0.0     0.0     0.0     0.0     0.0     0.0     0.0     0.0     0.0     0.0     0.0     0.0     0.0     0.0     0.0     0.0     0.0     0.0     0.0     0.0     0.0     0.0     0.0     0.0     0.0     0.0     0.0     0.0     0.0     0.0     0.0     0.0     0.0     0.0     0.0     0.0     0.0     0.0     0.0     0.0     0.0     0.0     0.0     0.0     0.0     0.0     0.0     0.0     0.0     0.0     0.0     0.0     0.0     0.0     0.0     0.0     0.0     0.0     0.0     0.0     0.0     9.0     0.0     0.0     0.0     0.0     0.0     0.0     0.0     0.0     0.0     0.0     0.0     0.0     0.0     0.0     0.0     0.0     0.0     0.0     0.0     0.0     0.0     0.0     0.0     0.0     0.0    10.0     0.0     0.0     0.0     0.0     0.0     0.0     9.0     0.0     0.0     0.0     0.0     0.0     0.0     0.0     0.0     0.0     0.0     0.0     0.0     0.0     0.0     0.0     0.0     0.0     0.0     0.0     0.0     0.0     0.0     0.0     0.0     0.0     0.0     0.0     0.0     0.0     0.0     0.0     0.0     0.0     0.0     0.0     0.0     0.0     0.0     0.0     0.0     0.0     0.0     0.0     0.0     0.0     0.0     0.0     0.0     0.0     0.0     0.0     0.0     0.0     0.0     0.0     7.0     0.0     0.0     0.0     0.0     0.0     0.0     0.0     0.0     0.0     0.0     0.0     0.0     0.0     0.0     0.0     0.0     0.0     0.0     0.0     0.0     0.0     0.0     0.0     0.0     0.0     0.0     0.0     0.0     0.0     0.0     0.0     0.0     0.0     0.0     0.0     0.0     0.0     0.0     0.0     0.0     0.0     0.0     0.0     0.0     0.0     0.0     0.0     0.0     0.0     0.0     0.0     0.0     0.0     0.0     0.0     0.0     0.0     0.0     0.0     0.0     0.0     0.0     0.0     0.0     0.0     0.0     0.0     0.0     0.0     0.0     0.0     0.0     0.0     0.0     0.0     0.0     0.0     0.0     0.0     0.0     0.0     0.0     0.0     0.0     0.0     0.0     0.0     0.0     0.0     0.0     0.0     0.0     0.0     0.0     0.0     5.0     0.0     0.0     0.0     0.0     0.0     0.0     0.0     0.0     0.0     0.0     7.0     0.0     0.0     0.0     0.0     0.0     0.0     0.0     0.0     0.0     0.0     0.0     0.0     0.0     0.0     0.0     0.0     0.0     0.0     0.0     0.0     0.0     0.0     7.0     7.0     0.0     0.0     0.0     0.0     0.0     0.0     0.0     0.0     0.0     0.0     0.0     0.0     0.0     0.0     0.0     0.0     0.0     0.0     0.0     0.0     0.0     0.0     0.0     0.0     0.0     0.0     0.0     0.0     0.0     0.0     0.0     0.0     0.0     0.0     0.0     0.0     0.0     0.0     0.0     0.0     0.0     0.0     0.0     0.0     0.0     0.0     0.0     0.0     0.0     0.0     0.0     0.0     0.0     0.0     0.0     0.0     0.0     0.0     0.0     0.0     0.0     0.0     0.0     0.0     0.0     0.0     0.0     0.0     0.0     0.0     0.0     0.0     0.0     0.0     0.0     0.0     0.0     0.0     0.0     0.0     0.0     0.0     0.0     0.0     0.0     0.0     0.0     0.0     0.0     0.0     0.0     0.0     0.0     0.0     0.0     0.0     0.0     0.0     0.0     0.0     0.0     0.0     0.0     0.0     0.0     0.0     0.0     0.0     0.0     0.0     0.0     0.0     0.0     0.0     0.0     0.0     0.0     0.0     0.0     0.0     0.0     0.0     0.0     0.0     0.0     0.0     0.0     0.0     0.0     0.0     0.0     0.0     0.0     0.0     0.0     0.0     0.0     0.0     0.0     0.0     0.0     0.0     0.0     0.0     0.0     0.0     0.0     0.0     0.0     0.0     0.0     0.0     0.0     0.0     0.0     0.0     0.0     0.0     0.0     0.0     0.0     0.0     0.0     0.0     0.0     0.0     0.0     0.0     0.0     0.0     0.0     0.0     0.0     0.0     0.0     0.0     0.0     0.0     0.0     0.0     0.0     0.0     0.0     0.0     0.0     0.0     0.0     0.0     0.0     7.0     0.0     0.0     0.0     0.0     0.0     0.0     0.0     0.0     0.0     0.0     0.0     0.0     0.0     0.0     0.0     0.0     0.0     0.0     0.0     0.0     0.0     0.0     0.0     0.0     0.0     0.0     0.0     0.0     0.0     0.0     0.0     0.0\n",
      "...                                                    ...     ...     ...     ...     ...     ...     ...     ...     ...     ...     ...     ...     ...     ...     ...     ...     ...     ...     ...     ...     ...     ...     ...       ...     ...     ...     ...     ...     ...     ...     ...     ...     ...     ...     ...     ...     ...     ...     ...     ...     ...     ...     ...     ...     ...     ...     ...     ...     ...     ...     ...     ...     ...     ...     ...     ...     ...     ...     ...     ...     ...     ...     ...     ...     ...     ...     ...     ...     ...     ...     ...     ...     ...     ...     ...     ...     ...     ...     ...     ...     ...     ...     ...     ...     ...     ...     ...     ...     ...     ...     ...     ...     ...     ...     ...     ...     ...     ...     ...     ...     ...     ...     ...     ...     ...     ...     ...     ...     ...     ...     ...     ...     ...     ...     ...     ...     ...     ...     ...     ...     ...     ...     ...     ...     ...     ...     ...     ...     ...     ...     ...     ...     ...     ...     ...     ...     ...     ...     ...     ...     ...     ...     ...     ...     ...     ...     ...     ...     ...     ...     ...     ...     ...     ...     ...     ...     ...     ...     ...     ...     ...     ...     ...     ...     ...     ...     ...     ...     ...     ...     ...     ...     ...     ...     ...     ...     ...     ...     ...     ...     ...     ...     ...     ...     ...     ...     ...     ...     ...     ...     ...     ...     ...     ...     ...     ...     ...     ...     ...     ...     ...     ...     ...     ...     ...     ...     ...     ...     ...     ...     ...     ...     ...     ...     ...     ...     ...     ...     ...     ...     ...     ...     ...     ...     ...     ...     ...     ...     ...     ...     ...     ...     ...     ...     ...     ...     ...     ...     ...     ...     ...     ...     ...     ...     ...     ...     ...     ...     ...     ...     ...     ...     ...     ...     ...     ...     ...     ...     ...     ...     ...     ...     ...     ...     ...     ...     ...     ...     ...     ...     ...     ...     ...     ...     ...     ...     ...     ...     ...     ...     ...     ...     ...     ...     ...     ...     ...     ...     ...     ...     ...     ...     ...     ...     ...     ...     ...     ...     ...     ...     ...     ...     ...     ...     ...     ...     ...     ...     ...     ...     ...     ...     ...     ...     ...     ...     ...     ...     ...     ...     ...     ...     ...     ...     ...     ...     ...     ...     ...     ...     ...     ...     ...     ...     ...     ...     ...     ...     ...     ...     ...     ...     ...     ...     ...     ...     ...     ...     ...     ...     ...     ...     ...     ...     ...     ...     ...     ...     ...     ...     ...     ...     ...     ...     ...     ...     ...     ...     ...     ...     ...     ...     ...     ...     ...     ...     ...     ...     ...     ...     ...     ...     ...     ...     ...     ...     ...     ...     ...     ...     ...     ...     ...     ...     ...     ...     ...     ...     ...     ...     ...     ...     ...     ...     ...     ...     ...     ...     ...     ...     ...     ...     ...     ...     ...     ...     ...     ...     ...     ...     ...     ...     ...     ...     ...     ...     ...     ...     ...     ...     ...     ...     ...     ...     ...     ...     ...     ...     ...     ...     ...     ...     ...     ...     ...     ...     ...     ...     ...     ...     ...     ...     ...     ...     ...     ...     ...     ...     ...     ...     ...     ...     ...     ...     ...     ...     ...     ...     ...     ...     ...     ...     ...     ...     ...     ...     ...     ...     ...     ...     ...     ...     ...     ...     ...     ...     ...     ...     ...     ...     ...     ...     ...     ...     ...     ...     ...     ...     ...     ...     ...     ...     ...     ...     ...     ...     ...     ...     ...     ...     ...     ...     ...     ...     ...     ...     ...     ...     ...     ...     ...     ...     ...     ...     ...     ...     ...     ...     ...     ...     ...     ...     ...     ...     ...     ...     ...     ...     ...     ...     ...     ...     ...     ...     ...     ...     ...     ...     ...     ...     ...     ...     ...     ...     ...     ...     ...     ...     ...     ...     ...     ...     ...     ...     ...     ...     ...     ...     ...     ...     ...     ...     ...     ...     ...     ...     ...     ...     ...     ...     ...     ...     ...     ...     ...     ...     ...     ...     ...     ...     ...     ...     ...     ...     ...     ...     ...     ...     ...     ...     ...     ...     ...     ...     ...     ...     ...     ...     ...     ...     ...     ...     ...     ...     ...     ...     ...     ...     ...     ...     ...     ...     ...     ...     ...     ...     ...     ...     ...     ...     ...     ...     ...     ...     ...     ...     ...     ...     ...     ...     ...     ...     ...     ...     ...     ...     ...     ...     ...     ...     ...     ...     ...     ...     ...     ...     ...     ...     ...     ...     ...     ...     ...     ...     ...     ...     ...     ...     ...     ...     ...     ...     ...     ...     ...     ...     ...     ...     ...     ...     ...     ...     ...     ...     ...     ...     ...     ...     ...     ...     ...     ...     ...     ...     ...     ...     ...     ...     ...     ...     ...     ...     ...     ...     ...     ...     ...     ...     ...     ...     ...     ...     ...     ...     ...     ...     ...     ...     ...     ...     ...     ...     ...     ...     ...     ...     ...     ...     ...     ...     ...     ...     ...     ...     ...     ...     ...     ...     ...     ...     ...     ...     ...     ...     ...     ...     ...     ...     ...     ...     ...     ...     ...     ...     ...     ...     ...     ...     ...     ...     ...     ...     ...     ...     ...     ...     ...     ...     ...     ...     ...     ...     ...     ...     ...     ...     ...     ...     ...     ...     ...     ...     ...     ...     ...     ...     ...     ...     ...     ...     ...     ...     ...     ...     ...     ...     ...     ...     ...     ...     ...     ...     ...     ...     ...     ...     ...     ...     ...     ...     ...     ...     ...     ...     ...\n",
      "Year of Wonders                                        0.0     0.0     0.0     7.0     0.0     0.0     0.0     0.0     0.0     0.0     0.0     0.0     0.0     0.0     0.0     0.0     0.0     9.0     0.0     0.0     0.0     0.0     0.0  0.000000     0.0     0.0     0.0     0.0     0.0     0.0     0.0     0.0     0.0     0.0     0.0     0.0     0.0     0.0     0.0     0.0     0.0     0.0     0.0     0.0     0.0     0.0     0.0     0.0     0.0     0.0     0.0     0.0    10.0     0.0     0.0     0.0     8.0     0.0     0.0     0.0     0.0     0.0     0.0     0.0     0.0     0.0     0.0     0.0     0.0     0.0     0.0     0.0     0.0     0.0     0.0     0.0     0.0     0.0     0.0     0.0     0.0     0.0     0.0     0.0     0.0     0.0     0.0     0.0     0.0     0.0     0.0     0.0     0.0     0.0     0.0     0.0     0.0     0.0     0.0     0.0     0.0     0.0     0.0     0.0     0.0     0.0     0.0     0.0     0.0     0.0     0.0     0.0     0.0     0.0     0.0     0.0     0.0     0.0     0.0     0.0     0.0     0.0     0.0     0.0     0.0     0.0     0.0     0.0     0.0     0.0     0.0     0.0     0.0     0.0     0.0     0.0     0.0     0.0     0.0     0.0     0.0     0.0     0.0     0.0     0.0     0.0     0.0     0.0     0.0     0.0     0.0     0.0     0.0     0.0     0.0     0.0     0.0     0.0     0.0     0.0     0.0     0.0     0.0     0.0     0.0     0.0     0.0     0.0     0.0     0.0     0.0     0.0     0.0     0.0     0.0     0.0     0.0     0.0     0.0     0.0     0.0     0.0     9.0     0.0     0.0     0.0     0.0     0.0     0.0     0.0     0.0     0.0     0.0     0.0     0.0     0.0     0.0     0.0     0.0     0.0     0.0     0.0     0.0     0.0     0.0     0.0     0.0     0.0     0.0     0.0     0.0     0.0     0.0     0.0     0.0     0.0     0.0     0.0     0.0     0.0     0.0     0.0     0.0     0.0     0.0     0.0     0.0     0.0     0.0     0.0     0.0     0.0     0.0     0.0     0.0     0.0     0.0     0.0     0.0     0.0     0.0     0.0     0.0     0.0     0.0     0.0     0.0     0.0     0.0     0.0     0.0     0.0     0.0     0.0    10.0     0.0     0.0     0.0     0.0     0.0     0.0     0.0     0.0     0.0     0.0     0.0     0.0     9.0     0.0     0.0     0.0     0.0     0.0     0.0     0.0     0.0     0.0     0.0     0.0     0.0     0.0     0.0     0.0     0.0     0.0     0.0     0.0     0.0     0.0     0.0     0.0     0.0     0.0     0.0     0.0     0.0     0.0     0.0     0.0     0.0     0.0     0.0    10.0     0.0     0.0     0.0     0.0     0.0     0.0     0.0     0.0     0.0     0.0     0.0     0.0     0.0     0.0     6.0     0.0     0.0     0.0     0.0     0.0     0.0     0.0     0.0     0.0     0.0     0.0     0.0     0.0     0.0     0.0     0.0     0.0     0.0     0.0     0.0     0.0     0.0     0.0     0.0     0.0     0.0     0.0     0.0     9.0     0.0     0.0     0.0     0.0     0.0     0.0     0.0     0.0     0.0     0.0     0.0     0.0     0.0     0.0     0.0     0.0     9.0     0.0     0.0     0.0     0.0     0.0     0.0     0.0     0.0     0.0     0.0     0.0     0.0     0.0     0.0     0.0     0.0     0.0     0.0     0.0     0.0     8.0     0.0     0.0     0.0     0.0    10.0     0.0     0.0     0.0     0.0     0.0     0.0     0.0     0.0     0.0     0.0     0.0     0.0     0.0     0.0     0.0     0.0     0.0     0.0     0.0     0.0     0.0     0.0     0.0     0.0     0.0     0.0     0.0     0.0     0.0     0.0     0.0     0.0     0.0     0.0     0.0     0.0     0.0     0.0     0.0     0.0     0.0     0.0     0.0     0.0     0.0     0.0     0.0     9.0     0.0     0.0     0.0     0.0     0.0     0.0     0.0     0.0     0.0    10.0     0.0     0.0     0.0     0.0     0.0     0.0     0.0     0.0     0.0     0.0     0.0     0.0     0.0     0.0     0.0     0.0     0.0     0.0     0.0     0.0     0.0     0.0     0.0     0.0     9.0     0.0     0.0     0.0     0.0     0.0     0.0     0.0     0.0     0.0     0.0     0.0     0.0     0.0     0.0     0.0     0.0     0.0     0.0     0.0     0.0     0.0     0.0     0.0     0.0     0.0     0.0     0.0     0.0     0.0     0.0     0.0     0.0     0.0     0.0     0.0     0.0     0.0     0.0     0.0     0.0     0.0     0.0     0.0     0.0     0.0     0.0     0.0     0.0     0.0     0.0     0.0     0.0     0.0     0.0     0.0     8.0     0.0     0.0     0.0     0.0     0.0     0.0     0.0     0.0     0.0     0.0     0.0     0.0     0.0     0.0     0.0     0.0     0.0     0.0     0.0     0.0     0.0     0.0     0.0     0.0     0.0     0.0     0.0     0.0     0.0     0.0     0.0     0.0     0.0     0.0     0.0     0.0     0.0     0.0     0.0     0.0     0.0     0.0     0.0     0.0     0.0     0.0     0.0     0.0     0.0     0.0     0.0     0.0     9.0     0.0     0.0     0.0     0.0     0.0     0.0     0.0     0.0     0.0     0.0     0.0     0.0     0.0     0.0     0.0     0.0     0.0     0.0     0.0     0.0     0.0     0.0     0.0     0.0     0.0     0.0     0.0     0.0     0.0     0.0     0.0     0.0     0.0     0.0     0.0     0.0     0.0     0.0     0.0     0.0     0.0     0.0     0.0     0.0     0.0     0.0     0.0     0.0     0.0     0.0     0.0     0.0     0.0     0.0     0.0     0.0     0.0     0.0     0.0     7.0     0.0     0.0     0.0     0.0     0.0     0.0     0.0     0.0     0.0     0.0     0.0     0.0     0.0     0.0     0.0     0.0     0.0     0.0     0.0     0.0     0.0     0.0     0.0     0.0     0.0     0.0     0.0     0.0     0.0     0.0     0.0     0.0     0.0     0.0     0.0     0.0     0.0     0.0     0.0     0.0     0.0     0.0     0.0     0.0     0.0     0.0     0.0     0.0     0.0     0.0     0.0     0.0     0.0     0.0     0.0     0.0     0.0     0.0     0.0     0.0     0.0     0.0     0.0     0.0     0.0     0.0     0.0     0.0     0.0     0.0     0.0     0.0     0.0     0.0     0.0     0.0     0.0     0.0     0.0     0.0     0.0     0.0     0.0     0.0     0.0     0.0     0.0     0.0     0.0     0.0     0.0     0.0     0.0     0.0     0.0     0.0     0.0     0.0     0.0     0.0     0.0     0.0     0.0     0.0     0.0     0.0     0.0     0.0     0.0     0.0     0.0     0.0     0.0     0.0     0.0     0.0     0.0     0.0     0.0     0.0     0.0     0.0     0.0     0.0     0.0     0.0     0.0     0.0     0.0     0.0     0.0     0.0     0.0     0.0     0.0     0.0     0.0     0.0     0.0     0.0     0.0     0.0     0.0     0.0     0.0     0.0     0.0     0.0     0.0     0.0     0.0     0.0     0.0     0.0     0.0     0.0     0.0     0.0     0.0     0.0     0.0     0.0     0.0     0.0     9.0     0.0     0.0     0.0     0.0     0.0     0.0     0.0     0.0\n",
      "You Belong To Me                                       0.0     0.0     0.0     0.0     0.0     0.0     0.0     0.0     0.0     0.0     0.0     0.0     0.0     0.0     0.0     0.0     0.0     0.0     0.0     0.0     0.0     0.0     0.0  6.000000     0.0     0.0     0.0     0.0     0.0     8.0     0.0     0.0     0.0     0.0     0.0     0.0     0.0     0.0     0.0     0.0     0.0     0.0     0.0     0.0     0.0     0.0     0.0     0.0     6.0     0.0     0.0     0.0     0.0     0.0     0.0     0.0     0.0     0.0     0.0     0.0     0.0     0.0     0.0     0.0     0.0     0.0     0.0     0.0     0.0     0.0     0.0     0.0     0.0     0.0     0.0     0.0     0.0     0.0     0.0     0.0     0.0     0.0     0.0     0.0    10.0     0.0     0.0     0.0     0.0     0.0     0.0     0.0     0.0     0.0     0.0     8.0     0.0     0.0     0.0     0.0     0.0     0.0     0.0     0.0     0.0     0.0     0.0     0.0     0.0     0.0     0.0     0.0     0.0     0.0     0.0     0.0     0.0     0.0     0.0     0.0     0.0     0.0     0.0     0.0     0.0     0.0     0.0     0.0     0.0     0.0     0.0     0.0     0.0     0.0     0.0     0.0     0.0     0.0     0.0     0.0     0.0     0.0     0.0     0.0     0.0     0.0     0.0     0.0     0.0     0.0     0.0     0.0     0.0     0.0     0.0     0.0     0.0     0.0     0.0     0.0     0.0     0.0     0.0     0.0     0.0     0.0     0.0     0.0     0.0     0.0     0.0     0.0     0.0     0.0     0.0     0.0     0.0     0.0     0.0     0.0     0.0     0.0     0.0     0.0     0.0     0.0     0.0     0.0     0.0     0.0     0.0     0.0     0.0     0.0     0.0     0.0     0.0     0.0     0.0     0.0     0.0     8.0     0.0     0.0     0.0     0.0     0.0     0.0     0.0     0.0     0.0     0.0     0.0     0.0     0.0     0.0     0.0     0.0     0.0     0.0     0.0     0.0     0.0     0.0     0.0     0.0     0.0     0.0     0.0     0.0     0.0     0.0     7.0     0.0     0.0     0.0     0.0     0.0     0.0     0.0     0.0     0.0     0.0     0.0     0.0     0.0     0.0     0.0     0.0     0.0     0.0     0.0     0.0     0.0     0.0     0.0     0.0     0.0     0.0     0.0     0.0     0.0     0.0     0.0     0.0     0.0     0.0     0.0     0.0     0.0     0.0     0.0     0.0     0.0     0.0     0.0     0.0     9.0     0.0     0.0     0.0     0.0     0.0     0.0     0.0     0.0     0.0     0.0     0.0     0.0     0.0     0.0     0.0     0.0     0.0     0.0     0.0     0.0     0.0     0.0     0.0     0.0     0.0     0.0     0.0     0.0     0.0     0.0     0.0     0.0     0.0     0.0     0.0     0.0     0.0     0.0     0.0     0.0     0.0     0.0     0.0     0.0     0.0     0.0     0.0     0.0     0.0     0.0     0.0     0.0     0.0     0.0     0.0     0.0     0.0     0.0     0.0     0.0     0.0     0.0     0.0     0.0     0.0     0.0     0.0     0.0     0.0     0.0     0.0     0.0     0.0     0.0     0.0     0.0     0.0     0.0     0.0     0.0     0.0     0.0     0.0     0.0     0.0     0.0     0.0     0.0     0.0     0.0     0.0     0.0     0.0     0.0     0.0     0.0     0.0     0.0     0.0     0.0     0.0     0.0     0.0     0.0     0.0     0.0     0.0     0.0     0.0     0.0     0.0     0.0     0.0     0.0     0.0     0.0     0.0     0.0     0.0     0.0     0.0     0.0     0.0     0.0     0.0     0.0     0.0     0.0     0.0     0.0     0.0     0.0     0.0     0.0     0.0     0.0     0.0     0.0     0.0     0.0     0.0     0.0     0.0     0.0     0.0     0.0     0.0     0.0     0.0     0.0     0.0     0.0     0.0     0.0     0.0     0.0     0.0     0.0     0.0     0.0     0.0     0.0     0.0     0.0     0.0     0.0     0.0     0.0     0.0     0.0     0.0     0.0     0.0     0.0     0.0     0.0     0.0     0.0     0.0     0.0     0.0     0.0     0.0     0.0     0.0     0.0     0.0     0.0     0.0     0.0     0.0     0.0     0.0     0.0     0.0     0.0     0.0     0.0     0.0     0.0     0.0     0.0     0.0     0.0     0.0     0.0     0.0     0.0     0.0     0.0     0.0     0.0     0.0     0.0     0.0     0.0     0.0     0.0     0.0     0.0     0.0     0.0     0.0     0.0     0.0     0.0     0.0     0.0     0.0     0.0     0.0     0.0     0.0     0.0     0.0     0.0     0.0     0.0     0.0     0.0     0.0     0.0     0.0     0.0     0.0     0.0     0.0     0.0     0.0     0.0     0.0     0.0     0.0     0.0     0.0     0.0     0.0     0.0     0.0     0.0     0.0     0.0     0.0     0.0     0.0     0.0     0.0     0.0     0.0     0.0     0.0     0.0     0.0     0.0     0.0     0.0     0.0     0.0     0.0     0.0     0.0     0.0     0.0     0.0     0.0     0.0     0.0     0.0     0.0     0.0     0.0     0.0     0.0     0.0     0.0     0.0     0.0     0.0     0.0     0.0     0.0     0.0     0.0     0.0     0.0     0.0     0.0     0.0     0.0     0.0     0.0     0.0     0.0     0.0     0.0     0.0     0.0     0.0     0.0     0.0     0.0     0.0     0.0     0.0     0.0     0.0     0.0     0.0     0.0     0.0     0.0     0.0     0.0     0.0     0.0     0.0     0.0     0.0     0.0     0.0     0.0     0.0     0.0     0.0     0.0     0.0     0.0     0.0     0.0     0.0     0.0     0.0     0.0     0.0     0.0     0.0     0.0     0.0     0.0     0.0    10.0     0.0     0.0     0.0     0.0     0.0     0.0     0.0     0.0     0.0     0.0     0.0     0.0     0.0     0.0     0.0     8.0     0.0     0.0     0.0     0.0     0.0     0.0     0.0     0.0     0.0     0.0     0.0     0.0     0.0     0.0     0.0     0.0     0.0     0.0     0.0     0.0     0.0     0.0     0.0     0.0     0.0     0.0     0.0     0.0     0.0     0.0     0.0     0.0     5.0     0.0     0.0     0.0     0.0     0.0     0.0     0.0     0.0     0.0     0.0     0.0     0.0     0.0     0.0     0.0     0.0     0.0     0.0     0.0     0.0     0.0     0.0     0.0     0.0     0.0     0.0     0.0     0.0     0.0     0.0     0.0     0.0     0.0     0.0     0.0     0.0     0.0     0.0     0.0     0.0     0.0     0.0     0.0     0.0     0.0     0.0     0.0     0.0     0.0     0.0     0.0     0.0     0.0     0.0     0.0     0.0     0.0     0.0     0.0     0.0     0.0     0.0     0.0     0.0     0.0     0.0     0.0     0.0     0.0     0.0     0.0     0.0     0.0     0.0     0.0     0.0     0.0     0.0     0.0     0.0     0.0     0.0     0.0     0.0     0.0     0.0     0.0     0.0     0.0     0.0     0.0     0.0     0.0     0.0     0.0     0.0     0.0     0.0     0.0     0.0     0.0     0.0     0.0     0.0     0.0     0.0     0.0     0.0     0.0     0.0     0.0     0.0     0.0     0.0     0.0     0.0     0.0     0.0     0.0     0.0     0.0     0.0     0.0     0.0     0.0     0.0     0.0\n",
      "Zen and the Art of Motorcycle Maintenance: An I...     0.0     0.0     0.0     0.0     0.0     0.0     0.0     0.0     0.0     0.0     0.0     0.0     0.0     0.0     0.0     0.0     0.0     0.0     0.0     0.0     0.0     0.0     0.0  7.000000     0.0     0.0     0.0     0.0     0.0     0.0     0.0     0.0     0.0     0.0     0.0     0.0     0.0     0.0     0.0     0.0     0.0     0.0     0.0     0.0     0.0     0.0     0.0     0.0     0.0     0.0     0.0     0.0     0.0     0.0     0.0     0.0     0.0     0.0     0.0     0.0     0.0     0.0     0.0     0.0     0.0     0.0     0.0     0.0     0.0     0.0     0.0     0.0     0.0     0.0     0.0     0.0     7.0     0.0     0.0     0.0     0.0     0.0     0.0     0.0     0.0     0.0     0.0     0.0     0.0     0.0     0.0     0.0     0.0     0.0     0.0     0.0     0.0     0.0     0.0     0.0     0.0     0.0     0.0     0.0     0.0     0.0     0.0     0.0     0.0     0.0     0.0     0.0     0.0     0.0     0.0     0.0     0.0     0.0     0.0     0.0     0.0    10.0     0.0     0.0     0.0     0.0     0.0     0.0     0.0     0.0     0.0     0.0     0.0     0.0     0.0     0.0     0.0     0.0     0.0     0.0     0.0     0.0     0.0     9.0     0.0     0.0     0.0     0.0     0.0     0.0     0.0     0.0     0.0     0.0     0.0     0.0     0.0     0.0     0.0     0.0     0.0     0.0     0.0     0.0     0.0     0.0     0.0     0.0     0.0     0.0     0.0     0.0     6.0     0.0     0.0     0.0     0.0     0.0     0.0     0.0     0.0     0.0     0.0     0.0     0.0     0.0     0.0     0.0     0.0     0.0     0.0     0.0     0.0     0.0     0.0     0.0     0.0     0.0     0.0     0.0     0.0     0.0     0.0     0.0     0.0     0.0     0.0     0.0     0.0     0.0     0.0     0.0     0.0     0.0     8.0     0.0     0.0     0.0     0.0     0.0     0.0     0.0     0.0     0.0     0.0     0.0     0.0     0.0     0.0     0.0     0.0     0.0     0.0     0.0     0.0     5.0     0.0     0.0     0.0     0.0     0.0     0.0     0.0     0.0     0.0     0.0     0.0     0.0     0.0     6.0     0.0     0.0     0.0     0.0     0.0     0.0     0.0     0.0     0.0     0.0     0.0     0.0     0.0     0.0     0.0     0.0     0.0     0.0     0.0     0.0     0.0     0.0     0.0     0.0     0.0     0.0     0.0     0.0     0.0     0.0     0.0     0.0     0.0     0.0     0.0     0.0     0.0     0.0     0.0     0.0     0.0     0.0     0.0     0.0     0.0     0.0     0.0     0.0     0.0     0.0     9.0     0.0     0.0     0.0     0.0     0.0     0.0     0.0     0.0     0.0     0.0     0.0     0.0     0.0     0.0     0.0     0.0     0.0     0.0     0.0     0.0     0.0     0.0     0.0     0.0     0.0     0.0     0.0     0.0     0.0     0.0     0.0     0.0     0.0     0.0     0.0     0.0     0.0     0.0     0.0     0.0     0.0     0.0     0.0     0.0     0.0     0.0     0.0     0.0     0.0     0.0     0.0     0.0     0.0     0.0     0.0     0.0     0.0     0.0     0.0     0.0     0.0     0.0     0.0     0.0     0.0     0.0     0.0     0.0     0.0     0.0     0.0     0.0     0.0     0.0     0.0     0.0     0.0     0.0     0.0     0.0     0.0     0.0     0.0     0.0     0.0     0.0     0.0     0.0     0.0     0.0     0.0     0.0     0.0     0.0     0.0     9.0     0.0     0.0     0.0     0.0     0.0     0.0     0.0     0.0     0.0     0.0     0.0     0.0     0.0     0.0     0.0     0.0     0.0     0.0     0.0     0.0     0.0     0.0     0.0     0.0     0.0     0.0     0.0     0.0     0.0     0.0     0.0     0.0     0.0    10.0     0.0     0.0     0.0     0.0     0.0     0.0     0.0     0.0     0.0     0.0     0.0     0.0     0.0     0.0     0.0     0.0     0.0     0.0     0.0     0.0     0.0     0.0     0.0     0.0     0.0     0.0     0.0     0.0     0.0     0.0     0.0     0.0     0.0     0.0     0.0     0.0     0.0     0.0     0.0     0.0     0.0     0.0     0.0     0.0     0.0     0.0     0.0     0.0     0.0     0.0     0.0     0.0     0.0     0.0     0.0     0.0     0.0     0.0     0.0     0.0     0.0     0.0     0.0     0.0     0.0     0.0     0.0     0.0     0.0     0.0     0.0     0.0     0.0     0.0     0.0     0.0     0.0     0.0     0.0     0.0     0.0     0.0     0.0     0.0     0.0     0.0     0.0     0.0     0.0     0.0     0.0     0.0     0.0     0.0     0.0     0.0     0.0     0.0     0.0     0.0     0.0     0.0     0.0     0.0     0.0     0.0     0.0     0.0     0.0     0.0     0.0     0.0     0.0     0.0     0.0     0.0     0.0     0.0     0.0     0.0     0.0     0.0     0.0     0.0     0.0     0.0     0.0     0.0     0.0     0.0     0.0     0.0     0.0     0.0     0.0     0.0     0.0     0.0     0.0     0.0     0.0     0.0     0.0     0.0     0.0     0.0     0.0     0.0     0.0     0.0     0.0     0.0     0.0     0.0     0.0     0.0     0.0     8.0     0.0     0.0     0.0     0.0     0.0     0.0     0.0     0.0     0.0     0.0     0.0     0.0     7.0     0.0     0.0     0.0     0.0     0.0     0.0     0.0     0.0     0.0     0.0     0.0     0.0     0.0     0.0     0.0     0.0     0.0     0.0     0.0     2.0     0.0     0.0     0.0     0.0     0.0     0.0     0.0     0.0     0.0     0.0     0.0     0.0     0.0     0.0     0.0     0.0     0.0     0.0     0.0     0.0     0.0     0.0     0.0     0.0     0.0     0.0     0.0     0.0     0.0     0.0     0.0     0.0     0.0     0.0     0.0     0.0     0.0     0.0     0.0     0.0     0.0     0.0     0.0     0.0     0.0     0.0     0.0     0.0     0.0     0.0     0.0     0.0     0.0     0.0     0.0     0.0     0.0     0.0     0.0     0.0     0.0     0.0     7.0     0.0     0.0     0.0     0.0     0.0     0.0     0.0     0.0     0.0     0.0     0.0     9.0     0.0     0.0     0.0     0.0     0.0     0.0     0.0     0.0     0.0     0.0     0.0     0.0     0.0     0.0     0.0     0.0     0.0     0.0     0.0     0.0     0.0     0.0     0.0     0.0     0.0     0.0     0.0     0.0     0.0     0.0     0.0     0.0     0.0     0.0     0.0     0.0     0.0     0.0     0.0     0.0     0.0     0.0     0.0     0.0     0.0     0.0     0.0     0.0     0.0     0.0     0.0     0.0     0.0     0.0     0.0     0.0     0.0     0.0     0.0     0.0     0.0     0.0     0.0     0.0     0.0     0.0     0.0     0.0     0.0     0.0     0.0     0.0     0.0     0.0     0.0     0.0     0.0     0.0     0.0     0.0     0.0     0.0     0.0     0.0     0.0     0.0     0.0     0.0     0.0     0.0     0.0     0.0     0.0     0.0     0.0     0.0     0.0     0.0     0.0     0.0     0.0     0.0     0.0     0.0     0.0     0.0     0.0     0.0     0.0     0.0     0.0     0.0     0.0     0.0     0.0     0.0     0.0     0.0\n",
      "Zoya                                                   0.0     0.0     0.0     0.0     0.0     0.0     0.0     0.0     0.0     0.0     0.0     0.0     0.0     0.0     0.0     0.0     0.0     0.0     0.0     0.0     0.0     0.0     0.0  7.000000     0.0     0.0     0.0     0.0     0.0     0.0    10.0     0.0     0.0     0.0     0.0     0.0     0.0     0.0     6.0     0.0     0.0     0.0     0.0     0.0     0.0     0.0     0.0     0.0     0.0     0.0     0.0     0.0     0.0     0.0     0.0     0.0     0.0     0.0     0.0     0.0     0.0     0.0     0.0     0.0     0.0     0.0     0.0     0.0     0.0     0.0     0.0     0.0     0.0     0.0     0.0     0.0     0.0     0.0     0.0     0.0     0.0     0.0     0.0     0.0     0.0     0.0     0.0     0.0     0.0     0.0     0.0     0.0     0.0     0.0     0.0     0.0     0.0     0.0     0.0     0.0     0.0     0.0     0.0     0.0     0.0     0.0     0.0     0.0     0.0     0.0     0.0     0.0     0.0     0.0     0.0     0.0     0.0     0.0     0.0     0.0     0.0     0.0     0.0     0.0     0.0     0.0     0.0     0.0     0.0     0.0     0.0     0.0     5.0     0.0     0.0     0.0     0.0     0.0     0.0     0.0     0.0     0.0     0.0     0.0     0.0     0.0     0.0     0.0     0.0     0.0     0.0     0.0     0.0     0.0     0.0     0.0     0.0     0.0     0.0     0.0     9.0     0.0     0.0     0.0     0.0     0.0     0.0     0.0     0.0     0.0     0.0     0.0     0.0     0.0     0.0     0.0     0.0     0.0     0.0     0.0     0.0     0.0     0.0     0.0     0.0     0.0     0.0     0.0     0.0     0.0     0.0     0.0     0.0     0.0     0.0     0.0     0.0     0.0     0.0     0.0     0.0     0.0     0.0     0.0     0.0     0.0     0.0     0.0     0.0     0.0     0.0     0.0     0.0     0.0     0.0     0.0     0.0     0.0     0.0     0.0     0.0     0.0     0.0     0.0     0.0     0.0     0.0     0.0     0.0     0.0     0.0     0.0     0.0     0.0     0.0     0.0     0.0     0.0     0.0     0.0     0.0     0.0     0.0     0.0     0.0     0.0     0.0     0.0     0.0     0.0     0.0     0.0     0.0     0.0     0.0     0.0     0.0     0.0     0.0     0.0     0.0     0.0     0.0     0.0     0.0     0.0     0.0     0.0     0.0     0.0     0.0     0.0     0.0     0.0     0.0     0.0     0.0     8.0     0.0     0.0     0.0     0.0     0.0     0.0     0.0     0.0     0.0     0.0     0.0     0.0     0.0     0.0     0.0     0.0     0.0     0.0     0.0     0.0     0.0     0.0     0.0     0.0     0.0     0.0     0.0     0.0     0.0     0.0     0.0     0.0     0.0     0.0     0.0     0.0     0.0     0.0     0.0     0.0     0.0     0.0     0.0     0.0     0.0     0.0     0.0     0.0     0.0     0.0     0.0     0.0     0.0     0.0     0.0     0.0     0.0     0.0     0.0     0.0     0.0     0.0     0.0     0.0     0.0     0.0     0.0     0.0     0.0     0.0     0.0     0.0     0.0     0.0     0.0     0.0     0.0     0.0     0.0     0.0     0.0     0.0     0.0     0.0     0.0     0.0     0.0     0.0     0.0     0.0     2.0     0.0     0.0     0.0     0.0     0.0     0.0     0.0     0.0     0.0     0.0     0.0     0.0     0.0     0.0     0.0     0.0     0.0     0.0     0.0     0.0     0.0     0.0     0.0     0.0     0.0     0.0     0.0     0.0     0.0     0.0     0.0     0.0     0.0     0.0     0.0     0.0     0.0     0.0     0.0     0.0     0.0     0.0     0.0     0.0     0.0     0.0     0.0     0.0     0.0     0.0     0.0     0.0     0.0     0.0     0.0     0.0     0.0     0.0     0.0     0.0     0.0     0.0     0.0     0.0     0.0     0.0     0.0     0.0     8.0     0.0     0.0     0.0     0.0     0.0     0.0     0.0     0.0     0.0     0.0     0.0     0.0     0.0     0.0     0.0     0.0     0.0     0.0     0.0     0.0     0.0     0.0     0.0     0.0     0.0     0.0     0.0     0.0     0.0     0.0     0.0     0.0     0.0     0.0     0.0     0.0     0.0     0.0     0.0     0.0     0.0     0.0     0.0     0.0     0.0     0.0     0.0     0.0     0.0     0.0     0.0     0.0     0.0     0.0     0.0     0.0     0.0     0.0     0.0     0.0     0.0     0.0     0.0     0.0     0.0     0.0     0.0     0.0     0.0     0.0     0.0     0.0     0.0     0.0     0.0     0.0     0.0     0.0     0.0     0.0     0.0     0.0     0.0     0.0     0.0     0.0     0.0     0.0     0.0     0.0     0.0     0.0     0.0     0.0     0.0     0.0     0.0     0.0     0.0     0.0     0.0     0.0     0.0     0.0     0.0     0.0     0.0     0.0     0.0     0.0     0.0     0.0     0.0     0.0     0.0     0.0     0.0     0.0     0.0     0.0     0.0     0.0     0.0     0.0     0.0     0.0     0.0     0.0     0.0     0.0     0.0     0.0     0.0     0.0     0.0     0.0     0.0     0.0     0.0     0.0     0.0     0.0     0.0     0.0     0.0     0.0     0.0     0.0     0.0     0.0     0.0     0.0     0.0     0.0     0.0     0.0     0.0     0.0     0.0     0.0     0.0     0.0     0.0     0.0     0.0     0.0     0.0     0.0     0.0     0.0     0.0     0.0     0.0     0.0     0.0     0.0     0.0     0.0     0.0     0.0     0.0     0.0     9.0     0.0     0.0     0.0     0.0     0.0     0.0     0.0     0.0     0.0     0.0     0.0     0.0     0.0     0.0     0.0     0.0     0.0     0.0     0.0     0.0     0.0     0.0     0.0     0.0     0.0     0.0     0.0     0.0     0.0     0.0     0.0     0.0     0.0     0.0     0.0     0.0     0.0     0.0     0.0     0.0     0.0     0.0     0.0     0.0     0.0     0.0     0.0     0.0     0.0     0.0     0.0     0.0     0.0     0.0     0.0     0.0     0.0     0.0     0.0     0.0     0.0     0.0     0.0     0.0     0.0     0.0     0.0     0.0     0.0     0.0     0.0     0.0     0.0     0.0     0.0     0.0     0.0     0.0     0.0     0.0     0.0     0.0     0.0     0.0     0.0     0.0     0.0     0.0     0.0     0.0     0.0     0.0     0.0     0.0     0.0     0.0     0.0     0.0     0.0     0.0     0.0     0.0     0.0     0.0     0.0     0.0     0.0     0.0     0.0     0.0     0.0     0.0     0.0     0.0     0.0     0.0     0.0     0.0     0.0     0.0     0.0     0.0     0.0     0.0     0.0     0.0     0.0     0.0     0.0     0.0     0.0     0.0     0.0     0.0     0.0     0.0     0.0     0.0     0.0     0.0     0.0     0.0     0.0     0.0     0.0     0.0     0.0     0.0     0.0     0.0     0.0     0.0     0.0     0.0     0.0     0.0     0.0     0.0     0.0     0.0     0.0     0.0     0.0     0.0     0.0     0.0     0.0     0.0     0.0     0.0     0.0     0.0     0.0     0.0     0.0     0.0     0.0     0.0     0.0     0.0     0.0     0.0     0.0     0.0     0.0     0.0     0.0     0.0     0.0     0.0     0.0     0.0     0.0     0.0\n",
      "\\O\\\" Is for Outlaw\"                                    0.0     0.0     0.0     0.0     0.0     0.0     0.0     0.0     0.0     0.0     0.0     0.0     0.0     0.0     8.0     0.0     0.0     0.0     0.0     0.0     0.0     0.0     0.0  3.500000     0.0     0.0     0.0     0.0     0.0     0.0     0.0     0.0     0.0     0.0     0.0     0.0     0.0     0.0     0.0     0.0     0.0     0.0     0.0     0.0     0.0     0.0     0.0     0.0     0.0     0.0     0.0     0.0     0.0     0.0     0.0     0.0     0.0     0.0     0.0     0.0     0.0     0.0     0.0     0.0     0.0     0.0     0.0     0.0     0.0     0.0     0.0     0.0     0.0     0.0     0.0     0.0     0.0     0.0     0.0    10.0     0.0     0.0     0.0     0.0     0.0     0.0     0.0     0.0     0.0     0.0     0.0     0.0     0.0     0.0     0.0     0.0     2.5     0.0     0.0     0.0     0.0     0.0     0.0     0.0     5.0     0.0     0.0     0.0     0.0     0.0     0.0     0.0     0.0     0.0     0.0     0.0     0.0     0.0     0.0     0.0     0.0     0.0     0.0     0.0     0.0     0.0     0.0     0.0     0.0     0.0     0.0     0.0     0.0     0.0     0.0     0.0     0.0     6.0     0.0     0.0     0.0     0.0     0.0     0.0     0.0     0.0     0.0     0.0     0.0     0.0     0.0     0.0     0.0     0.0     0.0     0.0     0.0     0.0     0.0     0.0     0.0     0.0     0.0     0.0     0.0     0.0     0.0     0.0     0.0     0.0     0.0     0.0     0.0     0.0     0.0     0.0     0.0     0.0     0.0     0.0     0.0     0.0     0.0     0.0     0.0     0.0     0.0     0.0     0.0     0.0     0.0     0.0     0.0     0.0     0.0     0.0     0.0     0.0     0.0     0.0     0.0     0.0     0.0     0.0     0.0     0.0     0.0     0.0     0.0     0.0     0.0     0.0     0.0     0.0     0.0     7.0     0.0     0.0     0.0     0.0     0.0     0.0     0.0     0.0     0.0     0.0     0.0     0.0     0.0     0.0     0.0     0.0     0.0     0.0     0.0     0.0     0.0     0.0     0.0     0.0     0.0     0.0     0.0     0.0     0.0     0.0     0.0     0.0     0.0     0.0     0.0     0.0     0.0     0.0     0.0     0.0     0.0     0.0     0.0     0.0     0.0     0.0     0.0     0.0     0.0     0.0     8.0     0.0     0.0     0.0     0.0     0.0     0.0     0.0     0.0     0.0     0.0     9.0     0.0     0.0     0.0     0.0     0.0     0.0     0.0     0.0     0.0     0.0     0.0     0.0     0.0     0.0     0.0     0.0     0.0    10.0     0.0     0.0     0.0     0.0     0.0     0.0     0.0     0.0     0.0     0.0     0.0     0.0     0.0     0.0     0.0     0.0     0.0     0.0     0.0     0.0     0.0     0.0     0.0     0.0     0.0     0.0     0.0     0.0     0.0     0.0     0.0     0.0     0.0     0.0     0.0     0.0     0.0     0.0     0.0    10.0     0.0     0.0     0.0     0.0     0.0     0.0     0.0     0.0     0.0     0.0     0.0     0.0     0.0     0.0     0.0     9.0     0.0     0.0     0.0     0.0     0.0     0.0     0.0     0.0     0.0     0.0     0.0     0.0     0.0     0.0     0.0     0.0     0.0     0.0     0.0     0.0     0.0     0.0     0.0     0.0     0.0     0.0     0.0     0.0     0.0     0.0     0.0     0.0     0.0     0.0     0.0     0.0     0.0     0.0     0.0     0.0     0.0     0.0     0.0     0.0     0.0     0.0     0.0     0.0     0.0     0.0     0.0     7.0     0.0     0.0     0.0     9.0     0.0     0.0     0.0     0.0     0.0     0.0     0.0     0.0     0.0     0.0     0.0     0.0     0.0     0.0     0.0     0.0     0.0     0.0     0.0     0.0     0.0     0.0     0.0     0.0     0.0     0.0     0.0     0.0     0.0     0.0     7.0     0.0     0.0     0.0     3.0     0.0     0.0     0.0     0.0     0.0     0.0    10.0     0.0     0.0     0.0     0.0     0.0     8.0     0.0     0.0     0.0     0.0     0.0     0.0     0.0     0.0     0.0     0.0     0.0     0.0     0.0     0.0     0.0     0.0     0.0     0.0     0.0     0.0     0.0     0.0     0.0     0.0     0.0     0.0     0.0     0.0     0.0     0.0     0.0     0.0     0.0     0.0    10.0     0.0     0.0     0.0     0.0     0.0     0.0     0.0     0.0     0.0     0.0     0.0     0.0     0.0     0.0     0.0     0.0     0.0     0.0     0.0     0.0     0.0     0.0     0.0     0.0     0.0     0.0     0.0     0.0     0.0     0.0     0.0     0.0     0.0     0.0     0.0     0.0     0.0     0.0     0.0     0.0     0.0     8.0     0.0     0.0     0.0     0.0     0.0     0.0     0.0     0.0     0.0     0.0     0.0     0.0     0.0     0.0     0.0     0.0     0.0     0.0     0.0     0.0     0.0     0.0     0.0     0.0     0.0     0.0     0.0     0.0     0.0     0.0     0.0     0.0     0.0     0.0     0.0     0.0     0.0     0.0     0.0     0.0     0.0     0.0     0.0     0.0     0.0     0.0     0.0     0.0     0.0     0.0     0.0     0.0     0.0     0.0     0.0     0.0     0.0     0.0     0.0     0.0     0.0     0.0     0.0     0.0     0.0     0.0     0.0     0.0     0.0     0.0     0.0     0.0     0.0     0.0     0.0     0.0     0.0     0.0     0.0     0.0     0.0     0.0     0.0     0.0     0.0     0.0     0.0     0.0     0.0     0.0     0.0     0.0     0.0     0.0     0.0     0.0     0.0     0.0     0.0     0.0     0.0     0.0     0.0     0.0     0.0    10.0     0.0     0.0     0.0     0.0     0.0     0.0     0.0     0.0     0.0     0.0     0.0     0.0     8.0     0.0     0.0     0.0     0.0     0.0     0.0     0.0     0.0     0.0     0.0     0.0     0.0     0.0     0.0     0.0     0.0     0.0     0.0     0.0     0.0     0.0     0.0     0.0     0.0     0.0     0.0     0.0     0.0     0.0     0.0    10.0     0.0     0.0     0.0     0.0     0.0     0.0     0.0     0.0     0.0     0.0     0.0     0.0     0.0     0.0     0.0     0.0     0.0     0.0     0.0     0.0     0.0     0.0     0.0     0.0     0.0     0.0     0.0     0.0     0.0     0.0     0.0     0.0     0.0     0.0     0.0     0.0     0.0     0.0     0.0     0.0     0.0     0.0     0.0     0.0     0.0     0.0     0.0     0.0     0.0     0.0     0.0     0.0     0.0     0.0     0.0     0.0     0.0     0.0     0.0     0.0     0.0     0.0     0.0     0.0     0.0     0.0     0.0     0.0     0.0     0.0     0.0     0.0     0.0     0.0     0.0     0.0     0.0     0.0     0.0     0.0     0.0     9.0     0.0     0.0     0.0     0.0     0.0     0.0     0.0     0.0     0.0     0.0     0.0     0.0     0.0     0.0     0.0     0.0     0.0     0.0     0.0     0.0     0.0     0.0     0.0     0.0     0.0     0.0     0.0     0.0     0.0     0.0     0.0     0.0     0.0     0.0     0.0     0.0     0.0     0.0     0.0     0.0     0.0     0.0     0.0     0.0     8.0     0.0     0.0     0.0     0.0     0.0\n",
      "\n",
      "[683 rows x 815 columns]\n"
     ]
    }
   ],
   "source": [
    "pt.fillna(0, inplace=True)\n",
    "print(pt)"
   ]
  },
  {
   "cell_type": "code",
   "execution_count": 62,
   "id": "29833c3e",
   "metadata": {},
   "outputs": [
    {
     "name": "stdout",
     "output_type": "stream",
     "text": [
      "(683, 683)\n"
     ]
    }
   ],
   "source": [
    "from sklearn.metrics.pairwise import cosine_similarity\n",
    "\n",
    "similarity_score = cosine_similarity(pt)\n",
    "print(similarity_score.shape)  # Should be (number of books, number of books)"
   ]
  },
  {
   "cell_type": "code",
   "execution_count": 65,
   "id": "6f51f7f3",
   "metadata": {},
   "outputs": [
    {
     "name": "stdout",
     "output_type": "stream",
     "text": [
      "[['1984', 'George Orwell', 'http://images.amazon.com/images/P/0451524934.01.MZZZZZZZ.jpg']]\n",
      "[['1984', 'George Orwell', 'http://images.amazon.com/images/P/0451524934.01.MZZZZZZZ.jpg'], ['Angus, Thongs and Full-Frontal Snogging: Confessions of Georgia Nicolson', 'Louise Rennison', 'http://images.amazon.com/images/P/0064472272.01.MZZZZZZZ.jpg']]\n",
      "[['1984', 'George Orwell', 'http://images.amazon.com/images/P/0451524934.01.MZZZZZZZ.jpg'], ['Angus, Thongs and Full-Frontal Snogging: Confessions of Georgia Nicolson', 'Louise Rennison', 'http://images.amazon.com/images/P/0064472272.01.MZZZZZZZ.jpg'], ['Midnight', 'Dean R. Koontz', 'http://images.amazon.com/images/P/0425118703.01.MZZZZZZZ.jpg']]\n",
      "[['1984', 'George Orwell', 'http://images.amazon.com/images/P/0451524934.01.MZZZZZZZ.jpg'], ['Angus, Thongs and Full-Frontal Snogging: Confessions of Georgia Nicolson', 'Louise Rennison', 'http://images.amazon.com/images/P/0064472272.01.MZZZZZZZ.jpg'], ['Midnight', 'Dean R. Koontz', 'http://images.amazon.com/images/P/0425118703.01.MZZZZZZZ.jpg'], ['Call of the Wild', 'Jack London', 'http://images.amazon.com/images/P/1559029838.01.MZZZZZZZ.jpg']]\n",
      "[['1984', 'George Orwell', 'http://images.amazon.com/images/P/0451524934.01.MZZZZZZZ.jpg'], ['Angus, Thongs and Full-Frontal Snogging: Confessions of Georgia Nicolson', 'Louise Rennison', 'http://images.amazon.com/images/P/0064472272.01.MZZZZZZZ.jpg'], ['Midnight', 'Dean R. Koontz', 'http://images.amazon.com/images/P/0425118703.01.MZZZZZZZ.jpg'], ['Call of the Wild', 'Jack London', 'http://images.amazon.com/images/P/1559029838.01.MZZZZZZZ.jpg'], ['Naked', 'David Sedaris', 'http://images.amazon.com/images/P/0316777730.01.MZZZZZZZ.jpg']]\n",
      "[['1984', 'George Orwell', 'http://images.amazon.com/images/P/0451524934.01.MZZZZZZZ.jpg'], ['Angus, Thongs and Full-Frontal Snogging: Confessions of Georgia Nicolson', 'Louise Rennison', 'http://images.amazon.com/images/P/0064472272.01.MZZZZZZZ.jpg'], ['Midnight', 'Dean R. Koontz', 'http://images.amazon.com/images/P/0425118703.01.MZZZZZZZ.jpg'], ['Call of the Wild', 'Jack London', 'http://images.amazon.com/images/P/1559029838.01.MZZZZZZZ.jpg'], ['Naked', 'David Sedaris', 'http://images.amazon.com/images/P/0316777730.01.MZZZZZZZ.jpg'], ['Lord of the Flies', 'William Gerald Golding', 'http://images.amazon.com/images/P/0399501487.01.MZZZZZZZ.jpg']]\n"
     ]
    }
   ],
   "source": [
    "def get_book_recommendations(book_name):\n",
    "    if book_name not in pt.index:\n",
    "        return \"Book not found in the dataset.\"\n",
    "    # Get the index of the book\n",
    "    index = np.where(pt.index == book_name)[0][0]\n",
    "    # Get the similarity scores for the book\n",
    "    distance = similarity_score[index]\n",
    "    \n",
    "    # Get the indices of the books sorted by similarity score\n",
    "    similar_item = sorted(list(enumerate(distance)), key=lambda x: x[1], reverse=True)[1:7]  # Exclude the book itself\n",
    "\n",
    "    data =[]\n",
    "    \n",
    "    for i in similar_item:\n",
    "        item = []\n",
    "        temp_df = books[books['Book-Title'] == pt.index[i[0]]]\n",
    "        item.append(temp_df.drop_duplicates(\"Book-Title\")['Book-Title'].values[0])\n",
    "        item.append(temp_df.drop_duplicates(\"Book-Title\")['Book-Author'].values[0])\n",
    "        item.append(temp_df.drop_duplicates(\"Book-Title\")['Image-URL-M'].values[0])\n",
    "\n",
    "        data.append(item)\n",
    "\n",
    "        print(data)\n",
    "\n",
    "    \n",
    "    \n",
    "\n",
    "\n",
    "get_book_recommendations('Animal Farm')  # Example book name"
   ]
  },
  {
   "cell_type": "code",
   "execution_count": null,
   "id": "a29d802a",
   "metadata": {},
   "outputs": [],
   "source": [
    "import pickle\n",
    "pickle.dump(popular_books,open('popular.pkl','wb'))"
   ]
  },
  {
   "cell_type": "code",
   "execution_count": 67,
   "id": "30801ee0",
   "metadata": {},
   "outputs": [],
   "source": [
    "import pickle\n",
    "pickle.dump(pt,open('pt.pkl','wb'))\n",
    "pickle.dump(books,open('books.pkl','wb'))\n",
    "pickle.dump(similarity_score,open('similarity_score.pkl','wb'))"
   ]
  },
  {
   "cell_type": "code",
   "execution_count": null,
   "id": "5033d5d3",
   "metadata": {},
   "outputs": [],
   "source": []
  },
  {
   "cell_type": "markdown",
   "id": "63a83a0b",
   "metadata": {},
   "source": []
  }
 ],
 "metadata": {
  "kernelspec": {
   "display_name": "python_ml",
   "language": "python",
   "name": "python3"
  },
  "language_info": {
   "codemirror_mode": {
    "name": "ipython",
    "version": 3
   },
   "file_extension": ".py",
   "mimetype": "text/x-python",
   "name": "python",
   "nbconvert_exporter": "python",
   "pygments_lexer": "ipython3",
   "version": "3.10.16"
  }
 },
 "nbformat": 4,
 "nbformat_minor": 5
}
